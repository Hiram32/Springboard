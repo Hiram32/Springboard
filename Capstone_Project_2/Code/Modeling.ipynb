{
 "cells": [
  {
   "attachments": {},
   "cell_type": "markdown",
   "metadata": {},
   "source": [
    "[First](#First)  \n",
    "[Second](#Second)  \n",
    "[Training](#Training)  \n",
    "[Imbalance](#Imbalance)"
   ]
  },
  {
   "cell_type": "markdown",
   "metadata": {},
   "source": [
    "# First"
   ]
  },
  {
   "cell_type": "code",
   "execution_count": null,
   "metadata": {},
   "outputs": [],
   "source": [
    "import numpy as np\n",
    "import pandas as pd\n",
    "import matplotlib.pyplot as plt\n",
    "import pickle\n",
    "from scipy import sparse\n",
    "from sklearn.base import BaseEstimator, TransformerMixin\n",
    "from sklearn.preprocessing import QuantileTransformer, StandardScaler\n",
    "from sklearn.linear_model import LogisticRegression\n",
    "from sklearn.metrics import classification_report, RocCurveDisplay, ConfusionMatrixDisplay\n",
    "from sklearn.model_selection import cross_val_score\n",
    "from sklearn.pipeline import Pipeline\n",
    "import random\n",
    "import os"
   ]
  },
  {
   "cell_type": "code",
   "execution_count": null,
   "metadata": {},
   "outputs": [],
   "source": [
    "with open('../Data/preprocessed.pkl.zip', 'rb') as f:\n",
    "    _ = pickle.load(f)\n",
    "    col_names = pickle.load(f)\n",
    "    X = pickle.load(f)\n",
    "    y = pickle.load(f)\n",
    "    cat_slice = pickle.load(f)\n",
    "    skewed_slice = pickle.load(f)\n",
    "    non_skewed_slice = pickle.load(f)\n",
    "    '''\n",
    "    X_train = pickle.load(f)\n",
    "    X_test = pickle.load(f)\n",
    "    y_train = pickle.load(f)\n",
    "    y_test = pickle.load(f)\n",
    "    '''    "
   ]
  },
  {
   "cell_type": "code",
   "execution_count": null,
   "metadata": {},
   "outputs": [],
   "source": [
    "col_names, X.shape, y.shape, cat_slice, skewed_slice, non_skewed_slice"
   ]
  },
  {
   "cell_type": "code",
   "execution_count": null,
   "metadata": {},
   "outputs": [],
   "source": [
    "class CustomTransformer(BaseEstimator, TransformerMixin):\n",
    "    def fit(self, X, y=None):\n",
    "        return self\n",
    "    def transform(self, X, y=None):\n",
    "        #X_cat = X[:, cat_slice]\n",
    "        #X_skewed = X[:, skewed_slice]\n",
    "        #X_non_skewed = X[:, non_skewed_slice]\n",
    "        \n",
    "        #q_transformer = QuantileTransformer()\n",
    "        #q_transformer.fit(X_skewed)\n",
    "\n",
    "        X = sparse.hstack([X[:, cat_slice], QuantileTransformer().fit_transform(X[:, skewed_slice]), X[:, non_skewed_slice]], format='csr')\n",
    "        \n",
    "        #Making the matrices dense\n",
    "        #X_non_skewed_dense = X_non_skewed.toarray()\n",
    "\n",
    "        #Initializing and fitting the scaler\n",
    "        #scaler = StandardScaler()\n",
    "        #scaler.fit(X_non_skewed_dense)\n",
    "\n",
    "        #Applying the scaling t+\n",
    "        # eo the dense matrices\n",
    "        #X_non_skewed_dense = scaler.transform(X_non_skewed_dense)\n",
    "\n",
    "        #Making the matrices sparse again\n",
    "        #X_non_skewed = sparse.csr_matrix(X_non_skewed_dense)\n",
    "        \n",
    "        #X_non_skewed = sparse.csr_matrix(StandardScaler().fit_transform(X[:, non_skewed_slice].toarray())) \n",
    "        X = sparse.hstack([X[:, cat_slice], X[:, skewed_slice], sparse.csr_matrix(StandardScaler().fit_transform(X[:, non_skewed_slice].toarray()))], format='csr')\n",
    "        \n",
    "        #del X_non_skewed\n",
    "        \n",
    "        #X = sparse.hstack([X_cat, X_skewed, X_non_skewed])\n",
    "        \n",
    "        return X"
   ]
  },
  {
   "cell_type": "code",
   "execution_count": null,
   "metadata": {},
   "outputs": [],
   "source": [
    "pipeline = Pipeline([('transformation', CustomTransformer()), ('log_regression', LogisticRegression(max_iter=10000))])"
   ]
  },
  {
   "cell_type": "code",
   "execution_count": null,
   "metadata": {},
   "outputs": [],
   "source": [
    "%%time\n",
    "\n",
    "cv_scores = cross_val_score(pipeline, X, y, scoring='roc_auc')"
   ]
  },
  {
   "cell_type": "code",
   "execution_count": null,
   "metadata": {},
   "outputs": [],
   "source": [
    "path = '../Data/first_log_model.pkl'\n",
    "if not os.path.exists(path):\n",
    "    logistic_regressor = LogisticRegression(max_iter=10000)\n",
    "    logistic_regressor.fit(X_train, y_train)\n",
    "    with open(path, 'wb') as f:\n",
    "        pickle.dump(logistic_regressor, f)\n",
    "else:\n",
    "    with open(path, 'rb') as f:\n",
    "        logistic_regressor = pickle.load(f)"
   ]
  },
  {
   "cell_type": "code",
   "execution_count": null,
   "metadata": {},
   "outputs": [],
   "source": [
    "y_pred = logistic_regressor.predict(X_test)\n",
    "print(classification_report(y_test, y_pred))"
   ]
  },
  {
   "cell_type": "code",
   "execution_count": null,
   "metadata": {},
   "outputs": [],
   "source": [
    "ConfusionMatrixDisplay.from_predictions(y_test, y_pred, normalize='true')\n",
    "plt.show()"
   ]
  },
  {
   "cell_type": "code",
   "execution_count": null,
   "metadata": {},
   "outputs": [],
   "source": [
    "y_pred_rand = [random.uniform(0, 1) for x in y_test]\n",
    "RocCurveDisplay.from_predictions(y_test, y_pred_rand)\n",
    "plt.show()"
   ]
  },
  {
   "cell_type": "code",
   "execution_count": null,
   "metadata": {},
   "outputs": [],
   "source": [
    "y_pred_prob = logistic_regressor.predict_proba(X_test)[:, 1]\n",
    "RocCurveDisplay.from_predictions(y_train_train_train_test, y_pred_prob)\n",
    "plt.show()"
   ]
  },
  {
   "cell_type": "code",
   "execution_count": null,
   "metadata": {},
   "outputs": [],
   "source": [
    "def plot_logistic_feature_importance(coefficients, feature_names, number):\n",
    "    coef_enum = enumerate(coefficients)\n",
    "    coef_enum_sorted_top = sorted(coef_enum, key=lambda x: abs(x[1]), reverse=True)[:number]\n",
    "    \n",
    "    indices = list(list(zip(*coef_enum_sorted_top))[0])\n",
    "    names = feature_names[indices]\n",
    "    top_coef = np.array(list(zip(*coef_enum_sorted_top))[1])\n",
    "    \n",
    "    neg_pos = np.where(top_coef < 0)[0]\n",
    "    pos_pos = np.where(top_coef >= 0)[0]\n",
    "    neg_coef = top_coef[neg_pos]\n",
    "    pos_coef = top_coef[pos_pos]\n",
    "    neg_names = names[neg_pos]\n",
    "    pos_names = names[pos_pos]\n",
    "    \n",
    "    _, ax = plt.subplots()\n",
    "    \n",
    "    ax.bar(neg_pos, np.abs(neg_coef), color='r', label='negative')\n",
    "    ax.bar(pos_pos, np.abs(pos_coef), color='b', label='positive')\n",
    "    ax.set_xticks(range(0, len(names)))\n",
    "    ax.set_xticklabels(names, rotation=90)\n",
    "    ax.set_title('Top Features by Absolute Value of Model Coefficient')\n",
    "    ax.set_ylabel('Feature Coefficient')\n",
    "    ax.set_xlabel('Features')\n",
    "    \n",
    "    ax.legend()\n",
    "    plt.show()"
   ]
  },
  {
   "cell_type": "code",
   "execution_count": null,
   "metadata": {},
   "outputs": [],
   "source": [
    "plot_logistic_feature_importance(logistic_regressor.coef_[0], col_names, 20)"
   ]
  },
  {
   "cell_type": "code",
   "execution_count": null,
   "metadata": {},
   "outputs": [],
   "source": [
    "cv_score_list = cross_val_score(logistic_regressor, X_train, y_train, scoring='roc_auc')\n",
    "print(f'CV scores: {cv_score_list}\\nAverage: {cv_score_list.mean()}\\nStandard Deviation: {cross_val_score.std()}')"
   ]
  },
  {
   "cell_type": "code",
   "execution_count": null,
   "metadata": {},
   "outputs": [],
   "source": [
    "print(f'CV Scores: {cv_score_list}\\nAverage: {cv_score_list.mean()}\\nStandard Deviation: {cv_score_list.std()}')"
   ]
  },
  {
   "cell_type": "markdown",
   "metadata": {},
   "source": [
    "# Second"
   ]
  },
  {
   "cell_type": "code",
   "execution_count": 2,
   "metadata": {},
   "outputs": [],
   "source": [
    "import numpy as np\n",
    "import pandas as pd\n",
    "import matplotlib.pyplot as plt\n",
    "import pickle\n",
    "from scipy import sparse\n",
    "from collections import Counter\n",
    "from sklearn.base import BaseEstimator, TransformerMixin\n",
    "from sklearn.preprocessing import QuantileTransformer, StandardScaler, OneHotEncoder\n",
    "from sklearn.compose import ColumnTransformer\n",
    "from sklearn.linear_model import LogisticRegression\n",
    "from sklearn.metrics import classification_report, RocCurveDisplay, roc_curve, ConfusionMatrixDisplay\n",
    "from sklearn.model_selection import cross_val_score, train_test_split, cross_validate\n",
    "from sklearn.pipeline import Pipeline\n",
    "import random\n",
    "import os"
   ]
  },
  {
   "cell_type": "code",
   "execution_count": 2,
   "metadata": {},
   "outputs": [],
   "source": [
    "path = '../Data/df_clean_null.pkl'\n",
    "df = pd.read_pickle(path)"
   ]
  },
  {
   "cell_type": "code",
   "execution_count": 3,
   "metadata": {},
   "outputs": [],
   "source": [
    "feature_names = ['_RFHLTH', '_HCVU651', '_RFHYPE5', '_RFCHOL', '_ASTHMS1', '_DRDXAR1', '_RACEGR3', '_AGE_G', '_BMI5CAT', '_EDUCAG', '_INCOMG', '_SMOKER3',\\\n",
    "    '_RFDRHV5', '_PACAT1', '_RFSEAT2', '_FLSHOT6', '_PNEUMO2', '_AIDTST3', 'CHCCOPD1', 'ADDEPEV2', 'CHCKIDNY', 'DIABETE3', 'SEX', 'MARITAL', 'DRADVISE']\n",
    "target_name = ['_MICHD']\n",
    "weights_name = ['_LLCPWT'] "
   ]
  },
  {
   "cell_type": "code",
   "execution_count": 4,
   "metadata": {},
   "outputs": [
    {
     "data": {
      "text/html": [
       "<div>\n",
       "<style scoped>\n",
       "    .dataframe tbody tr th:only-of-type {\n",
       "        vertical-align: middle;\n",
       "    }\n",
       "\n",
       "    .dataframe tbody tr th {\n",
       "        vertical-align: top;\n",
       "    }\n",
       "\n",
       "    .dataframe thead th {\n",
       "        text-align: right;\n",
       "    }\n",
       "</style>\n",
       "<table border=\"1\" class=\"dataframe\">\n",
       "  <thead>\n",
       "    <tr style=\"text-align: right;\">\n",
       "      <th></th>\n",
       "      <th>_RFHLTH</th>\n",
       "      <th>_HCVU651</th>\n",
       "      <th>_RFHYPE5</th>\n",
       "      <th>_RFCHOL</th>\n",
       "      <th>_ASTHMS1</th>\n",
       "      <th>_DRDXAR1</th>\n",
       "      <th>_RACEGR3</th>\n",
       "      <th>_AGE_G</th>\n",
       "      <th>_BMI5CAT</th>\n",
       "      <th>_EDUCAG</th>\n",
       "      <th>...</th>\n",
       "      <th>_AIDTST3</th>\n",
       "      <th>CHCCOPD1</th>\n",
       "      <th>ADDEPEV2</th>\n",
       "      <th>CHCKIDNY</th>\n",
       "      <th>DIABETE3</th>\n",
       "      <th>SEX</th>\n",
       "      <th>MARITAL</th>\n",
       "      <th>DRADVISE</th>\n",
       "      <th>_MICHD</th>\n",
       "      <th>_LLCPWT</th>\n",
       "    </tr>\n",
       "  </thead>\n",
       "  <tbody>\n",
       "    <tr>\n",
       "      <th>0</th>\n",
       "      <td>2.0</td>\n",
       "      <td>1.0</td>\n",
       "      <td>2.0</td>\n",
       "      <td>2.0</td>\n",
       "      <td>1.0</td>\n",
       "      <td>1.0</td>\n",
       "      <td>1.0</td>\n",
       "      <td>5.0</td>\n",
       "      <td>4.0</td>\n",
       "      <td>2.0</td>\n",
       "      <td>...</td>\n",
       "      <td>1.0</td>\n",
       "      <td>1.0</td>\n",
       "      <td>1.0</td>\n",
       "      <td>2.0</td>\n",
       "      <td>3.0</td>\n",
       "      <td>2.0</td>\n",
       "      <td>1.0</td>\n",
       "      <td>NaN</td>\n",
       "      <td>2.0</td>\n",
       "      <td>341.384853</td>\n",
       "    </tr>\n",
       "    <tr>\n",
       "      <th>1</th>\n",
       "      <td>1.0</td>\n",
       "      <td>2.0</td>\n",
       "      <td>1.0</td>\n",
       "      <td>1.0</td>\n",
       "      <td>3.0</td>\n",
       "      <td>2.0</td>\n",
       "      <td>1.0</td>\n",
       "      <td>4.0</td>\n",
       "      <td>3.0</td>\n",
       "      <td>4.0</td>\n",
       "      <td>...</td>\n",
       "      <td>2.0</td>\n",
       "      <td>2.0</td>\n",
       "      <td>2.0</td>\n",
       "      <td>2.0</td>\n",
       "      <td>3.0</td>\n",
       "      <td>2.0</td>\n",
       "      <td>2.0</td>\n",
       "      <td>2.0</td>\n",
       "      <td>2.0</td>\n",
       "      <td>108.060903</td>\n",
       "    </tr>\n",
       "    <tr>\n",
       "      <th>2</th>\n",
       "      <td>2.0</td>\n",
       "      <td>9.0</td>\n",
       "      <td>1.0</td>\n",
       "      <td>2.0</td>\n",
       "      <td>3.0</td>\n",
       "      <td>1.0</td>\n",
       "      <td>1.0</td>\n",
       "      <td>6.0</td>\n",
       "      <td>2.0</td>\n",
       "      <td>2.0</td>\n",
       "      <td>...</td>\n",
       "      <td>NaN</td>\n",
       "      <td>2.0</td>\n",
       "      <td>2.0</td>\n",
       "      <td>2.0</td>\n",
       "      <td>3.0</td>\n",
       "      <td>2.0</td>\n",
       "      <td>2.0</td>\n",
       "      <td>NaN</td>\n",
       "      <td>NaN</td>\n",
       "      <td>255.264797</td>\n",
       "    </tr>\n",
       "    <tr>\n",
       "      <th>3</th>\n",
       "      <td>2.0</td>\n",
       "      <td>1.0</td>\n",
       "      <td>2.0</td>\n",
       "      <td>2.0</td>\n",
       "      <td>3.0</td>\n",
       "      <td>1.0</td>\n",
       "      <td>1.0</td>\n",
       "      <td>5.0</td>\n",
       "      <td>3.0</td>\n",
       "      <td>2.0</td>\n",
       "      <td>...</td>\n",
       "      <td>9.0</td>\n",
       "      <td>2.0</td>\n",
       "      <td>1.0</td>\n",
       "      <td>2.0</td>\n",
       "      <td>3.0</td>\n",
       "      <td>2.0</td>\n",
       "      <td>1.0</td>\n",
       "      <td>2.0</td>\n",
       "      <td>2.0</td>\n",
       "      <td>341.384853</td>\n",
       "    </tr>\n",
       "    <tr>\n",
       "      <th>4</th>\n",
       "      <td>2.0</td>\n",
       "      <td>1.0</td>\n",
       "      <td>1.0</td>\n",
       "      <td>1.0</td>\n",
       "      <td>3.0</td>\n",
       "      <td>1.0</td>\n",
       "      <td>1.0</td>\n",
       "      <td>5.0</td>\n",
       "      <td>2.0</td>\n",
       "      <td>3.0</td>\n",
       "      <td>...</td>\n",
       "      <td>1.0</td>\n",
       "      <td>2.0</td>\n",
       "      <td>2.0</td>\n",
       "      <td>2.0</td>\n",
       "      <td>3.0</td>\n",
       "      <td>2.0</td>\n",
       "      <td>1.0</td>\n",
       "      <td>2.0</td>\n",
       "      <td>2.0</td>\n",
       "      <td>258.682223</td>\n",
       "    </tr>\n",
       "    <tr>\n",
       "      <th>...</th>\n",
       "      <td>...</td>\n",
       "      <td>...</td>\n",
       "      <td>...</td>\n",
       "      <td>...</td>\n",
       "      <td>...</td>\n",
       "      <td>...</td>\n",
       "      <td>...</td>\n",
       "      <td>...</td>\n",
       "      <td>...</td>\n",
       "      <td>...</td>\n",
       "      <td>...</td>\n",
       "      <td>...</td>\n",
       "      <td>...</td>\n",
       "      <td>...</td>\n",
       "      <td>...</td>\n",
       "      <td>...</td>\n",
       "      <td>...</td>\n",
       "      <td>...</td>\n",
       "      <td>...</td>\n",
       "      <td>...</td>\n",
       "      <td>...</td>\n",
       "    </tr>\n",
       "    <tr>\n",
       "      <th>441451</th>\n",
       "      <td>2.0</td>\n",
       "      <td>9.0</td>\n",
       "      <td>2.0</td>\n",
       "      <td>2.0</td>\n",
       "      <td>3.0</td>\n",
       "      <td>1.0</td>\n",
       "      <td>5.0</td>\n",
       "      <td>6.0</td>\n",
       "      <td>1.0</td>\n",
       "      <td>1.0</td>\n",
       "      <td>...</td>\n",
       "      <td>2.0</td>\n",
       "      <td>2.0</td>\n",
       "      <td>2.0</td>\n",
       "      <td>2.0</td>\n",
       "      <td>1.0</td>\n",
       "      <td>2.0</td>\n",
       "      <td>3.0</td>\n",
       "      <td>1.0</td>\n",
       "      <td>2.0</td>\n",
       "      <td>531.980410</td>\n",
       "    </tr>\n",
       "    <tr>\n",
       "      <th>441452</th>\n",
       "      <td>1.0</td>\n",
       "      <td>1.0</td>\n",
       "      <td>1.0</td>\n",
       "      <td>1.0</td>\n",
       "      <td>3.0</td>\n",
       "      <td>2.0</td>\n",
       "      <td>5.0</td>\n",
       "      <td>2.0</td>\n",
       "      <td>3.0</td>\n",
       "      <td>3.0</td>\n",
       "      <td>...</td>\n",
       "      <td>1.0</td>\n",
       "      <td>2.0</td>\n",
       "      <td>2.0</td>\n",
       "      <td>2.0</td>\n",
       "      <td>3.0</td>\n",
       "      <td>2.0</td>\n",
       "      <td>1.0</td>\n",
       "      <td>2.0</td>\n",
       "      <td>2.0</td>\n",
       "      <td>746.416599</td>\n",
       "    </tr>\n",
       "    <tr>\n",
       "      <th>441453</th>\n",
       "      <td>2.0</td>\n",
       "      <td>9.0</td>\n",
       "      <td>2.0</td>\n",
       "      <td>2.0</td>\n",
       "      <td>3.0</td>\n",
       "      <td>2.0</td>\n",
       "      <td>5.0</td>\n",
       "      <td>6.0</td>\n",
       "      <td>4.0</td>\n",
       "      <td>2.0</td>\n",
       "      <td>...</td>\n",
       "      <td>NaN</td>\n",
       "      <td>2.0</td>\n",
       "      <td>2.0</td>\n",
       "      <td>2.0</td>\n",
       "      <td>3.0</td>\n",
       "      <td>2.0</td>\n",
       "      <td>1.0</td>\n",
       "      <td>NaN</td>\n",
       "      <td>2.0</td>\n",
       "      <td>207.663634</td>\n",
       "    </tr>\n",
       "    <tr>\n",
       "      <th>441454</th>\n",
       "      <td>1.0</td>\n",
       "      <td>1.0</td>\n",
       "      <td>2.0</td>\n",
       "      <td>1.0</td>\n",
       "      <td>3.0</td>\n",
       "      <td>2.0</td>\n",
       "      <td>5.0</td>\n",
       "      <td>4.0</td>\n",
       "      <td>2.0</td>\n",
       "      <td>3.0</td>\n",
       "      <td>...</td>\n",
       "      <td>2.0</td>\n",
       "      <td>2.0</td>\n",
       "      <td>2.0</td>\n",
       "      <td>2.0</td>\n",
       "      <td>3.0</td>\n",
       "      <td>1.0</td>\n",
       "      <td>5.0</td>\n",
       "      <td>1.0</td>\n",
       "      <td>2.0</td>\n",
       "      <td>515.758894</td>\n",
       "    </tr>\n",
       "    <tr>\n",
       "      <th>441455</th>\n",
       "      <td>1.0</td>\n",
       "      <td>1.0</td>\n",
       "      <td>2.0</td>\n",
       "      <td>2.0</td>\n",
       "      <td>3.0</td>\n",
       "      <td>2.0</td>\n",
       "      <td>5.0</td>\n",
       "      <td>5.0</td>\n",
       "      <td>2.0</td>\n",
       "      <td>4.0</td>\n",
       "      <td>...</td>\n",
       "      <td>1.0</td>\n",
       "      <td>1.0</td>\n",
       "      <td>2.0</td>\n",
       "      <td>2.0</td>\n",
       "      <td>1.0</td>\n",
       "      <td>2.0</td>\n",
       "      <td>1.0</td>\n",
       "      <td>1.0</td>\n",
       "      <td>1.0</td>\n",
       "      <td>224.379062</td>\n",
       "    </tr>\n",
       "  </tbody>\n",
       "</table>\n",
       "<p>441456 rows × 27 columns</p>\n",
       "</div>"
      ],
      "text/plain": [
       "       _RFHLTH _HCVU651 _RFHYPE5 _RFCHOL _ASTHMS1 _DRDXAR1 _RACEGR3 _AGE_G  \\\n",
       "0          2.0      1.0      2.0     2.0      1.0      1.0      1.0    5.0   \n",
       "1          1.0      2.0      1.0     1.0      3.0      2.0      1.0    4.0   \n",
       "2          2.0      9.0      1.0     2.0      3.0      1.0      1.0    6.0   \n",
       "3          2.0      1.0      2.0     2.0      3.0      1.0      1.0    5.0   \n",
       "4          2.0      1.0      1.0     1.0      3.0      1.0      1.0    5.0   \n",
       "...        ...      ...      ...     ...      ...      ...      ...    ...   \n",
       "441451     2.0      9.0      2.0     2.0      3.0      1.0      5.0    6.0   \n",
       "441452     1.0      1.0      1.0     1.0      3.0      2.0      5.0    2.0   \n",
       "441453     2.0      9.0      2.0     2.0      3.0      2.0      5.0    6.0   \n",
       "441454     1.0      1.0      2.0     1.0      3.0      2.0      5.0    4.0   \n",
       "441455     1.0      1.0      2.0     2.0      3.0      2.0      5.0    5.0   \n",
       "\n",
       "       _BMI5CAT _EDUCAG  ... _AIDTST3 CHCCOPD1 ADDEPEV2 CHCKIDNY DIABETE3  \\\n",
       "0           4.0     2.0  ...      1.0      1.0      1.0      2.0      3.0   \n",
       "1           3.0     4.0  ...      2.0      2.0      2.0      2.0      3.0   \n",
       "2           2.0     2.0  ...      NaN      2.0      2.0      2.0      3.0   \n",
       "3           3.0     2.0  ...      9.0      2.0      1.0      2.0      3.0   \n",
       "4           2.0     3.0  ...      1.0      2.0      2.0      2.0      3.0   \n",
       "...         ...     ...  ...      ...      ...      ...      ...      ...   \n",
       "441451      1.0     1.0  ...      2.0      2.0      2.0      2.0      1.0   \n",
       "441452      3.0     3.0  ...      1.0      2.0      2.0      2.0      3.0   \n",
       "441453      4.0     2.0  ...      NaN      2.0      2.0      2.0      3.0   \n",
       "441454      2.0     3.0  ...      2.0      2.0      2.0      2.0      3.0   \n",
       "441455      2.0     4.0  ...      1.0      1.0      2.0      2.0      1.0   \n",
       "\n",
       "        SEX MARITAL DRADVISE _MICHD     _LLCPWT  \n",
       "0       2.0     1.0      NaN    2.0  341.384853  \n",
       "1       2.0     2.0      2.0    2.0  108.060903  \n",
       "2       2.0     2.0      NaN    NaN  255.264797  \n",
       "3       2.0     1.0      2.0    2.0  341.384853  \n",
       "4       2.0     1.0      2.0    2.0  258.682223  \n",
       "...     ...     ...      ...    ...         ...  \n",
       "441451  2.0     3.0      1.0    2.0  531.980410  \n",
       "441452  2.0     1.0      2.0    2.0  746.416599  \n",
       "441453  2.0     1.0      NaN    2.0  207.663634  \n",
       "441454  1.0     5.0      1.0    2.0  515.758894  \n",
       "441455  2.0     1.0      1.0    1.0  224.379062  \n",
       "\n",
       "[441456 rows x 27 columns]"
      ]
     },
     "execution_count": 4,
     "metadata": {},
     "output_type": "execute_result"
    }
   ],
   "source": [
    "df = df[feature_names + target_name + weights_name]\n",
    "df"
   ]
  },
  {
   "cell_type": "code",
   "execution_count": 5,
   "metadata": {},
   "outputs": [],
   "source": [
    "for column in ['_RFHYPE5', '_RFCHOL', '_RFDRHV5']:\n",
    "    df[column] = df[column].apply(lambda x: 1.0 if x == 2.0 else 2.0 if x == 1.0 else x)"
   ]
  },
  {
   "cell_type": "code",
   "execution_count": 6,
   "metadata": {},
   "outputs": [],
   "source": [
    "for column in ['_FLSHOT6', '_PNEUMO2']:\n",
    "    df[column] = df[column].cat.add_categories([65.0])\n",
    "    df[column] = df[column].fillna(65.0)"
   ]
  },
  {
   "cell_type": "code",
   "execution_count": 7,
   "metadata": {},
   "outputs": [],
   "source": [
    "df['DIABETE3'] = df['DIABETE3'].map({1.0:1.0, 2.0:1.0, 3.0:2.0, 4.0:2.0, 7.0:7.0, 9.0:9.0}).astype('category')"
   ]
  },
  {
   "cell_type": "code",
   "execution_count": 8,
   "metadata": {},
   "outputs": [],
   "source": [
    "df['_MICHD'] = df['_MICHD'].apply(lambda x: 0.0 if x == 2 else x)"
   ]
  },
  {
   "cell_type": "code",
   "execution_count": 9,
   "metadata": {},
   "outputs": [],
   "source": [
    "def imputer(dataframe, category_value_tofill=None, columns_drop=None, columns_mode=None, columns_median=None):\n",
    "    '''Imputes missing values to the input dataframe.\n",
    "    \n",
    "       Parameters\n",
    "       ----------\n",
    "       dataframe: Pandas dataframe\n",
    "           dataframe with which to impute missing values.\n",
    "       \n",
    "       category_value_tofill: int, float, or string\n",
    "           Value to used to fill missing values in categorical features.\n",
    "       \n",
    "       columns_drop: list-like\n",
    "           List of columns to drop.\n",
    "       \n",
    "       columns_mode: list-like\n",
    "           List of numeric columns to impute with the mode.\n",
    "           \n",
    "       columns_median: list-like\n",
    "           List of numeric columns to impute with the mean.\n",
    "    '''\n",
    "    #Fill null values in categorical features with value_null\n",
    "    if category_value_tofill != None:\n",
    "        for column in dataframe.select_dtypes(include='category').columns:\n",
    "            if any(dataframe[column].isnull()):\n",
    "                dataframe[column] = dataframe[column].cat.add_categories([category_value_tofill])\n",
    "                dataframe[column] = dataframe[column].fillna(value=category_value_tofill)\n",
    "            \n",
    "    #Droping columns, imputing with mode, and imputing with median.\n",
    "    if columns_drop != None:\n",
    "        dataframe = dataframe.drop(columns=columns_drop)\n",
    "    if columns_mode != None:\n",
    "        dataframe = dataframe.fillna(dataframe[columns_mode].mode().iloc[0, :])\n",
    "    if columns_median != None:\n",
    "        dataframe = dataframe.fillna(dataframe[columns_median].median())\n",
    "    \n",
    "    return dataframe"
   ]
  },
  {
   "cell_type": "code",
   "execution_count": 10,
   "metadata": {},
   "outputs": [],
   "source": [
    "df = imputer(df, 999.0)"
   ]
  },
  {
   "cell_type": "code",
   "execution_count": 11,
   "metadata": {},
   "outputs": [],
   "source": [
    "trans_list = ['Good_Health', 'Health_Insurance', 'Hypertension', 'High_Cholesterol', 'Asthma_Status', 'Arthritis', 'Race', 'Age_Cat', 'BMI_Cat', 'Education_Level', 'Income_Level', \\\n",
    "    'Smoker_Status', 'Heavy_Drinker', 'Physical_Activity', 'Seatbelt', 'Flu_Shot', 'Pneumonia_Vaccine', 'HIV', 'Bronchitis', 'Depression', 'Kidney_Disease', 'Diabetes', 'SEX', \\\n",
    "        'Marital Status', 'Sodium', 'Heart_Disease', 'Sample_Weights']"
   ]
  },
  {
   "cell_type": "code",
   "execution_count": 12,
   "metadata": {},
   "outputs": [
    {
     "data": {
      "text/plain": [
       "{'_RFHLTH': 'Good_Health',\n",
       " '_HCVU651': 'Health_Insurance',\n",
       " '_RFHYPE5': 'Hypertension',\n",
       " '_RFCHOL': 'High_Cholesterol',\n",
       " '_ASTHMS1': 'Asthma_Status',\n",
       " '_DRDXAR1': 'Arthritis',\n",
       " '_RACEGR3': 'Race',\n",
       " '_AGE_G': 'Age_Cat',\n",
       " '_BMI5CAT': 'BMI_Cat',\n",
       " '_EDUCAG': 'Education_Level',\n",
       " '_INCOMG': 'Income_Level',\n",
       " '_SMOKER3': 'Smoker_Status',\n",
       " '_RFDRHV5': 'Heavy_Drinker',\n",
       " '_PACAT1': 'Physical_Activity',\n",
       " '_RFSEAT2': 'Seatbelt',\n",
       " '_FLSHOT6': 'Flu_Shot',\n",
       " '_PNEUMO2': 'Pneumonia_Vaccine',\n",
       " '_AIDTST3': 'HIV',\n",
       " 'CHCCOPD1': 'Bronchitis',\n",
       " 'ADDEPEV2': 'Depression',\n",
       " 'CHCKIDNY': 'Kidney_Disease',\n",
       " 'DIABETE3': 'Diabetes',\n",
       " 'SEX': 'SEX',\n",
       " 'MARITAL': 'Marital Status',\n",
       " 'DRADVISE': 'Sodium',\n",
       " '_MICHD': 'Heart_Disease',\n",
       " '_LLCPWT': 'Sample_Weights'}"
      ]
     },
     "execution_count": 12,
     "metadata": {},
     "output_type": "execute_result"
    }
   ],
   "source": [
    "trans_dict = dict(zip(feature_names + target_name + weights_name, trans_list))\n",
    "trans_dict"
   ]
  },
  {
   "cell_type": "code",
   "execution_count": 13,
   "metadata": {},
   "outputs": [
    {
     "data": {
      "text/html": [
       "<div>\n",
       "<style scoped>\n",
       "    .dataframe tbody tr th:only-of-type {\n",
       "        vertical-align: middle;\n",
       "    }\n",
       "\n",
       "    .dataframe tbody tr th {\n",
       "        vertical-align: top;\n",
       "    }\n",
       "\n",
       "    .dataframe thead th {\n",
       "        text-align: right;\n",
       "    }\n",
       "</style>\n",
       "<table border=\"1\" class=\"dataframe\">\n",
       "  <thead>\n",
       "    <tr style=\"text-align: right;\">\n",
       "      <th></th>\n",
       "      <th>Good_Health</th>\n",
       "      <th>Health_Insurance</th>\n",
       "      <th>Hypertension</th>\n",
       "      <th>High_Cholesterol</th>\n",
       "      <th>Asthma_Status</th>\n",
       "      <th>Arthritis</th>\n",
       "      <th>Race</th>\n",
       "      <th>Age_Cat</th>\n",
       "      <th>BMI_Cat</th>\n",
       "      <th>Education_Level</th>\n",
       "      <th>...</th>\n",
       "      <th>HIV</th>\n",
       "      <th>Bronchitis</th>\n",
       "      <th>Depression</th>\n",
       "      <th>Kidney_Disease</th>\n",
       "      <th>Diabetes</th>\n",
       "      <th>SEX</th>\n",
       "      <th>Marital Status</th>\n",
       "      <th>Sodium</th>\n",
       "      <th>Heart_Disease</th>\n",
       "      <th>Sample_Weights</th>\n",
       "    </tr>\n",
       "  </thead>\n",
       "  <tbody>\n",
       "    <tr>\n",
       "      <th>0</th>\n",
       "      <td>2.0</td>\n",
       "      <td>1.0</td>\n",
       "      <td>1.0</td>\n",
       "      <td>1.0</td>\n",
       "      <td>1.0</td>\n",
       "      <td>1.0</td>\n",
       "      <td>1.0</td>\n",
       "      <td>5.0</td>\n",
       "      <td>4.0</td>\n",
       "      <td>2.0</td>\n",
       "      <td>...</td>\n",
       "      <td>1.0</td>\n",
       "      <td>1.0</td>\n",
       "      <td>1.0</td>\n",
       "      <td>2.0</td>\n",
       "      <td>2.0</td>\n",
       "      <td>2.0</td>\n",
       "      <td>1.0</td>\n",
       "      <td>999.0</td>\n",
       "      <td>0.0</td>\n",
       "      <td>341.384853</td>\n",
       "    </tr>\n",
       "    <tr>\n",
       "      <th>1</th>\n",
       "      <td>1.0</td>\n",
       "      <td>2.0</td>\n",
       "      <td>2.0</td>\n",
       "      <td>2.0</td>\n",
       "      <td>3.0</td>\n",
       "      <td>2.0</td>\n",
       "      <td>1.0</td>\n",
       "      <td>4.0</td>\n",
       "      <td>3.0</td>\n",
       "      <td>4.0</td>\n",
       "      <td>...</td>\n",
       "      <td>2.0</td>\n",
       "      <td>2.0</td>\n",
       "      <td>2.0</td>\n",
       "      <td>2.0</td>\n",
       "      <td>2.0</td>\n",
       "      <td>2.0</td>\n",
       "      <td>2.0</td>\n",
       "      <td>2.0</td>\n",
       "      <td>0.0</td>\n",
       "      <td>108.060903</td>\n",
       "    </tr>\n",
       "    <tr>\n",
       "      <th>2</th>\n",
       "      <td>2.0</td>\n",
       "      <td>9.0</td>\n",
       "      <td>2.0</td>\n",
       "      <td>1.0</td>\n",
       "      <td>3.0</td>\n",
       "      <td>1.0</td>\n",
       "      <td>1.0</td>\n",
       "      <td>6.0</td>\n",
       "      <td>2.0</td>\n",
       "      <td>2.0</td>\n",
       "      <td>...</td>\n",
       "      <td>999.0</td>\n",
       "      <td>2.0</td>\n",
       "      <td>2.0</td>\n",
       "      <td>2.0</td>\n",
       "      <td>2.0</td>\n",
       "      <td>2.0</td>\n",
       "      <td>2.0</td>\n",
       "      <td>999.0</td>\n",
       "      <td>999.0</td>\n",
       "      <td>255.264797</td>\n",
       "    </tr>\n",
       "    <tr>\n",
       "      <th>3</th>\n",
       "      <td>2.0</td>\n",
       "      <td>1.0</td>\n",
       "      <td>1.0</td>\n",
       "      <td>1.0</td>\n",
       "      <td>3.0</td>\n",
       "      <td>1.0</td>\n",
       "      <td>1.0</td>\n",
       "      <td>5.0</td>\n",
       "      <td>3.0</td>\n",
       "      <td>2.0</td>\n",
       "      <td>...</td>\n",
       "      <td>9.0</td>\n",
       "      <td>2.0</td>\n",
       "      <td>1.0</td>\n",
       "      <td>2.0</td>\n",
       "      <td>2.0</td>\n",
       "      <td>2.0</td>\n",
       "      <td>1.0</td>\n",
       "      <td>2.0</td>\n",
       "      <td>0.0</td>\n",
       "      <td>341.384853</td>\n",
       "    </tr>\n",
       "    <tr>\n",
       "      <th>4</th>\n",
       "      <td>2.0</td>\n",
       "      <td>1.0</td>\n",
       "      <td>2.0</td>\n",
       "      <td>2.0</td>\n",
       "      <td>3.0</td>\n",
       "      <td>1.0</td>\n",
       "      <td>1.0</td>\n",
       "      <td>5.0</td>\n",
       "      <td>2.0</td>\n",
       "      <td>3.0</td>\n",
       "      <td>...</td>\n",
       "      <td>1.0</td>\n",
       "      <td>2.0</td>\n",
       "      <td>2.0</td>\n",
       "      <td>2.0</td>\n",
       "      <td>2.0</td>\n",
       "      <td>2.0</td>\n",
       "      <td>1.0</td>\n",
       "      <td>2.0</td>\n",
       "      <td>0.0</td>\n",
       "      <td>258.682223</td>\n",
       "    </tr>\n",
       "    <tr>\n",
       "      <th>...</th>\n",
       "      <td>...</td>\n",
       "      <td>...</td>\n",
       "      <td>...</td>\n",
       "      <td>...</td>\n",
       "      <td>...</td>\n",
       "      <td>...</td>\n",
       "      <td>...</td>\n",
       "      <td>...</td>\n",
       "      <td>...</td>\n",
       "      <td>...</td>\n",
       "      <td>...</td>\n",
       "      <td>...</td>\n",
       "      <td>...</td>\n",
       "      <td>...</td>\n",
       "      <td>...</td>\n",
       "      <td>...</td>\n",
       "      <td>...</td>\n",
       "      <td>...</td>\n",
       "      <td>...</td>\n",
       "      <td>...</td>\n",
       "      <td>...</td>\n",
       "    </tr>\n",
       "    <tr>\n",
       "      <th>441451</th>\n",
       "      <td>2.0</td>\n",
       "      <td>9.0</td>\n",
       "      <td>1.0</td>\n",
       "      <td>1.0</td>\n",
       "      <td>3.0</td>\n",
       "      <td>1.0</td>\n",
       "      <td>5.0</td>\n",
       "      <td>6.0</td>\n",
       "      <td>1.0</td>\n",
       "      <td>1.0</td>\n",
       "      <td>...</td>\n",
       "      <td>2.0</td>\n",
       "      <td>2.0</td>\n",
       "      <td>2.0</td>\n",
       "      <td>2.0</td>\n",
       "      <td>1.0</td>\n",
       "      <td>2.0</td>\n",
       "      <td>3.0</td>\n",
       "      <td>1.0</td>\n",
       "      <td>0.0</td>\n",
       "      <td>531.980410</td>\n",
       "    </tr>\n",
       "    <tr>\n",
       "      <th>441452</th>\n",
       "      <td>1.0</td>\n",
       "      <td>1.0</td>\n",
       "      <td>2.0</td>\n",
       "      <td>2.0</td>\n",
       "      <td>3.0</td>\n",
       "      <td>2.0</td>\n",
       "      <td>5.0</td>\n",
       "      <td>2.0</td>\n",
       "      <td>3.0</td>\n",
       "      <td>3.0</td>\n",
       "      <td>...</td>\n",
       "      <td>1.0</td>\n",
       "      <td>2.0</td>\n",
       "      <td>2.0</td>\n",
       "      <td>2.0</td>\n",
       "      <td>2.0</td>\n",
       "      <td>2.0</td>\n",
       "      <td>1.0</td>\n",
       "      <td>2.0</td>\n",
       "      <td>0.0</td>\n",
       "      <td>746.416599</td>\n",
       "    </tr>\n",
       "    <tr>\n",
       "      <th>441453</th>\n",
       "      <td>2.0</td>\n",
       "      <td>9.0</td>\n",
       "      <td>1.0</td>\n",
       "      <td>1.0</td>\n",
       "      <td>3.0</td>\n",
       "      <td>2.0</td>\n",
       "      <td>5.0</td>\n",
       "      <td>6.0</td>\n",
       "      <td>4.0</td>\n",
       "      <td>2.0</td>\n",
       "      <td>...</td>\n",
       "      <td>999.0</td>\n",
       "      <td>2.0</td>\n",
       "      <td>2.0</td>\n",
       "      <td>2.0</td>\n",
       "      <td>2.0</td>\n",
       "      <td>2.0</td>\n",
       "      <td>1.0</td>\n",
       "      <td>999.0</td>\n",
       "      <td>0.0</td>\n",
       "      <td>207.663634</td>\n",
       "    </tr>\n",
       "    <tr>\n",
       "      <th>441454</th>\n",
       "      <td>1.0</td>\n",
       "      <td>1.0</td>\n",
       "      <td>1.0</td>\n",
       "      <td>2.0</td>\n",
       "      <td>3.0</td>\n",
       "      <td>2.0</td>\n",
       "      <td>5.0</td>\n",
       "      <td>4.0</td>\n",
       "      <td>2.0</td>\n",
       "      <td>3.0</td>\n",
       "      <td>...</td>\n",
       "      <td>2.0</td>\n",
       "      <td>2.0</td>\n",
       "      <td>2.0</td>\n",
       "      <td>2.0</td>\n",
       "      <td>2.0</td>\n",
       "      <td>1.0</td>\n",
       "      <td>5.0</td>\n",
       "      <td>1.0</td>\n",
       "      <td>0.0</td>\n",
       "      <td>515.758894</td>\n",
       "    </tr>\n",
       "    <tr>\n",
       "      <th>441455</th>\n",
       "      <td>1.0</td>\n",
       "      <td>1.0</td>\n",
       "      <td>1.0</td>\n",
       "      <td>1.0</td>\n",
       "      <td>3.0</td>\n",
       "      <td>2.0</td>\n",
       "      <td>5.0</td>\n",
       "      <td>5.0</td>\n",
       "      <td>2.0</td>\n",
       "      <td>4.0</td>\n",
       "      <td>...</td>\n",
       "      <td>1.0</td>\n",
       "      <td>1.0</td>\n",
       "      <td>2.0</td>\n",
       "      <td>2.0</td>\n",
       "      <td>1.0</td>\n",
       "      <td>2.0</td>\n",
       "      <td>1.0</td>\n",
       "      <td>1.0</td>\n",
       "      <td>1.0</td>\n",
       "      <td>224.379062</td>\n",
       "    </tr>\n",
       "  </tbody>\n",
       "</table>\n",
       "<p>441456 rows × 27 columns</p>\n",
       "</div>"
      ],
      "text/plain": [
       "       Good_Health Health_Insurance Hypertension High_Cholesterol  \\\n",
       "0              2.0              1.0          1.0              1.0   \n",
       "1              1.0              2.0          2.0              2.0   \n",
       "2              2.0              9.0          2.0              1.0   \n",
       "3              2.0              1.0          1.0              1.0   \n",
       "4              2.0              1.0          2.0              2.0   \n",
       "...            ...              ...          ...              ...   \n",
       "441451         2.0              9.0          1.0              1.0   \n",
       "441452         1.0              1.0          2.0              2.0   \n",
       "441453         2.0              9.0          1.0              1.0   \n",
       "441454         1.0              1.0          1.0              2.0   \n",
       "441455         1.0              1.0          1.0              1.0   \n",
       "\n",
       "       Asthma_Status Arthritis Race Age_Cat BMI_Cat Education_Level  ...  \\\n",
       "0                1.0       1.0  1.0     5.0     4.0             2.0  ...   \n",
       "1                3.0       2.0  1.0     4.0     3.0             4.0  ...   \n",
       "2                3.0       1.0  1.0     6.0     2.0             2.0  ...   \n",
       "3                3.0       1.0  1.0     5.0     3.0             2.0  ...   \n",
       "4                3.0       1.0  1.0     5.0     2.0             3.0  ...   \n",
       "...              ...       ...  ...     ...     ...             ...  ...   \n",
       "441451           3.0       1.0  5.0     6.0     1.0             1.0  ...   \n",
       "441452           3.0       2.0  5.0     2.0     3.0             3.0  ...   \n",
       "441453           3.0       2.0  5.0     6.0     4.0             2.0  ...   \n",
       "441454           3.0       2.0  5.0     4.0     2.0             3.0  ...   \n",
       "441455           3.0       2.0  5.0     5.0     2.0             4.0  ...   \n",
       "\n",
       "          HIV Bronchitis Depression Kidney_Disease Diabetes  SEX  \\\n",
       "0         1.0        1.0        1.0            2.0      2.0  2.0   \n",
       "1         2.0        2.0        2.0            2.0      2.0  2.0   \n",
       "2       999.0        2.0        2.0            2.0      2.0  2.0   \n",
       "3         9.0        2.0        1.0            2.0      2.0  2.0   \n",
       "4         1.0        2.0        2.0            2.0      2.0  2.0   \n",
       "...       ...        ...        ...            ...      ...  ...   \n",
       "441451    2.0        2.0        2.0            2.0      1.0  2.0   \n",
       "441452    1.0        2.0        2.0            2.0      2.0  2.0   \n",
       "441453  999.0        2.0        2.0            2.0      2.0  2.0   \n",
       "441454    2.0        2.0        2.0            2.0      2.0  1.0   \n",
       "441455    1.0        1.0        2.0            2.0      1.0  2.0   \n",
       "\n",
       "       Marital Status Sodium Heart_Disease Sample_Weights  \n",
       "0                 1.0  999.0           0.0     341.384853  \n",
       "1                 2.0    2.0           0.0     108.060903  \n",
       "2                 2.0  999.0         999.0     255.264797  \n",
       "3                 1.0    2.0           0.0     341.384853  \n",
       "4                 1.0    2.0           0.0     258.682223  \n",
       "...               ...    ...           ...            ...  \n",
       "441451            3.0    1.0           0.0     531.980410  \n",
       "441452            1.0    2.0           0.0     746.416599  \n",
       "441453            1.0  999.0           0.0     207.663634  \n",
       "441454            5.0    1.0           0.0     515.758894  \n",
       "441455            1.0    1.0           1.0     224.379062  \n",
       "\n",
       "[441456 rows x 27 columns]"
      ]
     },
     "execution_count": 13,
     "metadata": {},
     "output_type": "execute_result"
    }
   ],
   "source": [
    "df = df.rename(columns=trans_dict)\n",
    "df"
   ]
  },
  {
   "cell_type": "code",
   "execution_count": 14,
   "metadata": {},
   "outputs": [],
   "source": [
    "df = df.drop(df[df[trans_dict[target_name[0]]] == 999.0].index)"
   ]
  },
  {
   "cell_type": "code",
   "execution_count": 15,
   "metadata": {},
   "outputs": [],
   "source": [
    "cols_to_one_hot = [column for column in df.select_dtypes(include='category').columns if column not in ['Heart_Disease']]\n",
    "\n",
    "column_trans = ColumnTransformer([('categorical', OneHotEncoder(sparse=False), cols_to_one_hot)], remainder='passthrough')\n",
    "column_trans.fit(df)\n",
    "column_names_trans = np.concatenate([column_trans.named_transformers_['categorical'].get_feature_names_out(), np.array([trans_dict[target_name[0]], trans_dict[weights_name[0]]])])"
   ]
  },
  {
   "cell_type": "code",
   "execution_count": 16,
   "metadata": {},
   "outputs": [
    {
     "data": {
      "text/html": [
       "<div>\n",
       "<style scoped>\n",
       "    .dataframe tbody tr th:only-of-type {\n",
       "        vertical-align: middle;\n",
       "    }\n",
       "\n",
       "    .dataframe tbody tr th {\n",
       "        vertical-align: top;\n",
       "    }\n",
       "\n",
       "    .dataframe thead th {\n",
       "        text-align: right;\n",
       "    }\n",
       "</style>\n",
       "<table border=\"1\" class=\"dataframe\">\n",
       "  <thead>\n",
       "    <tr style=\"text-align: right;\">\n",
       "      <th></th>\n",
       "      <th>Good_Health_1.0</th>\n",
       "      <th>Good_Health_2.0</th>\n",
       "      <th>Good_Health_9.0</th>\n",
       "      <th>Health_Insurance_1.0</th>\n",
       "      <th>Health_Insurance_2.0</th>\n",
       "      <th>Health_Insurance_9.0</th>\n",
       "      <th>Hypertension_1.0</th>\n",
       "      <th>Hypertension_2.0</th>\n",
       "      <th>Hypertension_9.0</th>\n",
       "      <th>High_Cholesterol_1.0</th>\n",
       "      <th>...</th>\n",
       "      <th>Marital Status_5.0</th>\n",
       "      <th>Marital Status_6.0</th>\n",
       "      <th>Marital Status_9.0</th>\n",
       "      <th>Sodium_1.0</th>\n",
       "      <th>Sodium_2.0</th>\n",
       "      <th>Sodium_7.0</th>\n",
       "      <th>Sodium_9.0</th>\n",
       "      <th>Sodium_999.0</th>\n",
       "      <th>Heart_Disease</th>\n",
       "      <th>Sample_Weights</th>\n",
       "    </tr>\n",
       "  </thead>\n",
       "  <tbody>\n",
       "    <tr>\n",
       "      <th>0</th>\n",
       "      <td>0.0</td>\n",
       "      <td>1.0</td>\n",
       "      <td>0.0</td>\n",
       "      <td>1.0</td>\n",
       "      <td>0.0</td>\n",
       "      <td>0.0</td>\n",
       "      <td>1.0</td>\n",
       "      <td>0.0</td>\n",
       "      <td>0.0</td>\n",
       "      <td>1.0</td>\n",
       "      <td>...</td>\n",
       "      <td>0.0</td>\n",
       "      <td>0.0</td>\n",
       "      <td>0.0</td>\n",
       "      <td>0.0</td>\n",
       "      <td>0.0</td>\n",
       "      <td>0.0</td>\n",
       "      <td>0.0</td>\n",
       "      <td>1.0</td>\n",
       "      <td>0.0</td>\n",
       "      <td>341.384853</td>\n",
       "    </tr>\n",
       "    <tr>\n",
       "      <th>1</th>\n",
       "      <td>1.0</td>\n",
       "      <td>0.0</td>\n",
       "      <td>0.0</td>\n",
       "      <td>0.0</td>\n",
       "      <td>1.0</td>\n",
       "      <td>0.0</td>\n",
       "      <td>0.0</td>\n",
       "      <td>1.0</td>\n",
       "      <td>0.0</td>\n",
       "      <td>0.0</td>\n",
       "      <td>...</td>\n",
       "      <td>0.0</td>\n",
       "      <td>0.0</td>\n",
       "      <td>0.0</td>\n",
       "      <td>0.0</td>\n",
       "      <td>1.0</td>\n",
       "      <td>0.0</td>\n",
       "      <td>0.0</td>\n",
       "      <td>0.0</td>\n",
       "      <td>0.0</td>\n",
       "      <td>108.060903</td>\n",
       "    </tr>\n",
       "    <tr>\n",
       "      <th>2</th>\n",
       "      <td>0.0</td>\n",
       "      <td>1.0</td>\n",
       "      <td>0.0</td>\n",
       "      <td>1.0</td>\n",
       "      <td>0.0</td>\n",
       "      <td>0.0</td>\n",
       "      <td>1.0</td>\n",
       "      <td>0.0</td>\n",
       "      <td>0.0</td>\n",
       "      <td>1.0</td>\n",
       "      <td>...</td>\n",
       "      <td>0.0</td>\n",
       "      <td>0.0</td>\n",
       "      <td>0.0</td>\n",
       "      <td>0.0</td>\n",
       "      <td>1.0</td>\n",
       "      <td>0.0</td>\n",
       "      <td>0.0</td>\n",
       "      <td>0.0</td>\n",
       "      <td>0.0</td>\n",
       "      <td>341.384853</td>\n",
       "    </tr>\n",
       "    <tr>\n",
       "      <th>3</th>\n",
       "      <td>0.0</td>\n",
       "      <td>1.0</td>\n",
       "      <td>0.0</td>\n",
       "      <td>1.0</td>\n",
       "      <td>0.0</td>\n",
       "      <td>0.0</td>\n",
       "      <td>0.0</td>\n",
       "      <td>1.0</td>\n",
       "      <td>0.0</td>\n",
       "      <td>0.0</td>\n",
       "      <td>...</td>\n",
       "      <td>0.0</td>\n",
       "      <td>0.0</td>\n",
       "      <td>0.0</td>\n",
       "      <td>0.0</td>\n",
       "      <td>1.0</td>\n",
       "      <td>0.0</td>\n",
       "      <td>0.0</td>\n",
       "      <td>0.0</td>\n",
       "      <td>0.0</td>\n",
       "      <td>258.682223</td>\n",
       "    </tr>\n",
       "    <tr>\n",
       "      <th>4</th>\n",
       "      <td>1.0</td>\n",
       "      <td>0.0</td>\n",
       "      <td>0.0</td>\n",
       "      <td>0.0</td>\n",
       "      <td>0.0</td>\n",
       "      <td>1.0</td>\n",
       "      <td>1.0</td>\n",
       "      <td>0.0</td>\n",
       "      <td>0.0</td>\n",
       "      <td>0.0</td>\n",
       "      <td>...</td>\n",
       "      <td>0.0</td>\n",
       "      <td>0.0</td>\n",
       "      <td>0.0</td>\n",
       "      <td>0.0</td>\n",
       "      <td>1.0</td>\n",
       "      <td>0.0</td>\n",
       "      <td>0.0</td>\n",
       "      <td>0.0</td>\n",
       "      <td>0.0</td>\n",
       "      <td>256.518591</td>\n",
       "    </tr>\n",
       "    <tr>\n",
       "      <th>...</th>\n",
       "      <td>...</td>\n",
       "      <td>...</td>\n",
       "      <td>...</td>\n",
       "      <td>...</td>\n",
       "      <td>...</td>\n",
       "      <td>...</td>\n",
       "      <td>...</td>\n",
       "      <td>...</td>\n",
       "      <td>...</td>\n",
       "      <td>...</td>\n",
       "      <td>...</td>\n",
       "      <td>...</td>\n",
       "      <td>...</td>\n",
       "      <td>...</td>\n",
       "      <td>...</td>\n",
       "      <td>...</td>\n",
       "      <td>...</td>\n",
       "      <td>...</td>\n",
       "      <td>...</td>\n",
       "      <td>...</td>\n",
       "      <td>...</td>\n",
       "    </tr>\n",
       "    <tr>\n",
       "      <th>437509</th>\n",
       "      <td>0.0</td>\n",
       "      <td>1.0</td>\n",
       "      <td>0.0</td>\n",
       "      <td>0.0</td>\n",
       "      <td>0.0</td>\n",
       "      <td>1.0</td>\n",
       "      <td>1.0</td>\n",
       "      <td>0.0</td>\n",
       "      <td>0.0</td>\n",
       "      <td>1.0</td>\n",
       "      <td>...</td>\n",
       "      <td>0.0</td>\n",
       "      <td>0.0</td>\n",
       "      <td>0.0</td>\n",
       "      <td>1.0</td>\n",
       "      <td>0.0</td>\n",
       "      <td>0.0</td>\n",
       "      <td>0.0</td>\n",
       "      <td>0.0</td>\n",
       "      <td>0.0</td>\n",
       "      <td>531.980410</td>\n",
       "    </tr>\n",
       "    <tr>\n",
       "      <th>437510</th>\n",
       "      <td>1.0</td>\n",
       "      <td>0.0</td>\n",
       "      <td>0.0</td>\n",
       "      <td>1.0</td>\n",
       "      <td>0.0</td>\n",
       "      <td>0.0</td>\n",
       "      <td>0.0</td>\n",
       "      <td>1.0</td>\n",
       "      <td>0.0</td>\n",
       "      <td>0.0</td>\n",
       "      <td>...</td>\n",
       "      <td>0.0</td>\n",
       "      <td>0.0</td>\n",
       "      <td>0.0</td>\n",
       "      <td>0.0</td>\n",
       "      <td>1.0</td>\n",
       "      <td>0.0</td>\n",
       "      <td>0.0</td>\n",
       "      <td>0.0</td>\n",
       "      <td>0.0</td>\n",
       "      <td>746.416599</td>\n",
       "    </tr>\n",
       "    <tr>\n",
       "      <th>437511</th>\n",
       "      <td>0.0</td>\n",
       "      <td>1.0</td>\n",
       "      <td>0.0</td>\n",
       "      <td>0.0</td>\n",
       "      <td>0.0</td>\n",
       "      <td>1.0</td>\n",
       "      <td>1.0</td>\n",
       "      <td>0.0</td>\n",
       "      <td>0.0</td>\n",
       "      <td>1.0</td>\n",
       "      <td>...</td>\n",
       "      <td>0.0</td>\n",
       "      <td>0.0</td>\n",
       "      <td>0.0</td>\n",
       "      <td>0.0</td>\n",
       "      <td>0.0</td>\n",
       "      <td>0.0</td>\n",
       "      <td>0.0</td>\n",
       "      <td>1.0</td>\n",
       "      <td>0.0</td>\n",
       "      <td>207.663634</td>\n",
       "    </tr>\n",
       "    <tr>\n",
       "      <th>437512</th>\n",
       "      <td>1.0</td>\n",
       "      <td>0.0</td>\n",
       "      <td>0.0</td>\n",
       "      <td>1.0</td>\n",
       "      <td>0.0</td>\n",
       "      <td>0.0</td>\n",
       "      <td>1.0</td>\n",
       "      <td>0.0</td>\n",
       "      <td>0.0</td>\n",
       "      <td>0.0</td>\n",
       "      <td>...</td>\n",
       "      <td>1.0</td>\n",
       "      <td>0.0</td>\n",
       "      <td>0.0</td>\n",
       "      <td>1.0</td>\n",
       "      <td>0.0</td>\n",
       "      <td>0.0</td>\n",
       "      <td>0.0</td>\n",
       "      <td>0.0</td>\n",
       "      <td>0.0</td>\n",
       "      <td>515.758894</td>\n",
       "    </tr>\n",
       "    <tr>\n",
       "      <th>437513</th>\n",
       "      <td>1.0</td>\n",
       "      <td>0.0</td>\n",
       "      <td>0.0</td>\n",
       "      <td>1.0</td>\n",
       "      <td>0.0</td>\n",
       "      <td>0.0</td>\n",
       "      <td>1.0</td>\n",
       "      <td>0.0</td>\n",
       "      <td>0.0</td>\n",
       "      <td>1.0</td>\n",
       "      <td>...</td>\n",
       "      <td>0.0</td>\n",
       "      <td>0.0</td>\n",
       "      <td>0.0</td>\n",
       "      <td>1.0</td>\n",
       "      <td>0.0</td>\n",
       "      <td>0.0</td>\n",
       "      <td>0.0</td>\n",
       "      <td>0.0</td>\n",
       "      <td>1.0</td>\n",
       "      <td>224.379062</td>\n",
       "    </tr>\n",
       "  </tbody>\n",
       "</table>\n",
       "<p>437514 rows × 109 columns</p>\n",
       "</div>"
      ],
      "text/plain": [
       "        Good_Health_1.0  Good_Health_2.0  Good_Health_9.0  \\\n",
       "0                   0.0              1.0              0.0   \n",
       "1                   1.0              0.0              0.0   \n",
       "2                   0.0              1.0              0.0   \n",
       "3                   0.0              1.0              0.0   \n",
       "4                   1.0              0.0              0.0   \n",
       "...                 ...              ...              ...   \n",
       "437509              0.0              1.0              0.0   \n",
       "437510              1.0              0.0              0.0   \n",
       "437511              0.0              1.0              0.0   \n",
       "437512              1.0              0.0              0.0   \n",
       "437513              1.0              0.0              0.0   \n",
       "\n",
       "        Health_Insurance_1.0  Health_Insurance_2.0  Health_Insurance_9.0  \\\n",
       "0                        1.0                   0.0                   0.0   \n",
       "1                        0.0                   1.0                   0.0   \n",
       "2                        1.0                   0.0                   0.0   \n",
       "3                        1.0                   0.0                   0.0   \n",
       "4                        0.0                   0.0                   1.0   \n",
       "...                      ...                   ...                   ...   \n",
       "437509                   0.0                   0.0                   1.0   \n",
       "437510                   1.0                   0.0                   0.0   \n",
       "437511                   0.0                   0.0                   1.0   \n",
       "437512                   1.0                   0.0                   0.0   \n",
       "437513                   1.0                   0.0                   0.0   \n",
       "\n",
       "        Hypertension_1.0  Hypertension_2.0  Hypertension_9.0  \\\n",
       "0                    1.0               0.0               0.0   \n",
       "1                    0.0               1.0               0.0   \n",
       "2                    1.0               0.0               0.0   \n",
       "3                    0.0               1.0               0.0   \n",
       "4                    1.0               0.0               0.0   \n",
       "...                  ...               ...               ...   \n",
       "437509               1.0               0.0               0.0   \n",
       "437510               0.0               1.0               0.0   \n",
       "437511               1.0               0.0               0.0   \n",
       "437512               1.0               0.0               0.0   \n",
       "437513               1.0               0.0               0.0   \n",
       "\n",
       "        High_Cholesterol_1.0  ...  Marital Status_5.0  Marital Status_6.0  \\\n",
       "0                        1.0  ...                 0.0                 0.0   \n",
       "1                        0.0  ...                 0.0                 0.0   \n",
       "2                        1.0  ...                 0.0                 0.0   \n",
       "3                        0.0  ...                 0.0                 0.0   \n",
       "4                        0.0  ...                 0.0                 0.0   \n",
       "...                      ...  ...                 ...                 ...   \n",
       "437509                   1.0  ...                 0.0                 0.0   \n",
       "437510                   0.0  ...                 0.0                 0.0   \n",
       "437511                   1.0  ...                 0.0                 0.0   \n",
       "437512                   0.0  ...                 1.0                 0.0   \n",
       "437513                   1.0  ...                 0.0                 0.0   \n",
       "\n",
       "        Marital Status_9.0  Sodium_1.0  Sodium_2.0  Sodium_7.0  Sodium_9.0  \\\n",
       "0                      0.0         0.0         0.0         0.0         0.0   \n",
       "1                      0.0         0.0         1.0         0.0         0.0   \n",
       "2                      0.0         0.0         1.0         0.0         0.0   \n",
       "3                      0.0         0.0         1.0         0.0         0.0   \n",
       "4                      0.0         0.0         1.0         0.0         0.0   \n",
       "...                    ...         ...         ...         ...         ...   \n",
       "437509                 0.0         1.0         0.0         0.0         0.0   \n",
       "437510                 0.0         0.0         1.0         0.0         0.0   \n",
       "437511                 0.0         0.0         0.0         0.0         0.0   \n",
       "437512                 0.0         1.0         0.0         0.0         0.0   \n",
       "437513                 0.0         1.0         0.0         0.0         0.0   \n",
       "\n",
       "        Sodium_999.0  Heart_Disease  Sample_Weights  \n",
       "0                1.0            0.0      341.384853  \n",
       "1                0.0            0.0      108.060903  \n",
       "2                0.0            0.0      341.384853  \n",
       "3                0.0            0.0      258.682223  \n",
       "4                0.0            0.0      256.518591  \n",
       "...              ...            ...             ...  \n",
       "437509           0.0            0.0      531.980410  \n",
       "437510           0.0            0.0      746.416599  \n",
       "437511           1.0            0.0      207.663634  \n",
       "437512           0.0            0.0      515.758894  \n",
       "437513           0.0            1.0      224.379062  \n",
       "\n",
       "[437514 rows x 109 columns]"
      ]
     },
     "execution_count": 16,
     "metadata": {},
     "output_type": "execute_result"
    }
   ],
   "source": [
    "df = pd.DataFrame(column_trans.transform(df), columns=column_names_trans)\n",
    "df"
   ]
  },
  {
   "cell_type": "code",
   "execution_count": 17,
   "metadata": {},
   "outputs": [],
   "source": [
    "with open('../Data/modeling_df.pkl', 'wb') as f:\n",
    "    pickle.dump(df, f)\n",
    "    pickle.dump(trans_dict, f)"
   ]
  },
  {
   "cell_type": "markdown",
   "metadata": {},
   "source": [
    "## Training"
   ]
  },
  {
   "cell_type": "code",
   "execution_count": 3,
   "metadata": {},
   "outputs": [],
   "source": [
    "with open('../Data/modeling_df.pkl', 'rb') as f:\n",
    "    df = pickle.load(f)"
   ]
  },
  {
   "cell_type": "code",
   "execution_count": 4,
   "metadata": {},
   "outputs": [],
   "source": [
    "y = df['Heart_Disease']\n",
    "w = df['Sample_Weights']\n",
    "X = df.drop(columns=[y.name, w.name])"
   ]
  },
  {
   "cell_type": "code",
   "execution_count": 5,
   "metadata": {},
   "outputs": [],
   "source": [
    "def log_regressor_scorer(y_test, y_pred, y_pred_proba, sample_weight):\n",
    "    print('Confusion Matrix')\n",
    "    ConfusionMatrixDisplay.from_predictions(y_test, y_pred, sample_weight=sample_weight, normalize = 'true')\n",
    "    plt.show()\n",
    "    print()\n",
    "    \n",
    "    print('Classification Report')\n",
    "    print(classification_report(y_test, y_pred, sample_weight=sample_weight))\n",
    "    print()\n",
    "    \n",
    "    print('Roc Curve')\n",
    "    RocCurveDisplay.from_predictions(y_test, y_pred_proba, sample_weight=sample_weight)\n",
    "    plt.show()"
   ]
  },
  {
   "cell_type": "code",
   "execution_count": 6,
   "metadata": {},
   "outputs": [],
   "source": [
    "def plot_logistic_feature_importance(coefficients, feature_names, number):\n",
    "    coef_enum = enumerate(coefficients)\n",
    "    coef_enum_sorted_top = sorted(coef_enum, key=lambda x: abs(x[1]), reverse=True)[:number]\n",
    "    \n",
    "    indices = list(list(zip(*coef_enum_sorted_top))[0])\n",
    "    names = feature_names[indices]\n",
    "    top_coef = np.array(list(zip(*coef_enum_sorted_top))[1])\n",
    "    \n",
    "    neg_pos = np.where(top_coef < 0)[0]\n",
    "    pos_pos = np.where(top_coef >= 0)[0]\n",
    "    neg_coef = top_coef[neg_pos]\n",
    "    pos_coef = top_coef[pos_pos]\n",
    "    neg_names = names[neg_pos]\n",
    "    pos_names = names[pos_pos]\n",
    "    \n",
    "    _, ax = plt.subplots()\n",
    "    \n",
    "    ax.bar(neg_pos, np.abs(neg_coef), color='r', label='Negative')\n",
    "    ax.bar(pos_pos, np.abs(pos_coef), color='b', label='Positive')\n",
    "    ax.set_xticks(range(0, len(names)))\n",
    "    ax.set_xticklabels(names, rotation=90)\n",
    "    ax.set_title('Top Features by Absolute Value of Model Coefficient')\n",
    "    ax.set_ylabel('Feature Coefficient')\n",
    "    ax.set_xlabel('Features')\n",
    "    \n",
    "    ax.legend()\n",
    "    plt.show()"
   ]
  },
  {
   "cell_type": "code",
   "execution_count": 37,
   "metadata": {},
   "outputs": [],
   "source": [
    "class LogisticRegressionCustom(LogisticRegression):\n",
    "    def __init__(self, max_iter=100, class_weight=None, threshold=None):\n",
    "        super().__init__(max_iter=max_iter, class_weight=class_weight)\n",
    "        self.threshold = threshold\n",
    "    '''    \n",
    "    def fit(self, X, y, sample_weight=None, threshold=None):\n",
    "        if threshold != None:\n",
    "            self.threshold_ = threshold\n",
    "        super().fit(X, y, sample_weight)\n",
    "        return self '''\n",
    "    \n",
    "    def predict(self, X):\n",
    "        if self.threshold != None:\n",
    "            return (super().predict_proba(X)[:, 1] >= self.threshold).astype(int)\n",
    "        else:\n",
    "            return super().predict(X)"
   ]
  },
  {
   "cell_type": "code",
   "execution_count": 8,
   "metadata": {},
   "outputs": [
    {
     "data": {
      "text/plain": [
       "0.08830117436242041"
      ]
     },
     "execution_count": 8,
     "metadata": {},
     "output_type": "execute_result"
    }
   ],
   "source": [
    "y[y==1.0].shape[0] / y.shape[0]"
   ]
  },
  {
   "cell_type": "code",
   "execution_count": 9,
   "metadata": {},
   "outputs": [],
   "source": [
    "X_train, X_test, y_train, y_test, w_train, w_test = train_test_split(X, y, w, test_size=0.2, stratify=y)"
   ]
  },
  {
   "cell_type": "code",
   "execution_count": 10,
   "metadata": {},
   "outputs": [
    {
     "data": {
      "text/plain": [
       "(0.08830008199742294, 0.08830554380992651)"
      ]
     },
     "execution_count": 10,
     "metadata": {},
     "output_type": "execute_result"
    }
   ],
   "source": [
    "y_train[y_train==1.0].shape[0] / y_train.shape[0], y_test[y_test==1.0].shape[0] / y_test.shape[0]"
   ]
  },
  {
   "cell_type": "code",
   "execution_count": 38,
   "metadata": {},
   "outputs": [
    {
     "data": {
      "text/html": [
       "<style>#sk-container-id-3 {color: black;background-color: white;}#sk-container-id-3 pre{padding: 0;}#sk-container-id-3 div.sk-toggleable {background-color: white;}#sk-container-id-3 label.sk-toggleable__label {cursor: pointer;display: block;width: 100%;margin-bottom: 0;padding: 0.3em;box-sizing: border-box;text-align: center;}#sk-container-id-3 label.sk-toggleable__label-arrow:before {content: \"▸\";float: left;margin-right: 0.25em;color: #696969;}#sk-container-id-3 label.sk-toggleable__label-arrow:hover:before {color: black;}#sk-container-id-3 div.sk-estimator:hover label.sk-toggleable__label-arrow:before {color: black;}#sk-container-id-3 div.sk-toggleable__content {max-height: 0;max-width: 0;overflow: hidden;text-align: left;background-color: #f0f8ff;}#sk-container-id-3 div.sk-toggleable__content pre {margin: 0.2em;color: black;border-radius: 0.25em;background-color: #f0f8ff;}#sk-container-id-3 input.sk-toggleable__control:checked~div.sk-toggleable__content {max-height: 200px;max-width: 100%;overflow: auto;}#sk-container-id-3 input.sk-toggleable__control:checked~label.sk-toggleable__label-arrow:before {content: \"▾\";}#sk-container-id-3 div.sk-estimator input.sk-toggleable__control:checked~label.sk-toggleable__label {background-color: #d4ebff;}#sk-container-id-3 div.sk-label input.sk-toggleable__control:checked~label.sk-toggleable__label {background-color: #d4ebff;}#sk-container-id-3 input.sk-hidden--visually {border: 0;clip: rect(1px 1px 1px 1px);clip: rect(1px, 1px, 1px, 1px);height: 1px;margin: -1px;overflow: hidden;padding: 0;position: absolute;width: 1px;}#sk-container-id-3 div.sk-estimator {font-family: monospace;background-color: #f0f8ff;border: 1px dotted black;border-radius: 0.25em;box-sizing: border-box;margin-bottom: 0.5em;}#sk-container-id-3 div.sk-estimator:hover {background-color: #d4ebff;}#sk-container-id-3 div.sk-parallel-item::after {content: \"\";width: 100%;border-bottom: 1px solid gray;flex-grow: 1;}#sk-container-id-3 div.sk-label:hover label.sk-toggleable__label {background-color: #d4ebff;}#sk-container-id-3 div.sk-serial::before {content: \"\";position: absolute;border-left: 1px solid gray;box-sizing: border-box;top: 0;bottom: 0;left: 50%;z-index: 0;}#sk-container-id-3 div.sk-serial {display: flex;flex-direction: column;align-items: center;background-color: white;padding-right: 0.2em;padding-left: 0.2em;position: relative;}#sk-container-id-3 div.sk-item {position: relative;z-index: 1;}#sk-container-id-3 div.sk-parallel {display: flex;align-items: stretch;justify-content: center;background-color: white;position: relative;}#sk-container-id-3 div.sk-item::before, #sk-container-id-3 div.sk-parallel-item::before {content: \"\";position: absolute;border-left: 1px solid gray;box-sizing: border-box;top: 0;bottom: 0;left: 50%;z-index: -1;}#sk-container-id-3 div.sk-parallel-item {display: flex;flex-direction: column;z-index: 1;position: relative;background-color: white;}#sk-container-id-3 div.sk-parallel-item:first-child::after {align-self: flex-end;width: 50%;}#sk-container-id-3 div.sk-parallel-item:last-child::after {align-self: flex-start;width: 50%;}#sk-container-id-3 div.sk-parallel-item:only-child::after {width: 0;}#sk-container-id-3 div.sk-dashed-wrapped {border: 1px dashed gray;margin: 0 0.4em 0.5em 0.4em;box-sizing: border-box;padding-bottom: 0.4em;background-color: white;}#sk-container-id-3 div.sk-label label {font-family: monospace;font-weight: bold;display: inline-block;line-height: 1.2em;}#sk-container-id-3 div.sk-label-container {text-align: center;}#sk-container-id-3 div.sk-container {/* jupyter's `normalize.less` sets `[hidden] { display: none; }` but bootstrap.min.css set `[hidden] { display: none !important; }` so we also need the `!important` here to be able to override the default hidden behavior on the sphinx rendered scikit-learn.org. See: https://github.com/scikit-learn/scikit-learn/issues/21755 */display: inline-block !important;position: relative;}#sk-container-id-3 div.sk-text-repr-fallback {display: none;}</style><div id=\"sk-container-id-3\" class=\"sk-top-container\"><div class=\"sk-text-repr-fallback\"><pre>LogisticRegressionCustom(max_iter=500)</pre><b>In a Jupyter environment, please rerun this cell to show the HTML representation or trust the notebook. <br />On GitHub, the HTML representation is unable to render, please try loading this page with nbviewer.org.</b></div><div class=\"sk-container\" hidden><div class=\"sk-item\"><div class=\"sk-estimator sk-toggleable\"><input class=\"sk-toggleable__control sk-hidden--visually\" id=\"sk-estimator-id-3\" type=\"checkbox\" checked><label for=\"sk-estimator-id-3\" class=\"sk-toggleable__label sk-toggleable__label-arrow\">LogisticRegressionCustom</label><div class=\"sk-toggleable__content\"><pre>LogisticRegressionCustom(max_iter=500)</pre></div></div></div></div></div>"
      ],
      "text/plain": [
       "LogisticRegressionCustom(max_iter=500)"
      ]
     },
     "execution_count": 38,
     "metadata": {},
     "output_type": "execute_result"
    }
   ],
   "source": [
    "log_regressor = LogisticRegressionCustom(max_iter=500)\n",
    "log_regressor.fit(X_train, y_train, sample_weight=w_train)"
   ]
  },
  {
   "cell_type": "code",
   "execution_count": 12,
   "metadata": {},
   "outputs": [],
   "source": [
    "y_train_pred = log_regressor.predict(X_train)\n",
    "y_train_pred_proba = log_regressor.predict_proba(X_train)[:, 1]"
   ]
  },
  {
   "cell_type": "code",
   "execution_count": 13,
   "metadata": {},
   "outputs": [],
   "source": [
    "y_pred = log_regressor.predict(X_test)\n",
    "y_pred_proba = log_regressor.predict_proba(X_test)[:, 1]"
   ]
  },
  {
   "cell_type": "code",
   "execution_count": 14,
   "metadata": {},
   "outputs": [
    {
     "name": "stdout",
     "output_type": "stream",
     "text": [
      "Confusion Matrix\n"
     ]
    },
    {
     "data": {
      "image/png": "[encoded data removed]",
      "text/plain": [
       "<Figure size 640x480 with 2 Axes>"
      ]
     },
     "metadata": {},
     "output_type": "display_data"
    },
    {
     "name": "stdout",
     "output_type": "stream",
     "text": [
      "\n",
      "Classification Report\n",
      "              precision    recall  f1-score   support\n",
      "\n",
      "         0.0       0.94      0.99      0.97 186707050.24709746\n",
      "         1.0       0.53      0.11      0.18 12819954.791062167\n",
      "\n",
      "    accuracy                           0.94 199527005.03815964\n",
      "   macro avg       0.74      0.55      0.57 199527005.03815964\n",
      "weighted avg       0.92      0.94      0.92 199527005.03815964\n",
      "\n",
      "\n",
      "Roc Curve\n"
     ]
    },
    {
     "data": {
      "image/png": "[encoded data removed]",
      "text/plain": [
       "<Figure size 640x480 with 1 Axes>"
      ]
     },
     "metadata": {},
     "output_type": "display_data"
    }
   ],
   "source": [
    "log_regressor_scorer(y_train, y_train_pred, y_train_pred_proba, w_train)"
   ]
  },
  {
   "cell_type": "code",
   "execution_count": 15,
   "metadata": {},
   "outputs": [
    {
     "name": "stdout",
     "output_type": "stream",
     "text": [
      "Confusion Matrix\n"
     ]
    },
    {
     "data": {
      "image/png": "[encoded data removed]",
      "text/plain": [
       "<Figure size 640x480 with 2 Axes>"
      ]
     },
     "metadata": {},
     "output_type": "display_data"
    },
    {
     "name": "stdout",
     "output_type": "stream",
     "text": [
      "\n",
      "Classification Report\n",
      "              precision    recall  f1-score   support\n",
      "\n",
      "         0.0       0.94      0.99      0.97 46672849.23711728\n",
      "         1.0       0.57      0.11      0.19 3188946.5952079524\n",
      "\n",
      "    accuracy                           0.94 49861795.832325235\n",
      "   macro avg       0.75      0.55      0.58 49861795.832325235\n",
      "weighted avg       0.92      0.94      0.92 49861795.832325235\n",
      "\n",
      "\n",
      "Roc Curve\n"
     ]
    },
    {
     "data": {
      "image/png": "[encoded data removed]",
      "text/plain": [
       "<Figure size 640x480 with 1 Axes>"
      ]
     },
     "metadata": {},
     "output_type": "display_data"
    }
   ],
   "source": [
    "log_regressor_scorer(y_test, y_pred, y_pred_proba, w_test)"
   ]
  },
  {
   "cell_type": "code",
   "execution_count": 16,
   "metadata": {},
   "outputs": [
    {
     "data": {
      "image/png": "[encoded data removed]",
      "text/plain": [
       "<Figure size 640x480 with 1 Axes>"
      ]
     },
     "metadata": {},
     "output_type": "display_data"
    }
   ],
   "source": [
    "plot_logistic_feature_importance(log_regressor.coef_[0], log_regressor.feature_names_in_, 20)"
   ]
  },
  {
   "cell_type": "code",
   "execution_count": 18,
   "metadata": {},
   "outputs": [
    {
     "name": "stdout",
     "output_type": "stream",
     "text": [
      "0.8000068452972127 0.0759783727082677\n"
     ]
    }
   ],
   "source": [
    "fpr, tpr, threshold = roc_curve(y_test, y_pred_proba, sample_weight=w_test)\n",
    "\n",
    "for tpr_, threshold_ in zip(tpr, threshold):\n",
    "    if (tpr_ >= 0.80):\n",
    "        new_threshold = threshold_\n",
    "        print(tpr_, threshold_)\n",
    "        break"
   ]
  },
  {
   "cell_type": "code",
   "execution_count": 19,
   "metadata": {},
   "outputs": [
    {
     "data": {
      "text/html": [
       "<style>#sk-container-id-2 {color: black;background-color: white;}#sk-container-id-2 pre{padding: 0;}#sk-container-id-2 div.sk-toggleable {background-color: white;}#sk-container-id-2 label.sk-toggleable__label {cursor: pointer;display: block;width: 100%;margin-bottom: 0;padding: 0.3em;box-sizing: border-box;text-align: center;}#sk-container-id-2 label.sk-toggleable__label-arrow:before {content: \"▸\";float: left;margin-right: 0.25em;color: #696969;}#sk-container-id-2 label.sk-toggleable__label-arrow:hover:before {color: black;}#sk-container-id-2 div.sk-estimator:hover label.sk-toggleable__label-arrow:before {color: black;}#sk-container-id-2 div.sk-toggleable__content {max-height: 0;max-width: 0;overflow: hidden;text-align: left;background-color: #f0f8ff;}#sk-container-id-2 div.sk-toggleable__content pre {margin: 0.2em;color: black;border-radius: 0.25em;background-color: #f0f8ff;}#sk-container-id-2 input.sk-toggleable__control:checked~div.sk-toggleable__content {max-height: 200px;max-width: 100%;overflow: auto;}#sk-container-id-2 input.sk-toggleable__control:checked~label.sk-toggleable__label-arrow:before {content: \"▾\";}#sk-container-id-2 div.sk-estimator input.sk-toggleable__control:checked~label.sk-toggleable__label {background-color: #d4ebff;}#sk-container-id-2 div.sk-label input.sk-toggleable__control:checked~label.sk-toggleable__label {background-color: #d4ebff;}#sk-container-id-2 input.sk-hidden--visually {border: 0;clip: rect(1px 1px 1px 1px);clip: rect(1px, 1px, 1px, 1px);height: 1px;margin: -1px;overflow: hidden;padding: 0;position: absolute;width: 1px;}#sk-container-id-2 div.sk-estimator {font-family: monospace;background-color: #f0f8ff;border: 1px dotted black;border-radius: 0.25em;box-sizing: border-box;margin-bottom: 0.5em;}#sk-container-id-2 div.sk-estimator:hover {background-color: #d4ebff;}#sk-container-id-2 div.sk-parallel-item::after {content: \"\";width: 100%;border-bottom: 1px solid gray;flex-grow: 1;}#sk-container-id-2 div.sk-label:hover label.sk-toggleable__label {background-color: #d4ebff;}#sk-container-id-2 div.sk-serial::before {content: \"\";position: absolute;border-left: 1px solid gray;box-sizing: border-box;top: 0;bottom: 0;left: 50%;z-index: 0;}#sk-container-id-2 div.sk-serial {display: flex;flex-direction: column;align-items: center;background-color: white;padding-right: 0.2em;padding-left: 0.2em;position: relative;}#sk-container-id-2 div.sk-item {position: relative;z-index: 1;}#sk-container-id-2 div.sk-parallel {display: flex;align-items: stretch;justify-content: center;background-color: white;position: relative;}#sk-container-id-2 div.sk-item::before, #sk-container-id-2 div.sk-parallel-item::before {content: \"\";position: absolute;border-left: 1px solid gray;box-sizing: border-box;top: 0;bottom: 0;left: 50%;z-index: -1;}#sk-container-id-2 div.sk-parallel-item {display: flex;flex-direction: column;z-index: 1;position: relative;background-color: white;}#sk-container-id-2 div.sk-parallel-item:first-child::after {align-self: flex-end;width: 50%;}#sk-container-id-2 div.sk-parallel-item:last-child::after {align-self: flex-start;width: 50%;}#sk-container-id-2 div.sk-parallel-item:only-child::after {width: 0;}#sk-container-id-2 div.sk-dashed-wrapped {border: 1px dashed gray;margin: 0 0.4em 0.5em 0.4em;box-sizing: border-box;padding-bottom: 0.4em;background-color: white;}#sk-container-id-2 div.sk-label label {font-family: monospace;font-weight: bold;display: inline-block;line-height: 1.2em;}#sk-container-id-2 div.sk-label-container {text-align: center;}#sk-container-id-2 div.sk-container {/* jupyter's `normalize.less` sets `[hidden] { display: none; }` but bootstrap.min.css set `[hidden] { display: none !important; }` so we also need the `!important` here to be able to override the default hidden behavior on the sphinx rendered scikit-learn.org. See: https://github.com/scikit-learn/scikit-learn/issues/21755 */display: inline-block !important;position: relative;}#sk-container-id-2 div.sk-text-repr-fallback {display: none;}</style><div id=\"sk-container-id-2\" class=\"sk-top-container\"><div class=\"sk-text-repr-fallback\"><pre>LogisticRegressionCustom(max_iter=500, threshold=0.0759783727082677)</pre><b>In a Jupyter environment, please rerun this cell to show the HTML representation or trust the notebook. <br />On GitHub, the HTML representation is unable to render, please try loading this page with nbviewer.org.</b></div><div class=\"sk-container\" hidden><div class=\"sk-item\"><div class=\"sk-estimator sk-toggleable\"><input class=\"sk-toggleable__control sk-hidden--visually\" id=\"sk-estimator-id-2\" type=\"checkbox\" checked><label for=\"sk-estimator-id-2\" class=\"sk-toggleable__label sk-toggleable__label-arrow\">LogisticRegressionCustom</label><div class=\"sk-toggleable__content\"><pre>LogisticRegressionCustom(max_iter=500, threshold=0.0759783727082677)</pre></div></div></div></div></div>"
      ],
      "text/plain": [
       "LogisticRegressionCustom(max_iter=500, threshold=0.0759783727082677)"
      ]
     },
     "execution_count": 19,
     "metadata": {},
     "output_type": "execute_result"
    }
   ],
   "source": [
    "log_regressor.set_params(threshold=new_threshold)"
   ]
  },
  {
   "cell_type": "code",
   "execution_count": 20,
   "metadata": {},
   "outputs": [],
   "source": [
    "y_pred_thresh = log_regressor.predict(X_test)\n",
    "y_pred_thresh_proba = log_regressor.predict_proba(X_test)[:, 1]"
   ]
  },
  {
   "cell_type": "code",
   "execution_count": 21,
   "metadata": {},
   "outputs": [
    {
     "data": {
      "text/plain": [
       "(True, False)"
      ]
     },
     "execution_count": 21,
     "metadata": {},
     "output_type": "execute_result"
    }
   ],
   "source": [
    "any([x[0] != x[1] for x in list(zip(y_pred, y_pred_thresh))]), \\\n",
    "any([x[0] != x[1] for x in list(zip(y_pred_proba, y_pred_thresh_proba))])"
   ]
  },
  {
   "cell_type": "code",
   "execution_count": 22,
   "metadata": {},
   "outputs": [
    {
     "name": "stdout",
     "output_type": "stream",
     "text": [
      "Confusion Matrix\n"
     ]
    },
    {
     "data": {
      "image/png": "[encoded data removed]",
      "text/plain": [
       "<Figure size 640x480 with 2 Axes>"
      ]
     },
     "metadata": {},
     "output_type": "display_data"
    },
    {
     "name": "stdout",
     "output_type": "stream",
     "text": [
      "\n",
      "Classification Report\n",
      "              precision    recall  f1-score   support\n",
      "\n",
      "         0.0       0.98      0.80      0.88 46672849.23711728\n",
      "         1.0       0.22      0.80      0.34 3188946.5952079524\n",
      "\n",
      "    accuracy                           0.80 49861795.832325235\n",
      "   macro avg       0.60      0.80      0.61 49861795.832325235\n",
      "weighted avg       0.93      0.80      0.85 49861795.832325235\n",
      "\n",
      "\n",
      "Roc Curve\n"
     ]
    },
    {
     "data": {
      "image/png": "[encoded data removed]",
      "text/plain": [
       "<Figure size 640x480 with 1 Axes>"
      ]
     },
     "metadata": {},
     "output_type": "display_data"
    }
   ],
   "source": [
    "log_regressor_scorer(y_test, y_pred_thresh, y_pred_thresh_proba, w_test)"
   ]
  },
  {
   "cell_type": "code",
   "execution_count": 73,
   "metadata": {},
   "outputs": [],
   "source": [
    "regressor_test = LogisticRegressionCustom(max_iter=500).fit(X_train, y_train, sample_weight=None)"
   ]
  },
  {
   "cell_type": "code",
   "execution_count": 74,
   "metadata": {},
   "outputs": [
    {
     "data": {
      "text/plain": [
       "{'class_weight': None, 'max_iter': 500, 'threshold': None}"
      ]
     },
     "execution_count": 74,
     "metadata": {},
     "output_type": "execute_result"
    }
   ],
   "source": [
    "regressor_test."
   ]
  },
  {
   "cell_type": "code",
   "execution_count": 76,
   "metadata": {},
   "outputs": [],
   "source": [
    "def cv_scorer(name, model, fit_params=None, print_output=True):\n",
    "    scoring_list = ['roc_auc', 'precision', 'recall', 'f1']\n",
    "    cv_scores = cross_validate(model, X, y, scoring=scoring_list, fit_params=fit_params)\n",
    "    if print_output == True:\n",
    "        print(name + ' cv_scores:')\n",
    "        print(cv_scores)\n",
    "        print()\n",
    "    \n",
    "    dict_scores = {}\n",
    "    for score in scoring_list:\n",
    "        scores_ = cv_scores['test_' + score]\n",
    "        mean_ = cv_scores['test_' + score].mean()\n",
    "        std_ = cv_scores['test_' + score].std()\n",
    "        \n",
    "        dict_scores[score]= dict(zip(['scores', 'mean', 'std'], [scores_, mean_, std_]))\n",
    "        \n",
    "        if print_output == True:\n",
    "            print(score + ' mean: ' + f'{cv_scores[\"test_\" + score].mean():0.2f}')\n",
    "            print(score + ' std: ' + f'{cv_scores[\"test_\" + score].std():0.4f}')\n",
    "            print()\n",
    "    if print_output == True:\n",
    "        print()\n",
    "    \n",
    "    return {name:dict_scores}"
   ]
  },
  {
   "cell_type": "code",
   "execution_count": 79,
   "metadata": {},
   "outputs": [],
   "source": [
    "cv_model_results = {}"
   ]
  },
  {
   "cell_type": "code",
   "execution_count": 82,
   "metadata": {},
   "outputs": [
    {
     "name": "stdout",
     "output_type": "stream",
     "text": [
      "Logistic Regression, no Threshold cv_scores:\n",
      "{'fit_time': array([27.83104014, 28.97259283, 30.32736945, 30.16947794, 33.16272902]), 'score_time': array([0.16637325, 0.15888143, 0.1598258 , 0.16155148, 0.16846061]), 'test_roc_auc': array([0.83903345, 0.84718019, 0.84505138, 0.8455445 , 0.84173371]), 'test_precision': array([0.51930502, 0.53601815, 0.53558844, 0.51607445, 0.53413655]), 'test_recall': array([0.1044525 , 0.12229843, 0.09835641, 0.11841594, 0.1205022 ]), 'test_f1': array([0.17392241, 0.19915701, 0.16619287, 0.19263158, 0.19664167])}\n",
      "\n",
      "roc_auc mean: 0.84\n",
      "roc_auc std: 0.0029\n",
      "\n",
      "precision mean: 0.53\n",
      "precision std: 0.0087\n",
      "\n",
      "recall mean: 0.11\n",
      "recall std: 0.0096\n",
      "\n",
      "f1 mean: 0.19\n",
      "f1 std: 0.0132\n",
      "\n",
      "\n",
      "Logistic Regression with Threshold cv_scores:\n",
      "{'fit_time': array([27.42392159, 28.56874132, 30.6786418 , 30.07017875, 33.79496598]), 'score_time': array([0.1636312 , 0.15390182, 0.14914131, 0.15799046, 0.1748836 ]), 'test_roc_auc': array([0.83903345, 0.84718019, 0.84505138, 0.8455445 , 0.84173371]), 'test_precision': array([0.21408886, 0.21241649, 0.22037133, 0.20905991, 0.21669287]), 'test_recall': array([0.82448874, 0.84353565, 0.82179371, 0.84094733, 0.82060575]), 'test_f1': array([0.33991462, 0.33937311, 0.34754529, 0.33487078, 0.34285096])}\n",
      "\n",
      "roc_auc mean: 0.84\n",
      "roc_auc std: 0.0029\n",
      "\n",
      "precision mean: 0.21\n",
      "precision std: 0.0038\n",
      "\n",
      "recall mean: 0.83\n",
      "recall std: 0.0099\n",
      "\n",
      "f1 mean: 0.34\n",
      "f1 std: 0.0042\n",
      "\n",
      "\n"
     ]
    }
   ],
   "source": [
    "model_names = ['Logistic Regression, no Threshold', 'Logistic Regression with Threshold']\n",
    "models = [LogisticRegressionCustom(max_iter=500), LogisticRegressionCustom(max_iter=500, threshold=new_threshold)]\n",
    "for name, model in zip(model_names, models):\n",
    "    cv_model_results[name] = cv_scorer(name, model, fit_params=dict(sample_weight=w))"
   ]
  },
  {
   "cell_type": "code",
   "execution_count": 83,
   "metadata": {},
   "outputs": [
    {
     "data": {
      "text/plain": [
       "{'Logistic Regression, no Threshold': {'Logistic Regression, no Threshold': {'roc_auc': {'scores': array([0.83903345, 0.84718019, 0.84505138, 0.8455445 , 0.84173371]),\n",
       "    'mean': 0.8437086455341619,\n",
       "    'std': 0.0029319869983208415},\n",
       "   'precision': {'scores': array([0.51930502, 0.53601815, 0.53558844, 0.51607445, 0.53413655]),\n",
       "    'mean': 0.528224521803746,\n",
       "    'std': 0.008684489426936509},\n",
       "   'recall': {'scores': array([0.1044525 , 0.12229843, 0.09835641, 0.11841594, 0.1205022 ]),\n",
       "    'mean': 0.11280509783094139,\n",
       "    'std': 0.009585205729773574},\n",
       "   'f1': {'scores': array([0.17392241, 0.19915701, 0.16619287, 0.19263158, 0.19664167]),\n",
       "    'mean': 0.18570910882886044,\n",
       "    'std': 0.013176473234431347}}},\n",
       " 'Logistic Regression with Threshold': {'Logistic Regression with Threshold': {'roc_auc': {'scores': array([0.83903345, 0.84718019, 0.84505138, 0.8455445 , 0.84173371]),\n",
       "    'mean': 0.8437086455341619,\n",
       "    'std': 0.0029319869983208415},\n",
       "   'precision': {'scores': array([0.21408886, 0.21241649, 0.22037133, 0.20905991, 0.21669287]),\n",
       "    'mean': 0.2145258925797969,\n",
       "    'std': 0.0038309937454689973},\n",
       "   'recall': {'scores': array([0.82448874, 0.84353565, 0.82179371, 0.84094733, 0.82060575]),\n",
       "    'mean': 0.8302742356538412,\n",
       "    'std': 0.009885859250941568},\n",
       "   'f1': {'scores': array([0.33991462, 0.33937311, 0.34754529, 0.33487078, 0.34285096]),\n",
       "    'mean': 0.34091095280529915,\n",
       "    'std': 0.004186153865972158}}}}"
      ]
     },
     "execution_count": 83,
     "metadata": {},
     "output_type": "execute_result"
    }
   ],
   "source": [
    "cv_model_results"
   ]
  },
  {
   "attachments": {},
   "cell_type": "markdown",
   "metadata": {},
   "source": [
    "# Imbalance"
   ]
  },
  {
   "cell_type": "code",
   "execution_count": 50,
   "metadata": {},
   "outputs": [
    {
     "data": {
      "text/html": [
       "<style>#sk-container-id-4 {color: black;background-color: white;}#sk-container-id-4 pre{padding: 0;}#sk-container-id-4 div.sk-toggleable {background-color: white;}#sk-container-id-4 label.sk-toggleable__label {cursor: pointer;display: block;width: 100%;margin-bottom: 0;padding: 0.3em;box-sizing: border-box;text-align: center;}#sk-container-id-4 label.sk-toggleable__label-arrow:before {content: \"▸\";float: left;margin-right: 0.25em;color: #696969;}#sk-container-id-4 label.sk-toggleable__label-arrow:hover:before {color: black;}#sk-container-id-4 div.sk-estimator:hover label.sk-toggleable__label-arrow:before {color: black;}#sk-container-id-4 div.sk-toggleable__content {max-height: 0;max-width: 0;overflow: hidden;text-align: left;background-color: #f0f8ff;}#sk-container-id-4 div.sk-toggleable__content pre {margin: 0.2em;color: black;border-radius: 0.25em;background-color: #f0f8ff;}#sk-container-id-4 input.sk-toggleable__control:checked~div.sk-toggleable__content {max-height: 200px;max-width: 100%;overflow: auto;}#sk-container-id-4 input.sk-toggleable__control:checked~label.sk-toggleable__label-arrow:before {content: \"▾\";}#sk-container-id-4 div.sk-estimator input.sk-toggleable__control:checked~label.sk-toggleable__label {background-color: #d4ebff;}#sk-container-id-4 div.sk-label input.sk-toggleable__control:checked~label.sk-toggleable__label {background-color: #d4ebff;}#sk-container-id-4 input.sk-hidden--visually {border: 0;clip: rect(1px 1px 1px 1px);clip: rect(1px, 1px, 1px, 1px);height: 1px;margin: -1px;overflow: hidden;padding: 0;position: absolute;width: 1px;}#sk-container-id-4 div.sk-estimator {font-family: monospace;background-color: #f0f8ff;border: 1px dotted black;border-radius: 0.25em;box-sizing: border-box;margin-bottom: 0.5em;}#sk-container-id-4 div.sk-estimator:hover {background-color: #d4ebff;}#sk-container-id-4 div.sk-parallel-item::after {content: \"\";width: 100%;border-bottom: 1px solid gray;flex-grow: 1;}#sk-container-id-4 div.sk-label:hover label.sk-toggleable__label {background-color: #d4ebff;}#sk-container-id-4 div.sk-serial::before {content: \"\";position: absolute;border-left: 1px solid gray;box-sizing: border-box;top: 0;bottom: 0;left: 50%;z-index: 0;}#sk-container-id-4 div.sk-serial {display: flex;flex-direction: column;align-items: center;background-color: white;padding-right: 0.2em;padding-left: 0.2em;position: relative;}#sk-container-id-4 div.sk-item {position: relative;z-index: 1;}#sk-container-id-4 div.sk-parallel {display: flex;align-items: stretch;justify-content: center;background-color: white;position: relative;}#sk-container-id-4 div.sk-item::before, #sk-container-id-4 div.sk-parallel-item::before {content: \"\";position: absolute;border-left: 1px solid gray;box-sizing: border-box;top: 0;bottom: 0;left: 50%;z-index: -1;}#sk-container-id-4 div.sk-parallel-item {display: flex;flex-direction: column;z-index: 1;position: relative;background-color: white;}#sk-container-id-4 div.sk-parallel-item:first-child::after {align-self: flex-end;width: 50%;}#sk-container-id-4 div.sk-parallel-item:last-child::after {align-self: flex-start;width: 50%;}#sk-container-id-4 div.sk-parallel-item:only-child::after {width: 0;}#sk-container-id-4 div.sk-dashed-wrapped {border: 1px dashed gray;margin: 0 0.4em 0.5em 0.4em;box-sizing: border-box;padding-bottom: 0.4em;background-color: white;}#sk-container-id-4 div.sk-label label {font-family: monospace;font-weight: bold;display: inline-block;line-height: 1.2em;}#sk-container-id-4 div.sk-label-container {text-align: center;}#sk-container-id-4 div.sk-container {/* jupyter's `normalize.less` sets `[hidden] { display: none; }` but bootstrap.min.css set `[hidden] { display: none !important; }` so we also need the `!important` here to be able to override the default hidden behavior on the sphinx rendered scikit-learn.org. See: https://github.com/scikit-learn/scikit-learn/issues/21755 */display: inline-block !important;position: relative;}#sk-container-id-4 div.sk-text-repr-fallback {display: none;}</style><div id=\"sk-container-id-4\" class=\"sk-top-container\"><div class=\"sk-text-repr-fallback\"><pre>LogisticRegressionCustom(class_weight=&#x27;balanced&#x27;, max_iter=500,\n",
       "                         threshold=0.0759783727082677)</pre><b>In a Jupyter environment, please rerun this cell to show the HTML representation or trust the notebook. <br />On GitHub, the HTML representation is unable to render, please try loading this page with nbviewer.org.</b></div><div class=\"sk-container\" hidden><div class=\"sk-item\"><div class=\"sk-estimator sk-toggleable\"><input class=\"sk-toggleable__control sk-hidden--visually\" id=\"sk-estimator-id-4\" type=\"checkbox\" checked><label for=\"sk-estimator-id-4\" class=\"sk-toggleable__label sk-toggleable__label-arrow\">LogisticRegressionCustom</label><div class=\"sk-toggleable__content\"><pre>LogisticRegressionCustom(class_weight=&#x27;balanced&#x27;, max_iter=500,\n",
       "                         threshold=0.0759783727082677)</pre></div></div></div></div></div>"
      ],
      "text/plain": [
       "LogisticRegressionCustom(class_weight='balanced', max_iter=500,\n",
       "                         threshold=0.0759783727082677)"
      ]
     },
     "execution_count": 50,
     "metadata": {},
     "output_type": "execute_result"
    }
   ],
   "source": [
    "log_regressor.set_params(class_weight='balanced')\n",
    "log_regressor.fit(X_train, y_train, w_train)"
   ]
  },
  {
   "cell_type": "code",
   "execution_count": 54,
   "metadata": {},
   "outputs": [
    {
     "data": {
      "text/plain": [
       "True"
      ]
     },
     "execution_count": 54,
     "metadata": {},
     "output_type": "execute_result"
    }
   ],
   "source": [
    "any([x[0] != x[1] for x in list(zip(y_pred, y_pred_bal))])"
   ]
  },
  {
   "cell_type": "code",
   "execution_count": 51,
   "metadata": {},
   "outputs": [
    {
     "name": "stdout",
     "output_type": "stream",
     "text": [
      "Confusion Matrix\n"
     ]
    },
    {
     "data": {
      "image/png": "[encoded data removed]",
      "text/plain": [
       "<Figure size 640x480 with 2 Axes>"
      ]
     },
     "metadata": {},
     "output_type": "display_data"
    },
    {
     "name": "stdout",
     "output_type": "stream",
     "text": [
      "\n",
      "Classification Report\n",
      "              precision    recall  f1-score   support\n",
      "\n",
      "         0.0       1.00      0.34      0.50 46672849.23711728\n",
      "         1.0       0.09      0.98      0.17 3188946.5952079524\n",
      "\n",
      "    accuracy                           0.38 49861795.832325235\n",
      "   macro avg       0.54      0.66      0.34 49861795.832325235\n",
      "weighted avg       0.94      0.38      0.48 49861795.832325235\n",
      "\n",
      "\n",
      "Roc Curve\n"
     ]
    },
    {
     "data": {
      "image/png": "[encoded data removed]",
      "text/plain": [
       "<Figure size 640x480 with 1 Axes>"
      ]
     },
     "metadata": {},
     "output_type": "display_data"
    }
   ],
   "source": [
    "y_pred_bal = log_regressor.predict(X_test)\n",
    "y_pred_proba_bal = log_regressor.predict_proba(X_test)[:, 1]\n",
    "\n",
    "log_regressor_scorer(y_test, y_pred_bal, y_pred_proba_bal, sample_weight=w_test)"
   ]
  },
  {
   "cell_type": "code",
   "execution_count": 84,
   "metadata": {},
   "outputs": [
    {
     "data": {
      "text/html": [
       "<style>#sk-container-id-5 {color: black;background-color: white;}#sk-container-id-5 pre{padding: 0;}#sk-container-id-5 div.sk-toggleable {background-color: white;}#sk-container-id-5 label.sk-toggleable__label {cursor: pointer;display: block;width: 100%;margin-bottom: 0;padding: 0.3em;box-sizing: border-box;text-align: center;}#sk-container-id-5 label.sk-toggleable__label-arrow:before {content: \"▸\";float: left;margin-right: 0.25em;color: #696969;}#sk-container-id-5 label.sk-toggleable__label-arrow:hover:before {color: black;}#sk-container-id-5 div.sk-estimator:hover label.sk-toggleable__label-arrow:before {color: black;}#sk-container-id-5 div.sk-toggleable__content {max-height: 0;max-width: 0;overflow: hidden;text-align: left;background-color: #f0f8ff;}#sk-container-id-5 div.sk-toggleable__content pre {margin: 0.2em;color: black;border-radius: 0.25em;background-color: #f0f8ff;}#sk-container-id-5 input.sk-toggleable__control:checked~div.sk-toggleable__content {max-height: 200px;max-width: 100%;overflow: auto;}#sk-container-id-5 input.sk-toggleable__control:checked~label.sk-toggleable__label-arrow:before {content: \"▾\";}#sk-container-id-5 div.sk-estimator input.sk-toggleable__control:checked~label.sk-toggleable__label {background-color: #d4ebff;}#sk-container-id-5 div.sk-label input.sk-toggleable__control:checked~label.sk-toggleable__label {background-color: #d4ebff;}#sk-container-id-5 input.sk-hidden--visually {border: 0;clip: rect(1px 1px 1px 1px);clip: rect(1px, 1px, 1px, 1px);height: 1px;margin: -1px;overflow: hidden;padding: 0;position: absolute;width: 1px;}#sk-container-id-5 div.sk-estimator {font-family: monospace;background-color: #f0f8ff;border: 1px dotted black;border-radius: 0.25em;box-sizing: border-box;margin-bottom: 0.5em;}#sk-container-id-5 div.sk-estimator:hover {background-color: #d4ebff;}#sk-container-id-5 div.sk-parallel-item::after {content: \"\";width: 100%;border-bottom: 1px solid gray;flex-grow: 1;}#sk-container-id-5 div.sk-label:hover label.sk-toggleable__label {background-color: #d4ebff;}#sk-container-id-5 div.sk-serial::before {content: \"\";position: absolute;border-left: 1px solid gray;box-sizing: border-box;top: 0;bottom: 0;left: 50%;z-index: 0;}#sk-container-id-5 div.sk-serial {display: flex;flex-direction: column;align-items: center;background-color: white;padding-right: 0.2em;padding-left: 0.2em;position: relative;}#sk-container-id-5 div.sk-item {position: relative;z-index: 1;}#sk-container-id-5 div.sk-parallel {display: flex;align-items: stretch;justify-content: center;background-color: white;position: relative;}#sk-container-id-5 div.sk-item::before, #sk-container-id-5 div.sk-parallel-item::before {content: \"\";position: absolute;border-left: 1px solid gray;box-sizing: border-box;top: 0;bottom: 0;left: 50%;z-index: -1;}#sk-container-id-5 div.sk-parallel-item {display: flex;flex-direction: column;z-index: 1;position: relative;background-color: white;}#sk-container-id-5 div.sk-parallel-item:first-child::after {align-self: flex-end;width: 50%;}#sk-container-id-5 div.sk-parallel-item:last-child::after {align-self: flex-start;width: 50%;}#sk-container-id-5 div.sk-parallel-item:only-child::after {width: 0;}#sk-container-id-5 div.sk-dashed-wrapped {border: 1px dashed gray;margin: 0 0.4em 0.5em 0.4em;box-sizing: border-box;padding-bottom: 0.4em;background-color: white;}#sk-container-id-5 div.sk-label label {font-family: monospace;font-weight: bold;display: inline-block;line-height: 1.2em;}#sk-container-id-5 div.sk-label-container {text-align: center;}#sk-container-id-5 div.sk-container {/* jupyter's `normalize.less` sets `[hidden] { display: none; }` but bootstrap.min.css set `[hidden] { display: none !important; }` so we also need the `!important` here to be able to override the default hidden behavior on the sphinx rendered scikit-learn.org. See: https://github.com/scikit-learn/scikit-learn/issues/21755 */display: inline-block !important;position: relative;}#sk-container-id-5 div.sk-text-repr-fallback {display: none;}</style><div id=\"sk-container-id-5\" class=\"sk-top-container\"><div class=\"sk-text-repr-fallback\"><pre>LogisticRegressionCustom(class_weight=&#x27;balanced&#x27;, max_iter=500,\n",
       "                         threshold=0.0759783727082677)</pre><b>In a Jupyter environment, please rerun this cell to show the HTML representation or trust the notebook. <br />On GitHub, the HTML representation is unable to render, please try loading this page with nbviewer.org.</b></div><div class=\"sk-container\" hidden><div class=\"sk-item\"><div class=\"sk-estimator sk-toggleable\"><input class=\"sk-toggleable__control sk-hidden--visually\" id=\"sk-estimator-id-5\" type=\"checkbox\" checked><label for=\"sk-estimator-id-5\" class=\"sk-toggleable__label sk-toggleable__label-arrow\">LogisticRegressionCustom</label><div class=\"sk-toggleable__content\"><pre>LogisticRegressionCustom(class_weight=&#x27;balanced&#x27;, max_iter=500,\n",
       "                         threshold=0.0759783727082677)</pre></div></div></div></div></div>"
      ],
      "text/plain": [
       "LogisticRegressionCustom(class_weight='balanced', max_iter=500,\n",
       "                         threshold=0.0759783727082677)"
      ]
     },
     "execution_count": 84,
     "metadata": {},
     "output_type": "execute_result"
    }
   ],
   "source": [
    "log_regressor"
   ]
  },
  {
   "cell_type": "code",
   "execution_count": 85,
   "metadata": {},
   "outputs": [
    {
     "name": "stdout",
     "output_type": "stream",
     "text": [
      "LogisticRegression with Class Weights cv_scores:\n",
      "{'fit_time': array([32.40253949, 29.60738301, 32.24826455, 32.71943116, 46.67478061]), 'score_time': array([0.17428923, 0.18437123, 0.1617496 , 0.16544533, 0.15401101]), 'test_roc_auc': array([0.83875716, 0.84710798, 0.84497008, 0.84512636, 0.84180897]), 'test_precision': array([0.10894054, 0.10747781, 0.10873759, 0.10695611, 0.11114025]), 'test_recall': array([0.98886875, 0.9936586 , 0.9921056 , 0.99534101, 0.98744499]), 'test_f1': array([0.19625976, 0.19397461, 0.19599371, 0.19315628, 0.19979311])}\n",
      "\n",
      "roc_auc mean: 0.84\n",
      "roc_auc std: 0.0029\n",
      "\n",
      "precision mean: 0.11\n",
      "precision std: 0.0015\n",
      "\n",
      "recall mean: 0.99\n",
      "recall std: 0.0029\n",
      "\n",
      "f1 mean: 0.20\n",
      "f1 std: 0.0023\n",
      "\n",
      "\n"
     ]
    }
   ],
   "source": [
    "cv_model_results['LogisticRegression with Class Weights'] = cv_scorer('LogisticRegression with Class Weights', log_regressor, fit_params=dict(sample_weight=w))"
   ]
  },
  {
   "cell_type": "code",
   "execution_count": 86,
   "metadata": {},
   "outputs": [
    {
     "data": {
      "text/plain": [
       "{'Logistic Regression, no Threshold': {'Logistic Regression, no Threshold': {'roc_auc': {'scores': array([0.83903345, 0.84718019, 0.84505138, 0.8455445 , 0.84173371]),\n",
       "    'mean': 0.8437086455341619,\n",
       "    'std': 0.0029319869983208415},\n",
       "   'precision': {'scores': array([0.51930502, 0.53601815, 0.53558844, 0.51607445, 0.53413655]),\n",
       "    'mean': 0.528224521803746,\n",
       "    'std': 0.008684489426936509},\n",
       "   'recall': {'scores': array([0.1044525 , 0.12229843, 0.09835641, 0.11841594, 0.1205022 ]),\n",
       "    'mean': 0.11280509783094139,\n",
       "    'std': 0.009585205729773574},\n",
       "   'f1': {'scores': array([0.17392241, 0.19915701, 0.16619287, 0.19263158, 0.19664167]),\n",
       "    'mean': 0.18570910882886044,\n",
       "    'std': 0.013176473234431347}}},\n",
       " 'Logistic Regression with Threshold': {'Logistic Regression with Threshold': {'roc_auc': {'scores': array([0.83903345, 0.84718019, 0.84505138, 0.8455445 , 0.84173371]),\n",
       "    'mean': 0.8437086455341619,\n",
       "    'std': 0.0029319869983208415},\n",
       "   'precision': {'scores': array([0.21408886, 0.21241649, 0.22037133, 0.20905991, 0.21669287]),\n",
       "    'mean': 0.2145258925797969,\n",
       "    'std': 0.0038309937454689973},\n",
       "   'recall': {'scores': array([0.82448874, 0.84353565, 0.82179371, 0.84094733, 0.82060575]),\n",
       "    'mean': 0.8302742356538412,\n",
       "    'std': 0.009885859250941568},\n",
       "   'f1': {'scores': array([0.33991462, 0.33937311, 0.34754529, 0.33487078, 0.34285096]),\n",
       "    'mean': 0.34091095280529915,\n",
       "    'std': 0.004186153865972158}}},\n",
       " 'LogisticRegression with Class Weights': {'LogisticRegression with Class Weights': {'roc_auc': {'scores': array([0.83875716, 0.84710798, 0.84497008, 0.84512636, 0.84180897]),\n",
       "    'mean': 0.8435541092338299,\n",
       "    'std': 0.002938134893023775},\n",
       "   'precision': {'scores': array([0.10894054, 0.10747781, 0.10873759, 0.10695611, 0.11114025]),\n",
       "    'mean': 0.10865045970654737,\n",
       "    'std': 0.0014516679683105518},\n",
       "   'recall': {'scores': array([0.98886875, 0.9936586 , 0.9921056 , 0.99534101, 0.98744499]),\n",
       "    'mean': 0.9914837922543237,\n",
       "    'std': 0.00293751316959111},\n",
       "   'f1': {'scores': array([0.19625976, 0.19397461, 0.19599371, 0.19315628, 0.19979311]),\n",
       "    'mean': 0.19583549349821322,\n",
       "    'std': 0.0023025576695326314}}}}"
      ]
     },
     "execution_count": 86,
     "metadata": {},
     "output_type": "execute_result"
    }
   ],
   "source": [
    "cv_model_results"
   ]
  },
  {
   "attachments": {},
   "cell_type": "markdown",
   "metadata": {},
   "source": [
    "# Random Over Sampling"
   ]
  },
  {
   "cell_type": "code",
   "execution_count": null,
   "metadata": {},
   "outputs": [],
   "source": [
    "from imblearn.over_sampling import RandomOverSampler"
   ]
  },
  {
   "cell_type": "code",
   "execution_count": null,
   "metadata": {},
   "outputs": [],
   "source": [
    "help(RandomOverSampler)"
   ]
  },
  {
   "cell_type": "code",
   "execution_count": null,
   "metadata": {},
   "outputs": [],
   "source": [
    "over_sampler = RandomOverSampler()"
   ]
  },
  {
   "cell_type": "code",
   "execution_count": null,
   "metadata": {},
   "outputs": [],
   "source": [
    "X_res, y_res = over_sampler.fit_resample(X, y)"
   ]
  },
  {
   "cell_type": "code",
   "execution_count": null,
   "metadata": {},
   "outputs": [],
   "source": [
    "w_res = w[over_sampler.sample_indices_]\n",
    "w_res"
   ]
  },
  {
   "cell_type": "code",
   "execution_count": null,
   "metadata": {},
   "outputs": [],
   "source": [
    "X_res_train, X_res_test, y_res_train, y_res_test, w_res_train, w_res_test = train_test_split(X_res, y_res, w_res)"
   ]
  },
  {
   "cell_type": "code",
   "execution_count": null,
   "metadata": {},
   "outputs": [],
   "source": []
  },
  {
   "cell_type": "code",
   "execution_count": null,
   "metadata": {},
   "outputs": [],
   "source": [
    "y_res_train[y_res_train == 1.0].shape[0] / y_res_train.shape[0]"
   ]
  },
  {
   "cell_type": "code",
   "execution_count": null,
   "metadata": {},
   "outputs": [],
   "source": [
    "y_res_test[y_res_test == 1.0].shape[0] / y_res_test.shape[0]"
   ]
  },
  {
   "cell_type": "code",
   "execution_count": null,
   "metadata": {},
   "outputs": [],
   "source": [
    "log_regressor.fit(X_res_train, y_res_train)"
   ]
  },
  {
   "cell_type": "code",
   "execution_count": null,
   "metadata": {},
   "outputs": [],
   "source": [
    "plot_roc_curve(log_regressor, X_res_test, y_res_test)"
   ]
  },
  {
   "cell_type": "code",
   "execution_count": null,
   "metadata": {},
   "outputs": [],
   "source": [
    "y_res_train_pred = log_regressor.predict(X_train)"
   ]
  },
  {
   "cell_type": "code",
   "execution_count": null,
   "metadata": {},
   "outputs": [],
   "source": [
    "print(classification_report(y_train, y_res_train_pred))"
   ]
  }
 ],
 "metadata": {
  "kernelspec": {
   "display_name": "Python 3.10.8 (conda)",
   "language": "python",
   "name": "python3"
  },
  "language_info": {
   "codemirror_mode": {
    "name": "ipython",
    "version": 3
   },
   "file_extension": ".py",
   "mimetype": "text/x-python",
   "name": "python",
   "nbconvert_exporter": "python",
   "pygments_lexer": "ipython3",
   "version": "3.10.8 (main, Nov 24 2022, 14:13:03) [GCC 11.2.0]"
  },
  "orig_nbformat": 4,
  "vscode": {
   "interpreter": {
    "hash": "88290e038b87e2cdb6a37058d27d18dea0a708f5e3ed04873cad7201dff76582"
   }
  }
 },
 "nbformat": 4,
 "nbformat_minor": 2
}
