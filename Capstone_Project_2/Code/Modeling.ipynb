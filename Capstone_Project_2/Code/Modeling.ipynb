{
 "cells": [
  {
   "attachments": {},
   "cell_type": "markdown",
   "metadata": {},
   "source": [
    "# Load Relevant Packages and Data"
   ]
  },
  {
   "cell_type": "code",
   "execution_count": 64,
   "metadata": {},
   "outputs": [],
   "source": [
    "import numpy as np\n",
    "import pandas as pd\n",
    "import matplotlib.pyplot as plt\n",
    "import re\n",
    "import pickle\n",
    "from sklearn.base import BaseEstimator, TransformerMixin\n",
    "from sklearn.preprocessing import OneHotEncoder\n",
    "from sklearn.compose import ColumnTransformer\n",
    "from sklearn.linear_model import LogisticRegression\n",
    "from sklearn.ensemble import RandomForestClassifier\n",
    "from sklearn.metrics import precision_recall_fscore_support, classification_report, RocCurveDisplay, PrecisionRecallDisplay,roc_auc_score, roc_curve, ConfusionMatrixDisplay, \\\n",
    "    precision_score, recall_score, f1_score, make_scorer\n",
    "from sklearn.model_selection import train_test_split, cross_validate, GridSearchCV\n",
    "from imblearn.pipeline import Pipeline\n",
    "from imblearn.over_sampling import RandomOverSampler, SMOTE\n",
    "from imblearn.under_sampling import RandomUnderSampler, ClusterCentroids\n",
    "import os\n",
    "from xgboost import XGBClassifier"
   ]
  },
  {
   "attachments": {},
   "cell_type": "markdown",
   "metadata": {},
   "source": [
    "# Defining Functions and Classes"
   ]
  },
  {
   "attachments": {},
   "cell_type": "markdown",
   "metadata": {},
   "source": [
    "Subclass of LogisticRegression that allows to set a different probability threshold for classification."
   ]
  },
  {
   "cell_type": "code",
   "execution_count": 50,
   "metadata": {},
   "outputs": [],
   "source": [
    "class LogisticRegressionCustom(LogisticRegression):\n",
    "    def __init__(self, max_iter=100, class_weight=None, threshold=None):\n",
    "        super().__init__(max_iter=max_iter, class_weight=class_weight)\n",
    "        self.threshold = threshold\n",
    "    \n",
    "    def predict(self, X):\n",
    "        if self.threshold != None:\n",
    "            return (super().predict_proba(X)[:, 1] >= self.threshold).astype(int)\n",
    "        else:\n",
    "            return super().predict(X)"
   ]
  },
  {
   "attachments": {},
   "cell_type": "markdown",
   "metadata": {},
   "source": [
    "Function that takes as input the coefficients of any linear model and plots a bar plot of the magnitudes of the feature coefficients in decending order. It also color codes the features in the plot by the sign of their coefficient."
   ]
  },
  {
   "cell_type": "code",
   "execution_count": 86,
   "metadata": {},
   "outputs": [],
   "source": [
    "def plot_linear_feature_importances(coefficients, labels, number=20):\n",
    "    indices_sorted = np.argsort(np.abs(coefficients))[:(-1) * number - 1:-1]\n",
    "    top_coef = coefficients[indices_sorted]\n",
    "    labels_sorted = labels[indices_sorted]\n",
    "    \n",
    "    neg_pos = np.where(top_coef < 0)[0]\n",
    "    pos_pos = np.where(top_coef >= 0)[0]\n",
    "    neg_coef = top_coef[neg_pos]\n",
    "    pos_coef = top_coef[pos_pos]\n",
    "    neg_names = labels_sorted[neg_pos]\n",
    "    pos_names = labels_sorted[pos_pos]\n",
    "    \n",
    "    _, ax = plt.subplots()\n",
    "    \n",
    "    ax.bar(neg_pos, np.abs(neg_coef), color='r', label='Negative')\n",
    "    ax.bar(pos_pos, np.abs(pos_coef), color='b', label='Positive')\n",
    "    ax.set_xticks(range(0, len(labels_sorted)))\n",
    "    ax.set_xticklabels(labels_sorted, rotation=90)\n",
    "    ax.set_title('Top Features by Absolute Value of Model Coefficient')\n",
    "    ax.set_ylabel('Feature Coefficient')\n",
    "    ax.set_xlabel('Features')\n",
    "    \n",
    "    ax.legend()\n",
    "    plt.show()"
   ]
  },
  {
   "attachments": {},
   "cell_type": "markdown",
   "metadata": {},
   "source": [
    "Function that takes as input a list of feature importances and its labels and plots a bar plot."
   ]
  },
  {
   "cell_type": "code",
   "execution_count": 116,
   "metadata": {},
   "outputs": [],
   "source": [
    "def plot_feature_importances(importances, labels, number=20, title=None):\n",
    "    num = number * (-1) - 1\n",
    "    indices = importances.argsort()[:num:-1]\n",
    "    plt.bar(x=labels[indices], height=importances[indices])\n",
    "    plt.xticks(rotation=90)\n",
    "    if isinstance(title, str):\n",
    "        plt.title(title)\n",
    "    elif isinstance(title, type(None)):\n",
    "        plt.title('Feature Importances')\n",
    "    else:\n",
    "        print('Invalid dtype for parameter \"title\"')\n",
    "    plt.show()"
   ]
  },
  {
   "attachments": {},
   "cell_type": "markdown",
   "metadata": {},
   "source": [
    "Function that takes results from a classification as input and to find the probability theshold at which a particular value for the true positive rate is achieved. Useful for choosing a different probability threshold when making classification preictions."
   ]
  },
  {
   "cell_type": "code",
   "execution_count": 53,
   "metadata": {},
   "outputs": [],
   "source": [
    "def find_threshold(y_true, y_proba, set_tpr, sample_weight=None):\n",
    "    _, tpr_list, threshold_list = roc_curve(y_true, y_proba, sample_weight=sample_weight)\n",
    "    for tpr, threshold in zip(tpr_list, threshold_list):\n",
    "        if (tpr >= set_tpr):\n",
    "            return tpr, threshold"
   ]
  },
  {
   "attachments": {},
   "cell_type": "markdown",
   "metadata": {},
   "source": [
    "Function that takes results of a classification and prints out the confussion matrix, classification report, and ROC curve. The output of the function are the scores from scikit-learn function `prfs_socres`, which outputs the precision, recall, f1 score, and support of the positive class. It also outputs a tuple containing displays for the confusion matrix, classification report, and ROC curve, which can later be used to make plots."
   ]
  },
  {
   "cell_type": "code",
   "execution_count": 54,
   "metadata": {},
   "outputs": [],
   "source": [
    "def my_scorer(y_test, y_pred, y_pred_proba=None, sample_weight=None, model_name=None, output=True):\n",
    "    prfs_scores = precision_recall_fscore_support(y_test, y_pred, sample_weight=sample_weight)\n",
    "    roc_auc_score_ = roc_auc_score(y_test, y_pred, sample_weight=sample_weight)\n",
    "    scores = *prfs_scores, roc_auc_score_\n",
    "    \n",
    "    cf_display = ConfusionMatrixDisplay.from_predictions(y_test, y_pred, sample_weight=sample_weight, normalize = 'true')\n",
    "    if output == True:\n",
    "        if type(model_name) != type(None):\n",
    "            plt.title(model_name)\n",
    "        plt.show()\n",
    "        print()\n",
    "        \n",
    "    if output == True:\n",
    "        print(f'Classification Report: {model_name if type(model_name) != type(None) else \"\"}')\n",
    "    class_report = classification_report(y_test, y_pred, sample_weight=sample_weight)\n",
    "    if output == True:\n",
    "        print(class_report)\n",
    "        print()\n",
    "    \n",
    "    if type(y_pred_proba) != type(None):\n",
    "        roc_display = RocCurveDisplay.from_predictions(y_test, y_pred_proba, sample_weight=sample_weight)\n",
    "        if output == True:\n",
    "            if model_name != None:\n",
    "                plt.title(model_name)\n",
    "            plt.show()\n",
    "    else:\n",
    "        roc_display = None\n",
    "        \n",
    "    return scores, (cf_display, class_report, roc_display)"
   ]
  },
  {
   "attachments": {},
   "cell_type": "markdown",
   "metadata": {},
   "source": [
    "Function that takes an ml algorithm and a resampler as input. Applies train-test spit, resampling, and fitting. It then passes the prediction to the function `my_scorer`."
   ]
  },
  {
   "cell_type": "code",
   "execution_count": 55,
   "metadata": {},
   "outputs": [],
   "source": [
    "def my_pipeline(ml_algo, *data, model_name='Model', algo_params={}, resampler=None, split_params={}, output=True):\n",
    "    if len(data) not in [2, 3]:\n",
    "        print(f'Invalid length for \"data\": {len(data)}.')\n",
    "        return\n",
    "    \n",
    "    results = {}\n",
    "    \n",
    "    split_result = train_test_split(*data, **split_params)\n",
    "    if len(split_result) == 4:\n",
    "        X_train, X_test, y_train, y_test = split_result\n",
    "        w_train = None\n",
    "        w_test = None\n",
    "    elif len(split_result) == 6:\n",
    "        X_train, X_test, y_train, y_test, w_train, w_test = split_result\n",
    "    else:\n",
    "        print('Invalid length for \"split_result\".')\n",
    "        return\n",
    "        \n",
    "    if type(resampler) != type(None):\n",
    "        X_train, y_train = resampler().fit_resample(X_train, y_train)\n",
    "    \n",
    "    model = ml_algo(**algo_params)\n",
    "    model.fit(X_train, y_train, sample_weight=w_train)\n",
    "    results['model_info'] = model_name, model\n",
    "    \n",
    "    y_pred_train = model.predict(X_train)\n",
    "    y_pred = model.predict(X_test)\n",
    "    if hasattr(model, 'predict_proba'):\n",
    "        y_pred_proba_train = model.predict_proba(X_train)[:, 1]\n",
    "        y_pred_proba = model.predict_proba(X_test)[:, 1]\n",
    "    else:\n",
    "        y_pred_proba_train = None\n",
    "        y_pred_proba = None\n",
    "        \n",
    "    results['predictions_train'] = y_pred_train, y_pred_proba_train\n",
    "    results['predictions'] =y_pred, y_pred_proba\n",
    "    \n",
    "    results['scores_train'], results['displays_train'] = my_scorer(y_train, y_pred_train, y_pred_proba_train, sample_weight=w_train, model_name=model_name + ' (train)', output=output)\n",
    "    results['scores'], results['displays'] = my_scorer(y_test, y_pred, y_pred_proba, sample_weight=w_test, model_name=model_name, output=output)\n",
    "    \n",
    "    return results\n"
   ]
  },
  {
   "attachments": {},
   "cell_type": "markdown",
   "metadata": {},
   "source": [
    "Function that takes data as input, resamples it, and then applies the scikit-learn function `cross-validate`. It outputs the dictionary output by cross_validate as well as another dictionary with a summary of the results which will later be used to build a dataframe with a summary of results of various models."
   ]
  },
  {
   "cell_type": "code",
   "execution_count": 56,
   "metadata": {},
   "outputs": [],
   "source": [
    "def cv_scorer(ml_algo, scoring, *data, model_name=None, algo_params={}, resampler=None, output=True):    \n",
    "    if len(data) == 2:\n",
    "        X, y = tuple(data)\n",
    "        w = None\n",
    "    elif len(data) == 3:\n",
    "        X, y, w = tuple(data)\n",
    "    else:\n",
    "        print('Invalid length for \"data\".')\n",
    "        return\n",
    "    \n",
    "    if type(resampler) != type(None):\n",
    "        model = Pipeline([('Resampling', resampler()), (model_name, ml_algo(**algo_params))])\n",
    "    else:\n",
    "        model = Pipeline([(model_name, ml_algo(**algo_params))])\n",
    "    \n",
    "    cv_scores = cross_validate(model, X, y, scoring=scoring, fit_params={model_name + '__sample_weight':w}, return_estimator=True)\n",
    "    if output == True:\n",
    "        if type(model_name) != type(None):\n",
    "            print(model_name + ' cv_scores:')\n",
    "        else:\n",
    "            print('cv_scores:')\n",
    "        print(cv_scores)\n",
    "        print()\n",
    "    \n",
    "    cv_scores_summary = {}\n",
    "    cv_scores_summary['estimator'] = cv_scores['estimator']\n",
    "    for score in scoring:\n",
    "        scores_ = cv_scores['test_' + score]\n",
    "        mean_ = cv_scores['test_' + score].mean()\n",
    "        std_ = cv_scores['test_' + score].std()\n",
    "        \n",
    "        cv_scores_summary[score]= dict(zip(['scores', 'mean', 'std'], [scores_, mean_, std_]))\n",
    "        \n",
    "        if output == True:\n",
    "            print(score + ' mean: ' + f'{mean_:0.2f}')\n",
    "            print(score + ' std: ' + f'{std_:0.4f}')\n",
    "            print()\n",
    "    if print == True:\n",
    "        print()\n",
    "    \n",
    "    if type(model_name) != type(None):\n",
    "        return {model_name:cv_scores_summary}, cv_scores\n",
    "    else:\n",
    "        return cv_scores_summary, cv_scores"
   ]
  },
  {
   "attachments": {},
   "cell_type": "markdown",
   "metadata": {},
   "source": [
    "Function that takes data as input, resamples it, and then makes a `GridSearchCV` object. It outputs the dictionary from the `cv_results_` attribute of the fitted `GridSearchCV` object as well as another dictionary with a summary of the results which will later be used to build a dataframe with a summary of results of various models. "
   ]
  },
  {
   "cell_type": "code",
   "execution_count": 57,
   "metadata": {},
   "outputs": [],
   "source": [
    "def grid_cv_scorer(ml_algo, scoring, *data, model_name=None, param_grid={}, resampler=None, output=True):    \n",
    "    if len(data) == 2:\n",
    "        X, y = tuple(data)\n",
    "        w = None\n",
    "    elif len(data) == 3:\n",
    "        X, y, w = tuple(data)\n",
    "    else:\n",
    "        print('Invalid length for \"data\".')\n",
    "        return\n",
    "    \n",
    "    if type(resampler) != type(None):\n",
    "        model = Pipeline([('Resampling', resampler()), (model_name, ml_algo())])\n",
    "    else:\n",
    "        model = Pipeline([(model_name, ml_algo())])\n",
    "        \n",
    "    keys = [k for k in param_grid.keys()]\n",
    "    for key in keys:\n",
    "        param_grid[model_name + '__' + key] = param_grid.pop(key)\n",
    "    \n",
    "    clf = GridSearchCV(model, param_grid=param_grid, scoring=scoring, refit=False)\n",
    "    clf.fit(X, y, CVSearch_Test__sample_weight=w)\n",
    "    cv_scores = clf.cv_results_\n",
    "    print('Printing cv_scores keys:')\n",
    "    print(cv_scores.keys())\n",
    "    print('Printing cv_scores:')\n",
    "    print(cv_scores)\n",
    "    if output == True:\n",
    "        if type(model_name) != type(None):\n",
    "            print(model_name + ' cv_scores:')\n",
    "        else:\n",
    "            print('cv_scores:')\n",
    "        print(cv_scores)\n",
    "        print()\n",
    "    \n",
    "    cv_scores_summary = {}\n",
    "    #dict_scores['estimator'] = cv_scores['estimator']\n",
    "    for score in scoring:\n",
    "        #scores_ = cv_scores['test_' + score]\n",
    "        mean_array = cv_scores['mean_test_' + score]\n",
    "        std_array = cv_scores['std_test_' + score]\n",
    "        \n",
    "        cv_scores_summary[score]= dict(zip(['mean', 'std'], [mean_array, std_array]))\n",
    "        \n",
    "        if output == True:\n",
    "            print(score + ' mean: ', mean_array)\n",
    "            print(score + ' std: ', std_array)\n",
    "            print()\n",
    "    if print == True:\n",
    "        print()\n",
    "    \n",
    "    if type(model_name) != type(None):\n",
    "        return {model_name:cv_scores_summary}, cv_scores\n",
    "    else:\n",
    "        return cv_scores_summary, cv_scores"
   ]
  },
  {
   "attachments": {},
   "cell_type": "markdown",
   "metadata": {},
   "source": [
    "Defining a list of \"scorer\" objects that can be used when the function `cross_validate`. For precision, recall, and f1, two scorers are made, one each for the positive and negative class. A scorer for the roc auc score is also made."
   ]
  },
  {
   "cell_type": "code",
   "execution_count": 58,
   "metadata": {},
   "outputs": [],
   "source": [
    "precision_score_pos = make_scorer(precision_score, pos_label=1)\n",
    "precision_score_neg = make_scorer(precision_score, pos_label=0)\n",
    "\n",
    "recall_score_pos = make_scorer(recall_score, pos_label=1)\n",
    "recall_score_neg = make_scorer(recall_score, pos_label=0)\n",
    "\n",
    "f1_score_pos = make_scorer(f1_score, pos_label=1)\n",
    "f1_score_neg = make_scorer(f1_score, pos_label=0)\n",
    "\n",
    "roc_auc_scorer = make_scorer(roc_auc_score, needs_proba=True)"
   ]
  },
  {
   "attachments": {},
   "cell_type": "markdown",
   "metadata": {},
   "source": [
    "# Preparing Smaller Dataframe  \n",
    "The dataframe that I previously cleaned contains hundreds of features. No prodecure for feature selection was carried out on the raw data so all of the features were kept. However, I would also like to build models with a much smaller dataframe that contains only the features pertaining to whether a particular health condition is present in the individual (e.g., whether the individual has diabetes, hypertension, etc). I would like to compare the performance on a baseline model when using both dataframes."
   ]
  },
  {
   "attachments": {},
   "cell_type": "markdown",
   "metadata": {},
   "source": [
    "Loading raw dataframe"
   ]
  },
  {
   "cell_type": "code",
   "execution_count": null,
   "metadata": {},
   "outputs": [],
   "source": [
    "path = '../Data/df_clean_null.pkl'\n",
    "df = pd.read_pickle(path)"
   ]
  },
  {
   "attachments": {},
   "cell_type": "markdown",
   "metadata": {},
   "source": [
    "Choosing subset of features to include in the model"
   ]
  },
  {
   "cell_type": "code",
   "execution_count": null,
   "metadata": {},
   "outputs": [],
   "source": [
    "feature_names = ['_RFHLTH', '_HCVU651', '_RFHYPE5', '_RFCHOL', '_ASTHMS1', '_DRDXAR1', '_RACEGR3', '_AGE_G', '_BMI5CAT', '_EDUCAG', '_INCOMG', '_SMOKER3',\\\n",
    "    '_RFDRHV5', '_PACAT1', '_RFSEAT2', '_FLSHOT6', '_PNEUMO2', '_AIDTST3', 'CHCCOPD1', 'ADDEPEV2', 'CHCKIDNY', 'DIABETE3', 'SEX', 'MARITAL', 'DRADVISE']\n",
    "target_name = ['_MICHD']\n",
    "weights_name = ['_LLCPWT'] "
   ]
  },
  {
   "cell_type": "code",
   "execution_count": null,
   "metadata": {},
   "outputs": [],
   "source": [
    "df = df[feature_names + target_name + weights_name]\n",
    "df"
   ]
  },
  {
   "attachments": {},
   "cell_type": "markdown",
   "metadata": {},
   "source": [
    "**Relabeling Data**"
   ]
  },
  {
   "attachments": {},
   "cell_type": "markdown",
   "metadata": {},
   "source": [
    "Relabeling data on some of the chosen features so that \"1\" means \"yes\" and \"2\" means \"No\". After this relabeling, all features that will be includen in the model will have the same meaning for the labels \"1\" and \"2\"."
   ]
  },
  {
   "cell_type": "code",
   "execution_count": null,
   "metadata": {},
   "outputs": [],
   "source": [
    "for column in ['_RFHYPE5', '_RFCHOL', '_RFDRHV5']:\n",
    "    df[column] = df[column].apply(lambda x: 1.0 if x == 2.0 else 2.0 if x == 1.0 else x)"
   ]
  },
  {
   "attachments": {},
   "cell_type": "markdown",
   "metadata": {},
   "source": [
    "For two of the features, null values represent survey respondents with age less than 65. I therefore rename the null entries to \"65\"."
   ]
  },
  {
   "cell_type": "code",
   "execution_count": null,
   "metadata": {},
   "outputs": [],
   "source": [
    "for column in ['_FLSHOT6', '_PNEUMO2']:\n",
    "    df[column] = df[column].cat.add_categories([65.0])\n",
    "    df[column] = df[column].fillna(65.0)"
   ]
  },
  {
   "attachments": {},
   "cell_type": "markdown",
   "metadata": {},
   "source": [
    "For the following feature, I only wish the model to consider wheter the survey respondent has or has not been informed my a medical practitioner wheter he has diabetes or not. Therefore, all the categores which indicate that the survey respondent has diabetes will be relabeled to \"1\" and all the onces that indicate otherwise will be relabeled to \"2\". Categories \"7\" and \"9\" indicate missing entries, so those will not be changed."
   ]
  },
  {
   "cell_type": "code",
   "execution_count": null,
   "metadata": {},
   "outputs": [],
   "source": [
    "df['DIABETE3'] = df['DIABETE3'].map({1.0:1.0, 2.0:1.0, 3.0:2.0, 4.0:2.0, 7.0:7.0, 9.0:9.0}).astype('category')"
   ]
  },
  {
   "attachments": {},
   "cell_type": "markdown",
   "metadata": {},
   "source": [
    "For the case of the target, the negative class will be labeled \"0\" while the positive class will be labeled \"1\"."
   ]
  },
  {
   "cell_type": "code",
   "execution_count": null,
   "metadata": {},
   "outputs": [],
   "source": [
    "df['_MICHD'] = df['_MICHD'].apply(lambda x: 0.0 if x == 2 else x)"
   ]
  },
  {
   "attachments": {},
   "cell_type": "markdown",
   "metadata": {},
   "source": [
    "**Imputing**  \n",
    "Some columns will be dropped entirely. For categorical features, missing values will be given their own category. For continuous numerical features with long-tailed distributions, the missing values will be imputed with the mean. Finally, for continuous numerical features that are approximatedly Gaussian-distributed, the missing values will be imputed with the mean."
   ]
  },
  {
   "cell_type": "code",
   "execution_count": null,
   "metadata": {},
   "outputs": [],
   "source": [
    "def imputer(dataframe, category_value_tofill=None, columns_drop=None, columns_mode=None, columns_median=None):\n",
    "    '''Imputes missing values to the input dataframe.\n",
    "    \n",
    "       Parameters\n",
    "       ----------\n",
    "       dataframe: Pandas dataframe\n",
    "           dataframe with which to impute missing values.\n",
    "       \n",
    "       category_value_tofill: int, float, or string\n",
    "           Value to used to fill missing values in categorical features.\n",
    "       \n",
    "       columns_drop: list-like\n",
    "           List of columns to drop.\n",
    "       \n",
    "       columns_mode: list-like\n",
    "           List of numeric columns to impute with the mode.\n",
    "           \n",
    "       columns_median: list-like\n",
    "           List of numeric columns to impute with the mean.\n",
    "    '''\n",
    "    #Fill null values in categorical features with value_null\n",
    "    if category_value_tofill != None:\n",
    "        for column in dataframe.select_dtypes(include='category').columns:\n",
    "            if any(dataframe[column].isnull()):\n",
    "                dataframe[column] = dataframe[column].cat.add_categories([category_value_tofill])\n",
    "                dataframe[column] = dataframe[column].fillna(value=category_value_tofill)\n",
    "            \n",
    "    #Droping columns, imputing with mode, and imputing with median.\n",
    "    if columns_drop != None:\n",
    "        dataframe = dataframe.drop(columns=columns_drop)\n",
    "    if columns_mode != None:\n",
    "        dataframe = dataframe.fillna(dataframe[columns_mode].mode().iloc[0, :])\n",
    "    if columns_median != None:\n",
    "        dataframe = dataframe.fillna(dataframe[columns_median].median())\n",
    "    \n",
    "    return dataframe"
   ]
  },
  {
   "cell_type": "code",
   "execution_count": null,
   "metadata": {},
   "outputs": [],
   "source": [
    "df = imputer(df, 999.0)"
   ]
  },
  {
   "attachments": {},
   "cell_type": "markdown",
   "metadata": {},
   "source": [
    "**Translating Feature Names**  \n",
    "The selected features to include in the model will be given more informative names."
   ]
  },
  {
   "cell_type": "code",
   "execution_count": null,
   "metadata": {},
   "outputs": [],
   "source": [
    "trans_list = ['Good_Health', 'Health_Insurance', 'Hypertension', 'High_Cholesterol', 'Asthma_Status', 'Arthritis', 'Race', 'Age_Cat', 'BMI_Cat', 'Education_Level', 'Income_Level', \\\n",
    "    'Smoker_Status', 'Heavy_Drinker', 'Physical_Activity', 'Seatbelt', 'Flu_Shot', 'Pneumonia_Vaccine', 'HIV', 'Bronchitis', 'Depression', 'Kidney_Disease', 'Diabetes', 'SEX', \\\n",
    "        'Marital Status', 'Sodium', 'Heart_Disease', 'Sample_Weights']"
   ]
  },
  {
   "cell_type": "code",
   "execution_count": null,
   "metadata": {},
   "outputs": [],
   "source": [
    "trans_dict = dict(zip(feature_names + target_name + weights_name, trans_list))\n",
    "trans_dict"
   ]
  },
  {
   "cell_type": "code",
   "execution_count": null,
   "metadata": {},
   "outputs": [],
   "source": [
    "df = df.rename(columns=trans_dict)\n",
    "df"
   ]
  },
  {
   "attachments": {},
   "cell_type": "markdown",
   "metadata": {},
   "source": [
    "**Dropping the rows for which the target feature has a missing valule**"
   ]
  },
  {
   "cell_type": "code",
   "execution_count": null,
   "metadata": {},
   "outputs": [],
   "source": [
    "df = df.drop(df[df[trans_dict[target_name[0]]] == 999.0].index)"
   ]
  },
  {
   "attachments": {},
   "cell_type": "markdown",
   "metadata": {},
   "source": [
    "**One-hot Encoding**"
   ]
  },
  {
   "cell_type": "code",
   "execution_count": null,
   "metadata": {},
   "outputs": [],
   "source": [
    "cols_to_one_hot = [column for column in df.select_dtypes(include='category').columns if column not in ['Heart_Disease']]\n",
    "\n",
    "column_trans = ColumnTransformer([('categorical', OneHotEncoder(sparse=False), cols_to_one_hot)], remainder='passthrough')\n",
    "column_trans.fit(df)\n",
    "\n",
    "#List of feature names from the columns that where transformed and those that were not. It will be used to build the dataframe of the transfomred features in the next cell.\n",
    "column_names_trans = np.concatenate([column_trans.named_transformers_['categorical'].get_feature_names_out(), np.array([trans_dict[target_name[0]], trans_dict[weights_name[0]]])])"
   ]
  },
  {
   "cell_type": "code",
   "execution_count": null,
   "metadata": {},
   "outputs": [],
   "source": [
    "df = pd.DataFrame(column_trans.transform(df), columns=column_names_trans)\n",
    "df"
   ]
  },
  {
   "attachments": {},
   "cell_type": "markdown",
   "metadata": {},
   "source": [
    "**Save the dataframe as a pickled file** "
   ]
  },
  {
   "cell_type": "code",
   "execution_count": null,
   "metadata": {},
   "outputs": [],
   "source": [
    "with open('../Data/modeling_df.pkl', 'wb') as f:\n",
    "    pickle.dump(df, f)\n",
    "    pickle.dump(trans_dict, f)"
   ]
  },
  {
   "attachments": {},
   "cell_type": "markdown",
   "metadata": {},
   "source": [
    "# Training Baseline Model Using Both Dataframes  \n",
    "The baseline model that will be used to compare the performance when using both dataframes will be a logistic regression classifier with balanced class weights."
   ]
  },
  {
   "attachments": {},
   "cell_type": "markdown",
   "metadata": {},
   "source": [
    "**Loading dataframe. Defining matrices for features, target, and weights.**"
   ]
  },
  {
   "attachments": {},
   "cell_type": "markdown",
   "metadata": {},
   "source": [
    "## Large Dataframe"
   ]
  },
  {
   "attachments": {},
   "cell_type": "markdown",
   "metadata": {},
   "source": [
    "**Loading Data**"
   ]
  },
  {
   "cell_type": "code",
   "execution_count": null,
   "metadata": {},
   "outputs": [],
   "source": [
    "with open('../Data/preprocessed.pkl.zip', 'rb') as f:\n",
    "    _ = pickle.load(f)\n",
    "    col_names = pickle.load(f)\n",
    "    X = pickle.load(f)\n",
    "    y = pickle.load(f)\n",
    "    cat_slice = pickle.load(f)\n",
    "    skewed_slice = pickle.load(f)\n",
    "    non_skewed_slice = pickle.load(f)\n",
    "\n",
    "    X_train = pickle.load(f)\n",
    "    X_test = pickle.load(f)\n",
    "    y_train = pickle.load(f)\n",
    "    y_test = pickle.load(f)    "
   ]
  },
  {
   "cell_type": "markdown",
   "metadata": {},
   "source": [
    "**Training the Model**"
   ]
  },
  {
   "cell_type": "code",
   "execution_count": null,
   "metadata": {},
   "outputs": [],
   "source": [
    "path = '../Data/first_log_model.pkl'\n",
    "if not os.path.exists(path):\n",
    "    logistic_regressor = LogisticRegression(max_iter=10000, class_weight='balanced')\n",
    "    logistic_regressor.fit(X_train, y_train)\n",
    "    with open(path, 'wb') as f:\n",
    "        pickle.dump(logistic_regressor, f)\n",
    "else:\n",
    "    with open(path, 'rb') as f:\n",
    "        logistic_regressor = pickle.load(f)"
   ]
  },
  {
   "attachments": {},
   "cell_type": "markdown",
   "metadata": {},
   "source": [
    "**Predictions**"
   ]
  },
  {
   "cell_type": "code",
   "execution_count": null,
   "metadata": {},
   "outputs": [],
   "source": [
    "coef = logistic_regressor.coef_[0]\n",
    "y_pred_train = logistic_regressor.predict(X_train)\n",
    "y_proba_train = logistic_regressor.predict_proba(X_train)[:, 1]\n",
    "y_pred = logistic_regressor.predict(X_test)\n",
    "y_proba = logistic_regressor.predict_proba(X_test)[:, 1]"
   ]
  },
  {
   "attachments": {},
   "cell_type": "markdown",
   "metadata": {},
   "source": [
    "**Scoring**"
   ]
  },
  {
   "attachments": {},
   "cell_type": "markdown",
   "metadata": {},
   "source": [
    "Training Set"
   ]
  },
  {
   "cell_type": "code",
   "execution_count": null,
   "metadata": {},
   "outputs": [],
   "source": [
    "_ = my_scorer(y_train, y_pred_train, y_proba_train, model_name='Logistic Regression, Large Dataframe, Training Set')"
   ]
  },
  {
   "attachments": {},
   "cell_type": "markdown",
   "metadata": {},
   "source": [
    "Test Set"
   ]
  },
  {
   "cell_type": "code",
   "execution_count": null,
   "metadata": {},
   "outputs": [],
   "source": [
    "_ = my_scorer(y_test, y_pred, y_proba, model_name='Logistic Regression, Large Dataframe, Test Set')"
   ]
  },
  {
   "attachments": {},
   "cell_type": "markdown",
   "metadata": {},
   "source": [
    "## Small Dataframe"
   ]
  },
  {
   "attachments": {},
   "cell_type": "markdown",
   "metadata": {},
   "source": [
    "**Loading Data**"
   ]
  },
  {
   "cell_type": "code",
   "execution_count": 5,
   "metadata": {},
   "outputs": [],
   "source": [
    "with open('../Data/modeling_df.pkl', 'rb') as f:\n",
    "    df = pickle.load(f)\n",
    "    \n",
    "y = df['Heart_Disease']\n",
    "w = df['Sample_Weights']\n",
    "X = df.drop(columns=[y.name, w.name])"
   ]
  },
  {
   "attachments": {},
   "cell_type": "markdown",
   "metadata": {},
   "source": [
    "**Training the Model**"
   ]
  },
  {
   "cell_type": "code",
   "execution_count": null,
   "metadata": {},
   "outputs": [],
   "source": [
    "X_train, X_test, y_train, y_test = train_test_split(X, y, test_size=0.3, stratify=y)\n",
    "logistic_regressor = LogisticRegressionCustom(max_iter=500, class_weight='balanced')\n",
    "logistic_regressor.fit(X_train, y_train)"
   ]
  },
  {
   "attachments": {},
   "cell_type": "markdown",
   "metadata": {},
   "source": [
    "**Predictions**"
   ]
  },
  {
   "cell_type": "code",
   "execution_count": null,
   "metadata": {},
   "outputs": [],
   "source": [
    "coef = logistic_regressor.coef_[0]\n",
    "y_pred_train = logistic_regressor.predict(X_train)\n",
    "y_proba_train = logistic_regressor.predict_proba(X_train)[:, 1]\n",
    "y_pred = logistic_regressor.predict(X_test)\n",
    "y_proba = logistic_regressor.predict_proba(X_test)[:, 1]"
   ]
  },
  {
   "attachments": {},
   "cell_type": "markdown",
   "metadata": {},
   "source": [
    "**Scoring**"
   ]
  },
  {
   "attachments": {},
   "cell_type": "markdown",
   "metadata": {},
   "source": [
    "Training Set"
   ]
  },
  {
   "cell_type": "code",
   "execution_count": null,
   "metadata": {},
   "outputs": [],
   "source": [
    "_ = my_scorer(y_train, y_pred_train, y_proba_train, model_name='Logistic Regression, Small Dataframe, Training Set')"
   ]
  },
  {
   "attachments": {},
   "cell_type": "markdown",
   "metadata": {},
   "source": [
    "Test Set"
   ]
  },
  {
   "cell_type": "code",
   "execution_count": null,
   "metadata": {},
   "outputs": [],
   "source": [
    "_ = my_scorer(y_test, y_pred, y_proba, model_name='Logistic Regression, Small Dataframe, Test Set')"
   ]
  },
  {
   "attachments": {},
   "cell_type": "markdown",
   "metadata": {},
   "source": [
    "## Comparison and Conclusionsa About Results From Both Dataframes"
   ]
  },
  {
   "attachments": {},
   "cell_type": "markdown",
   "metadata": {},
   "source": [
    "The results suggest that the performance of using the large dataframe is only marginally better than with the small dataframe (e.g., the roc auc score for the test set of the large dataframe is 0.86 while for the small dataframe is 0.84). Considering that the large dataframe has a significantlly larger amount of features, this suggest that the mayority of its features are unimportant. \n",
    "\n",
    "Considering that it takes longer to train a model using hundreds of features, that it is harder to interpret, and that the gains in its performance are small compared to the modoled that uses the smaller number of features, I have decided to build the rest of the models in this project using the smaller dataframe."
   ]
  },
  {
   "attachments": {},
   "cell_type": "markdown",
   "metadata": {},
   "source": [
    "# Training Models"
   ]
  },
  {
   "attachments": {},
   "cell_type": "markdown",
   "metadata": {},
   "source": [
    "Main loop that will will build all the models. It will build different instances of Logistic Regression, Random Forest, and XGBoost Classifier models. For each of these three ml algorighms, different models will be built using different resampling techniques. For each of the models, cross-validation scores for precision, recall, f1, and roc auc will be evaluated. All results will be stored in a dictionary that will later be used to build a dataframe that summarizes the results."
   ]
  },
  {
   "cell_type": "code",
   "execution_count": null,
   "metadata": {},
   "outputs": [],
   "source": [
    "algo_list = {'Logistic Regression':LogisticRegressionCustom, 'Random Forest':RandomForestClassifier, 'XGBoost':XGBClassifier}\n",
    "algo_params_list = [dict(max_iter=500), dict(n_estimators=100), {}]\n",
    "imbalance_strategy_list = {'Basic':None, 'Class Weight':None, 'Random Oversampling':RandomOverSampler, 'SMOTE':SMOTE, 'Random Undersampling':RandomUnderSampler}\n",
    "scores = {'precision_pos':precision_score_pos, 'precision_neg':precision_score_neg, 'recall_pos':recall_score_pos, 'recall_neg':recall_score_neg, \\\n",
    "    'f1_pos':f1_score_pos, 'f1_neg':f1_score_neg, 'roc_auc':roc_auc_scorer}\n",
    "\n",
    "cv_results = {}\n",
    "\n",
    "for algo_name, algo_params in zip(algo_list, algo_params_list):\n",
    "    for resampler_name, resampler in imbalance_strategy_list.items():\n",
    "        if resampler_name == 'Basic':\n",
    "            data = X, y, w\n",
    "        else:\n",
    "            data = X, y\n",
    "        if (resampler_name == \"Class Weight\"):\n",
    "            if algo_name == 'XGBoost':\n",
    "                algo_params['scale_pos_weight'] = y[y == 0.0].shape[0] / y[y == 1].shape[0]\n",
    "            else:\n",
    "                algo_params['class_weight'] = 'balanced'\n",
    "            \n",
    "        cv_results.update(cv_scorer(algo_list[algo_name], scores, *data, model_name=algo_name+', '+resampler_name, algo_params=algo_params, resampler=resampler)[0])\n",
    "        \n",
    "        with open('../Data/modeling_results.pkl', 'wb') as f:\n",
    "            pickle.dump(cv_results, f)\n"
   ]
  },
  {
   "attachments": {},
   "cell_type": "markdown",
   "metadata": {},
   "source": [
    "# Results"
   ]
  },
  {
   "attachments": {},
   "cell_type": "markdown",
   "metadata": {},
   "source": [
    "Function that takes the dictionary of cross-validation results and outputs a dataframe."
   ]
  },
  {
   "cell_type": "code",
   "execution_count": 41,
   "metadata": {},
   "outputs": [],
   "source": [
    "def results_to_df(cv_results):\n",
    "    columns = []\n",
    "    for score in cv_results[list(cv_results.keys())[0]].keys():\n",
    "        if score != 'estimator':\n",
    "            columns.append(score + '_mean')\n",
    "            columns.append(score + '_std')\n",
    "    \n",
    "    data = []\n",
    "    index = []\n",
    "    for model_name in cv_results:\n",
    "        index.append(model_name)\n",
    "        row = []\n",
    "        for score in cv_results[model_name]:\n",
    "            if score != 'estimator':\n",
    "                row.append(cv_results[model_name][score]['mean'])\n",
    "                row.append(cv_results[model_name][score]['std'])\n",
    "        data.append(row)\n",
    "        \n",
    "    return pd.DataFrame(data, index=index, columns=columns)"
   ]
  },
  {
   "attachments": {},
   "cell_type": "markdown",
   "metadata": {},
   "source": [
    "Dataframe summarizing the results of all the models"
   ]
  },
  {
   "cell_type": "code",
   "execution_count": 42,
   "metadata": {},
   "outputs": [
    {
     "data": {
      "text/html": [
       "<div>\n",
       "<style scoped>\n",
       "    .dataframe tbody tr th:only-of-type {\n",
       "        vertical-align: middle;\n",
       "    }\n",
       "\n",
       "    .dataframe tbody tr th {\n",
       "        vertical-align: top;\n",
       "    }\n",
       "\n",
       "    .dataframe thead th {\n",
       "        text-align: right;\n",
       "    }\n",
       "</style>\n",
       "<table border=\"1\" class=\"dataframe\">\n",
       "  <thead>\n",
       "    <tr style=\"text-align: right;\">\n",
       "      <th></th>\n",
       "      <th>precision_pos_mean</th>\n",
       "      <th>precision_pos_std</th>\n",
       "      <th>precision_neg_mean</th>\n",
       "      <th>precision_neg_std</th>\n",
       "      <th>recall_pos_mean</th>\n",
       "      <th>recall_pos_std</th>\n",
       "      <th>recall_neg_mean</th>\n",
       "      <th>recall_neg_std</th>\n",
       "      <th>f1_pos_mean</th>\n",
       "      <th>f1_pos_std</th>\n",
       "      <th>f1_neg_mean</th>\n",
       "      <th>f1_neg_std</th>\n",
       "      <th>roc_auc_mean</th>\n",
       "      <th>roc_auc_std</th>\n",
       "    </tr>\n",
       "  </thead>\n",
       "  <tbody>\n",
       "    <tr>\n",
       "      <th>Logistic Regression, Basic</th>\n",
       "      <td>0.527923</td>\n",
       "      <td>0.008592</td>\n",
       "      <td>0.920150</td>\n",
       "      <td>0.000730</td>\n",
       "      <td>0.112753</td>\n",
       "      <td>0.009544</td>\n",
       "      <td>0.990230</td>\n",
       "      <td>0.000873</td>\n",
       "      <td>0.185621</td>\n",
       "      <td>0.013114</td>\n",
       "      <td>0.953904</td>\n",
       "      <td>0.000173</td>\n",
       "      <td>0.843716</td>\n",
       "      <td>0.002932</td>\n",
       "    </tr>\n",
       "    <tr>\n",
       "      <th>Logistic Regression, Class Weight</th>\n",
       "      <td>0.230812</td>\n",
       "      <td>0.004329</td>\n",
       "      <td>0.973399</td>\n",
       "      <td>0.001171</td>\n",
       "      <td>0.789687</td>\n",
       "      <td>0.012040</td>\n",
       "      <td>0.744919</td>\n",
       "      <td>0.009696</td>\n",
       "      <td>0.357149</td>\n",
       "      <td>0.004133</td>\n",
       "      <td>0.843927</td>\n",
       "      <td>0.005812</td>\n",
       "      <td>0.844623</td>\n",
       "      <td>0.003205</td>\n",
       "    </tr>\n",
       "    <tr>\n",
       "      <th>Logistic Regression, Random Oversampling</th>\n",
       "      <td>0.230803</td>\n",
       "      <td>0.004462</td>\n",
       "      <td>0.973397</td>\n",
       "      <td>0.001256</td>\n",
       "      <td>0.789661</td>\n",
       "      <td>0.012845</td>\n",
       "      <td>0.744899</td>\n",
       "      <td>0.010114</td>\n",
       "      <td>0.357129</td>\n",
       "      <td>0.004219</td>\n",
       "      <td>0.843910</td>\n",
       "      <td>0.006047</td>\n",
       "      <td>0.844606</td>\n",
       "      <td>0.003248</td>\n",
       "    </tr>\n",
       "    <tr>\n",
       "      <th>Logistic Regression, SMOTE</th>\n",
       "      <td>0.229910</td>\n",
       "      <td>0.002401</td>\n",
       "      <td>0.972232</td>\n",
       "      <td>0.001360</td>\n",
       "      <td>0.779592</td>\n",
       "      <td>0.013210</td>\n",
       "      <td>0.747002</td>\n",
       "      <td>0.007520</td>\n",
       "      <td>0.355054</td>\n",
       "      <td>0.001844</td>\n",
       "      <td>0.844837</td>\n",
       "      <td>0.004334</td>\n",
       "      <td>0.839771</td>\n",
       "      <td>0.003629</td>\n",
       "    </tr>\n",
       "    <tr>\n",
       "      <th>Logistic Regression, Random Undersampling</th>\n",
       "      <td>0.230504</td>\n",
       "      <td>0.003929</td>\n",
       "      <td>0.973449</td>\n",
       "      <td>0.001094</td>\n",
       "      <td>0.790283</td>\n",
       "      <td>0.011201</td>\n",
       "      <td>0.744315</td>\n",
       "      <td>0.008913</td>\n",
       "      <td>0.356851</td>\n",
       "      <td>0.003744</td>\n",
       "      <td>0.843565</td>\n",
       "      <td>0.005342</td>\n",
       "      <td>0.844349</td>\n",
       "      <td>0.003153</td>\n",
       "    </tr>\n",
       "    <tr>\n",
       "      <th>Random Forest, Basic</th>\n",
       "      <td>0.374947</td>\n",
       "      <td>0.013280</td>\n",
       "      <td>0.917658</td>\n",
       "      <td>0.000378</td>\n",
       "      <td>0.086480</td>\n",
       "      <td>0.004861</td>\n",
       "      <td>0.986033</td>\n",
       "      <td>0.000758</td>\n",
       "      <td>0.140497</td>\n",
       "      <td>0.006972</td>\n",
       "      <td>0.950618</td>\n",
       "      <td>0.000344</td>\n",
       "      <td>0.808868</td>\n",
       "      <td>0.002563</td>\n",
       "    </tr>\n",
       "    <tr>\n",
       "      <th>Random Forest, Class Weight</th>\n",
       "      <td>0.300763</td>\n",
       "      <td>0.008545</td>\n",
       "      <td>0.918593</td>\n",
       "      <td>0.000360</td>\n",
       "      <td>0.107059</td>\n",
       "      <td>0.004754</td>\n",
       "      <td>0.975888</td>\n",
       "      <td>0.001014</td>\n",
       "      <td>0.157864</td>\n",
       "      <td>0.005834</td>\n",
       "      <td>0.946374</td>\n",
       "      <td>0.000440</td>\n",
       "      <td>0.800322</td>\n",
       "      <td>0.002287</td>\n",
       "    </tr>\n",
       "    <tr>\n",
       "      <th>Random Forest, Random Oversampling</th>\n",
       "      <td>0.305289</td>\n",
       "      <td>0.002620</td>\n",
       "      <td>0.926621</td>\n",
       "      <td>0.000471</td>\n",
       "      <td>0.222452</td>\n",
       "      <td>0.006702</td>\n",
       "      <td>0.950963</td>\n",
       "      <td>0.001719</td>\n",
       "      <td>0.257302</td>\n",
       "      <td>0.004307</td>\n",
       "      <td>0.938633</td>\n",
       "      <td>0.000628</td>\n",
       "      <td>0.800728</td>\n",
       "      <td>0.002356</td>\n",
       "    </tr>\n",
       "    <tr>\n",
       "      <th>Random Forest, SMOTE</th>\n",
       "      <td>0.367089</td>\n",
       "      <td>0.002649</td>\n",
       "      <td>0.921804</td>\n",
       "      <td>0.000318</td>\n",
       "      <td>0.145419</td>\n",
       "      <td>0.004700</td>\n",
       "      <td>0.975707</td>\n",
       "      <td>0.001034</td>\n",
       "      <td>0.208253</td>\n",
       "      <td>0.004435</td>\n",
       "      <td>0.947989</td>\n",
       "      <td>0.000325</td>\n",
       "      <td>0.809490</td>\n",
       "      <td>0.002348</td>\n",
       "    </tr>\n",
       "    <tr>\n",
       "      <th>Random Forest, Random Undersampling</th>\n",
       "      <td>0.213221</td>\n",
       "      <td>0.003118</td>\n",
       "      <td>0.972713</td>\n",
       "      <td>0.001153</td>\n",
       "      <td>0.792302</td>\n",
       "      <td>0.011405</td>\n",
       "      <td>0.716702</td>\n",
       "      <td>0.008975</td>\n",
       "      <td>0.335972</td>\n",
       "      <td>0.003069</td>\n",
       "      <td>0.825273</td>\n",
       "      <td>0.005580</td>\n",
       "      <td>0.825270</td>\n",
       "      <td>0.002041</td>\n",
       "    </tr>\n",
       "    <tr>\n",
       "      <th>XGBoost, Basic</th>\n",
       "      <td>0.459710</td>\n",
       "      <td>0.009593</td>\n",
       "      <td>0.919113</td>\n",
       "      <td>0.000619</td>\n",
       "      <td>0.101882</td>\n",
       "      <td>0.008281</td>\n",
       "      <td>0.988398</td>\n",
       "      <td>0.000992</td>\n",
       "      <td>0.166632</td>\n",
       "      <td>0.011320</td>\n",
       "      <td>0.952496</td>\n",
       "      <td>0.000241</td>\n",
       "      <td>0.836880</td>\n",
       "      <td>0.003628</td>\n",
       "    </tr>\n",
       "    <tr>\n",
       "      <th>XGBoost, Class Weight</th>\n",
       "      <td>0.227887</td>\n",
       "      <td>0.003538</td>\n",
       "      <td>0.973116</td>\n",
       "      <td>0.001107</td>\n",
       "      <td>0.788496</td>\n",
       "      <td>0.011172</td>\n",
       "      <td>0.741111</td>\n",
       "      <td>0.008543</td>\n",
       "      <td>0.353534</td>\n",
       "      <td>0.003407</td>\n",
       "      <td>0.841381</td>\n",
       "      <td>0.005147</td>\n",
       "      <td>0.841308</td>\n",
       "      <td>0.003548</td>\n",
       "    </tr>\n",
       "    <tr>\n",
       "      <th>XGBoost, Random Oversampling</th>\n",
       "      <td>0.228349</td>\n",
       "      <td>0.003475</td>\n",
       "      <td>0.972993</td>\n",
       "      <td>0.001294</td>\n",
       "      <td>0.787176</td>\n",
       "      <td>0.012486</td>\n",
       "      <td>0.742236</td>\n",
       "      <td>0.008274</td>\n",
       "      <td>0.353958</td>\n",
       "      <td>0.003548</td>\n",
       "      <td>0.842061</td>\n",
       "      <td>0.004942</td>\n",
       "      <td>0.841450</td>\n",
       "      <td>0.003799</td>\n",
       "    </tr>\n",
       "    <tr>\n",
       "      <th>XGBoost, SMOTE</th>\n",
       "      <td>0.467114</td>\n",
       "      <td>0.007425</td>\n",
       "      <td>0.920422</td>\n",
       "      <td>0.000643</td>\n",
       "      <td>0.119069</td>\n",
       "      <td>0.008685</td>\n",
       "      <td>0.986831</td>\n",
       "      <td>0.001138</td>\n",
       "      <td>0.189576</td>\n",
       "      <td>0.011020</td>\n",
       "      <td>0.952469</td>\n",
       "      <td>0.000256</td>\n",
       "      <td>0.838019</td>\n",
       "      <td>0.002646</td>\n",
       "    </tr>\n",
       "    <tr>\n",
       "      <th>XGBoost, Random Undersampling</th>\n",
       "      <td>0.221723</td>\n",
       "      <td>0.003370</td>\n",
       "      <td>0.974955</td>\n",
       "      <td>0.001018</td>\n",
       "      <td>0.807522</td>\n",
       "      <td>0.010242</td>\n",
       "      <td>0.725324</td>\n",
       "      <td>0.008652</td>\n",
       "      <td>0.347873</td>\n",
       "      <td>0.003268</td>\n",
       "      <td>0.831780</td>\n",
       "      <td>0.005328</td>\n",
       "      <td>0.840501</td>\n",
       "      <td>0.003256</td>\n",
       "    </tr>\n",
       "  </tbody>\n",
       "</table>\n",
       "</div>"
      ],
      "text/plain": [
       "                                           precision_pos_mean  \\\n",
       "Logistic Regression, Basic                           0.527923   \n",
       "Logistic Regression, Class Weight                    0.230812   \n",
       "Logistic Regression, Random Oversampling             0.230803   \n",
       "Logistic Regression, SMOTE                           0.229910   \n",
       "Logistic Regression, Random Undersampling            0.230504   \n",
       "Random Forest, Basic                                 0.374947   \n",
       "Random Forest, Class Weight                          0.300763   \n",
       "Random Forest, Random Oversampling                   0.305289   \n",
       "Random Forest, SMOTE                                 0.367089   \n",
       "Random Forest, Random Undersampling                  0.213221   \n",
       "XGBoost, Basic                                       0.459710   \n",
       "XGBoost, Class Weight                                0.227887   \n",
       "XGBoost, Random Oversampling                         0.228349   \n",
       "XGBoost, SMOTE                                       0.467114   \n",
       "XGBoost, Random Undersampling                        0.221723   \n",
       "\n",
       "                                           precision_pos_std  \\\n",
       "Logistic Regression, Basic                          0.008592   \n",
       "Logistic Regression, Class Weight                   0.004329   \n",
       "Logistic Regression, Random Oversampling            0.004462   \n",
       "Logistic Regression, SMOTE                          0.002401   \n",
       "Logistic Regression, Random Undersampling           0.003929   \n",
       "Random Forest, Basic                                0.013280   \n",
       "Random Forest, Class Weight                         0.008545   \n",
       "Random Forest, Random Oversampling                  0.002620   \n",
       "Random Forest, SMOTE                                0.002649   \n",
       "Random Forest, Random Undersampling                 0.003118   \n",
       "XGBoost, Basic                                      0.009593   \n",
       "XGBoost, Class Weight                               0.003538   \n",
       "XGBoost, Random Oversampling                        0.003475   \n",
       "XGBoost, SMOTE                                      0.007425   \n",
       "XGBoost, Random Undersampling                       0.003370   \n",
       "\n",
       "                                           precision_neg_mean  \\\n",
       "Logistic Regression, Basic                           0.920150   \n",
       "Logistic Regression, Class Weight                    0.973399   \n",
       "Logistic Regression, Random Oversampling             0.973397   \n",
       "Logistic Regression, SMOTE                           0.972232   \n",
       "Logistic Regression, Random Undersampling            0.973449   \n",
       "Random Forest, Basic                                 0.917658   \n",
       "Random Forest, Class Weight                          0.918593   \n",
       "Random Forest, Random Oversampling                   0.926621   \n",
       "Random Forest, SMOTE                                 0.921804   \n",
       "Random Forest, Random Undersampling                  0.972713   \n",
       "XGBoost, Basic                                       0.919113   \n",
       "XGBoost, Class Weight                                0.973116   \n",
       "XGBoost, Random Oversampling                         0.972993   \n",
       "XGBoost, SMOTE                                       0.920422   \n",
       "XGBoost, Random Undersampling                        0.974955   \n",
       "\n",
       "                                           precision_neg_std  recall_pos_mean  \\\n",
       "Logistic Regression, Basic                          0.000730         0.112753   \n",
       "Logistic Regression, Class Weight                   0.001171         0.789687   \n",
       "Logistic Regression, Random Oversampling            0.001256         0.789661   \n",
       "Logistic Regression, SMOTE                          0.001360         0.779592   \n",
       "Logistic Regression, Random Undersampling           0.001094         0.790283   \n",
       "Random Forest, Basic                                0.000378         0.086480   \n",
       "Random Forest, Class Weight                         0.000360         0.107059   \n",
       "Random Forest, Random Oversampling                  0.000471         0.222452   \n",
       "Random Forest, SMOTE                                0.000318         0.145419   \n",
       "Random Forest, Random Undersampling                 0.001153         0.792302   \n",
       "XGBoost, Basic                                      0.000619         0.101882   \n",
       "XGBoost, Class Weight                               0.001107         0.788496   \n",
       "XGBoost, Random Oversampling                        0.001294         0.787176   \n",
       "XGBoost, SMOTE                                      0.000643         0.119069   \n",
       "XGBoost, Random Undersampling                       0.001018         0.807522   \n",
       "\n",
       "                                           recall_pos_std  recall_neg_mean  \\\n",
       "Logistic Regression, Basic                       0.009544         0.990230   \n",
       "Logistic Regression, Class Weight                0.012040         0.744919   \n",
       "Logistic Regression, Random Oversampling         0.012845         0.744899   \n",
       "Logistic Regression, SMOTE                       0.013210         0.747002   \n",
       "Logistic Regression, Random Undersampling        0.011201         0.744315   \n",
       "Random Forest, Basic                             0.004861         0.986033   \n",
       "Random Forest, Class Weight                      0.004754         0.975888   \n",
       "Random Forest, Random Oversampling               0.006702         0.950963   \n",
       "Random Forest, SMOTE                             0.004700         0.975707   \n",
       "Random Forest, Random Undersampling              0.011405         0.716702   \n",
       "XGBoost, Basic                                   0.008281         0.988398   \n",
       "XGBoost, Class Weight                            0.011172         0.741111   \n",
       "XGBoost, Random Oversampling                     0.012486         0.742236   \n",
       "XGBoost, SMOTE                                   0.008685         0.986831   \n",
       "XGBoost, Random Undersampling                    0.010242         0.725324   \n",
       "\n",
       "                                           recall_neg_std  f1_pos_mean  \\\n",
       "Logistic Regression, Basic                       0.000873     0.185621   \n",
       "Logistic Regression, Class Weight                0.009696     0.357149   \n",
       "Logistic Regression, Random Oversampling         0.010114     0.357129   \n",
       "Logistic Regression, SMOTE                       0.007520     0.355054   \n",
       "Logistic Regression, Random Undersampling        0.008913     0.356851   \n",
       "Random Forest, Basic                             0.000758     0.140497   \n",
       "Random Forest, Class Weight                      0.001014     0.157864   \n",
       "Random Forest, Random Oversampling               0.001719     0.257302   \n",
       "Random Forest, SMOTE                             0.001034     0.208253   \n",
       "Random Forest, Random Undersampling              0.008975     0.335972   \n",
       "XGBoost, Basic                                   0.000992     0.166632   \n",
       "XGBoost, Class Weight                            0.008543     0.353534   \n",
       "XGBoost, Random Oversampling                     0.008274     0.353958   \n",
       "XGBoost, SMOTE                                   0.001138     0.189576   \n",
       "XGBoost, Random Undersampling                    0.008652     0.347873   \n",
       "\n",
       "                                           f1_pos_std  f1_neg_mean  \\\n",
       "Logistic Regression, Basic                   0.013114     0.953904   \n",
       "Logistic Regression, Class Weight            0.004133     0.843927   \n",
       "Logistic Regression, Random Oversampling     0.004219     0.843910   \n",
       "Logistic Regression, SMOTE                   0.001844     0.844837   \n",
       "Logistic Regression, Random Undersampling    0.003744     0.843565   \n",
       "Random Forest, Basic                         0.006972     0.950618   \n",
       "Random Forest, Class Weight                  0.005834     0.946374   \n",
       "Random Forest, Random Oversampling           0.004307     0.938633   \n",
       "Random Forest, SMOTE                         0.004435     0.947989   \n",
       "Random Forest, Random Undersampling          0.003069     0.825273   \n",
       "XGBoost, Basic                               0.011320     0.952496   \n",
       "XGBoost, Class Weight                        0.003407     0.841381   \n",
       "XGBoost, Random Oversampling                 0.003548     0.842061   \n",
       "XGBoost, SMOTE                               0.011020     0.952469   \n",
       "XGBoost, Random Undersampling                0.003268     0.831780   \n",
       "\n",
       "                                           f1_neg_std  roc_auc_mean  \\\n",
       "Logistic Regression, Basic                   0.000173      0.843716   \n",
       "Logistic Regression, Class Weight            0.005812      0.844623   \n",
       "Logistic Regression, Random Oversampling     0.006047      0.844606   \n",
       "Logistic Regression, SMOTE                   0.004334      0.839771   \n",
       "Logistic Regression, Random Undersampling    0.005342      0.844349   \n",
       "Random Forest, Basic                         0.000344      0.808868   \n",
       "Random Forest, Class Weight                  0.000440      0.800322   \n",
       "Random Forest, Random Oversampling           0.000628      0.800728   \n",
       "Random Forest, SMOTE                         0.000325      0.809490   \n",
       "Random Forest, Random Undersampling          0.005580      0.825270   \n",
       "XGBoost, Basic                               0.000241      0.836880   \n",
       "XGBoost, Class Weight                        0.005147      0.841308   \n",
       "XGBoost, Random Oversampling                 0.004942      0.841450   \n",
       "XGBoost, SMOTE                               0.000256      0.838019   \n",
       "XGBoost, Random Undersampling                0.005328      0.840501   \n",
       "\n",
       "                                           roc_auc_std  \n",
       "Logistic Regression, Basic                    0.002932  \n",
       "Logistic Regression, Class Weight             0.003205  \n",
       "Logistic Regression, Random Oversampling      0.003248  \n",
       "Logistic Regression, SMOTE                    0.003629  \n",
       "Logistic Regression, Random Undersampling     0.003153  \n",
       "Random Forest, Basic                          0.002563  \n",
       "Random Forest, Class Weight                   0.002287  \n",
       "Random Forest, Random Oversampling            0.002356  \n",
       "Random Forest, SMOTE                          0.002348  \n",
       "Random Forest, Random Undersampling           0.002041  \n",
       "XGBoost, Basic                                0.003628  \n",
       "XGBoost, Class Weight                         0.003548  \n",
       "XGBoost, Random Oversampling                  0.003799  \n",
       "XGBoost, SMOTE                                0.002646  \n",
       "XGBoost, Random Undersampling                 0.003256  "
      ]
     },
     "execution_count": 42,
     "metadata": {},
     "output_type": "execute_result"
    }
   ],
   "source": [
    "results_df = results_to_df(cv_results)\n",
    "results_df"
   ]
  },
  {
   "attachments": {},
   "cell_type": "markdown",
   "metadata": {},
   "source": [
    "# Hyperparameter Tuning"
   ]
  },
  {
   "attachments": {},
   "cell_type": "markdown",
   "metadata": {},
   "source": [
    "## Choosing the Best Models for Hyperparameter Tuning  \n",
    "I will use two metrics in order to choose a best model: the recall score of the positive class, and the roc auc score. \n",
    "\n",
    "The recall score was chosen because in a real-world-application scenario where you are trying to predict wheter a given individual has has heart diseasse, having a large false negative rate would be very problematic (i.e., telling a patient they don't have heart diseasse when in fact they do). The recall score of the positive class, also known as the true positive rate, is the probabilistic converse of the false negative rate. Therefore, this is the score that we want to maximize.\n",
    "\n",
    "The roc auc score was chosen becasue it asseses the performance of the model \"as a whole\", independent of the chosen probability threshold for classification. "
   ]
  },
  {
   "cell_type": "code",
   "execution_count": 44,
   "metadata": {},
   "outputs": [
    {
     "data": {
      "text/plain": [
       "'Logistic Regression, Class Weight'"
      ]
     },
     "execution_count": 44,
     "metadata": {},
     "output_type": "execute_result"
    }
   ],
   "source": [
    "results_df[results_df['roc_auc_mean'] == results_df['roc_auc_mean'].max()].index[0]"
   ]
  },
  {
   "cell_type": "code",
   "execution_count": 45,
   "metadata": {},
   "outputs": [
    {
     "data": {
      "text/plain": [
       "'XGBoost, Random Undersampling'"
      ]
     },
     "execution_count": 45,
     "metadata": {},
     "output_type": "execute_result"
    }
   ],
   "source": [
    "results_df[results_df['recall_pos_mean'] == results_df['recall_pos_mean'].max()].index[0]"
   ]
  },
  {
   "attachments": {},
   "cell_type": "markdown",
   "metadata": {},
   "source": [
    "## Hyperparameter Tuning"
   ]
  },
  {
   "cell_type": "code",
   "execution_count": null,
   "metadata": {},
   "outputs": [],
   "source": [
    "scores = {'precision_pos':precision_score_pos, 'precision_neg':precision_score_neg, 'recall_pos':recall_score_pos, 'recall_neg':recall_score_neg, \\\n",
    "    'f1_pos':f1_score_pos, 'f1_neg':f1_score_neg, 'roc_auc':roc_auc_scorer}\n",
    "pipeline = Pipeline([('resampler', RandomUnderSampler()), ('XGBoost', XGBClassifier())])\n",
    "param_grid={'XGBoost__eta':[0.3, 0.5, 0.7], 'XGBoost__max_depth':[1, 3, 6, 9], 'XGBoost__lambda':[0.2, 0.5, 1, 5, 10, 20]}\n",
    "clf = GridSearchCV(pipeline, param_grid=param_grid, scoring=scores, refit=False)\n",
    "clf.fit(X, y)\n",
    "\n",
    "grid_cv_results = clf.cv_results_\n",
    "\n",
    "with open('../Data/grid_cv_results_extra.pkl', 'rb') as f:\n",
    "    grid_cv_results_extra = pickle.load(f)"
   ]
  },
  {
   "attachments": {},
   "cell_type": "markdown",
   "metadata": {},
   "source": [
    "**Finding Best Model from Hyperparameter Tuning Results**  \n",
    "To evaluate the best model, we will use the recall score for the positive class and the roc auc score."
   ]
  },
  {
   "cell_type": "code",
   "execution_count": 33,
   "metadata": {},
   "outputs": [
    {
     "name": "stdout",
     "output_type": "stream",
     "text": [
      "Best parameters for recall: {'XGBoost__eta': 0.3, 'XGBoost__lambda': 0.2, 'XGBoost__max_depth': 3}\n",
      "Recall score for best parameters: 0.8135009476404569\n",
      "\n",
      "Best parameters for roc auc: {'XGBoost__eta': 0.3, 'XGBoost__lambda': 10, 'XGBoost__max_depth': 3}\n",
      "Roc auc score for best parameters: 0.8463194291528635\n"
     ]
    }
   ],
   "source": [
    "best_index_recall = np.where(grid_cv_results['rank_test_recall_pos'] == 1)[0][0]\n",
    "best_index_roc_auc = np.where(grid_cv_results['rank_test_roc_auc'] == 1)[0][0]\n",
    "print('Best parameters for recall:', grid_cv_results['params'][best_index_recall])\n",
    "print('Recall score for best parameters:', grid_cv_results['mean_test_recall_pos'][best_index_recall])\n",
    "print()\n",
    "print('Best parameters for roc auc:', grid_cv_results['params'][best_index_roc_auc])\n",
    "print('Roc auc score for best parameters:', grid_cv_results['mean_test_roc_auc'][best_index_roc_auc])"
   ]
  },
  {
   "cell_type": "code",
   "execution_count": 46,
   "metadata": {},
   "outputs": [
    {
     "name": "stderr",
     "output_type": "stream",
     "text": [
      "/home/hiram_g_menendez/Springboard/.conda/lib/python3.10/site-packages/xgboost/sklearn.py:1224: UserWarning: The use of label encoder in XGBClassifier is deprecated and will be removed in a future release. To remove this warning, do the following: 1) Pass option use_label_encoder=False when constructing XGBClassifier object; and 2) Encode your labels (y) as integers starting with 0, i.e. 0, 1, 2, ..., [num_class - 1].\n",
      "  warnings.warn(label_encoder_deprecation_msg, UserWarning)\n",
      "/home/hiram_g_menendez/Springboard/.conda/lib/python3.10/site-packages/xgboost/data.py:250: FutureWarning: pandas.Int64Index is deprecated and will be removed from pandas in a future version. Use pandas.Index with the appropriate dtype instead.\n",
      "  elif isinstance(data.columns, (pd.Int64Index, pd.RangeIndex)):\n"
     ]
    },
    {
     "name": "stdout",
     "output_type": "stream",
     "text": [
      "[14:45:37] WARNING: /tmp/abs_40obctay9q/croots/recipe/xgboost-split_1659548945886/work/src/learner.cc:1115: Starting in XGBoost 1.3.0, the default evaluation metric used with the objective 'binary:logistic' was changed from 'error' to 'logloss'. Explicitly set eval_metric if you'd like to restore the old behavior.\n"
     ]
    }
   ],
   "source": [
    "X_train, X_test, y_train, y_test = train_test_split(X, y, test_size=0.3, stratify=y)\n",
    "best_model = Pipeline([('resampler', RandomUnderSampler()), ('XGBoost', XGBClassifier(max_depth=3, eta=0.3, reg_lambda=10))])\n",
    "best_model.fit(X_train, y_train)\n",
    "\n",
    "with open('../Data/best_model.pkl', 'wb') as f:\n",
    "    pickle.dump(best_model, f)"
   ]
  },
  {
   "cell_type": "code",
   "execution_count": null,
   "metadata": {},
   "outputs": [],
   "source": [
    "with open('../Data/best_model.pkl', 'rb') as f:\n",
    "    best_model = pickle.load(f)"
   ]
  },
  {
   "cell_type": "code",
   "execution_count": 48,
   "metadata": {},
   "outputs": [
    {
     "data": {
      "text/plain": [
       "0.8477845107352647"
      ]
     },
     "execution_count": 48,
     "metadata": {},
     "output_type": "execute_result"
    }
   ],
   "source": [
    "roc_auc_score(y_test, best_model.predict_proba(X_test)[:, 1])"
   ]
  },
  {
   "cell_type": "code",
   "execution_count": 59,
   "metadata": {},
   "outputs": [
    {
     "data": {
      "image/png": "[encoded data removed]",
      "text/plain": [
       "<Figure size 640x480 with 2 Axes>"
      ]
     },
     "metadata": {},
     "output_type": "display_data"
    },
    {
     "name": "stdout",
     "output_type": "stream",
     "text": [
      "\n",
      "Classification Report: \n",
      "              precision    recall  f1-score   support\n",
      "\n",
      "         0.0       0.98      0.73      0.83    119665\n",
      "         1.0       0.23      0.82      0.35     11590\n",
      "\n",
      "    accuracy                           0.73    131255\n",
      "   macro avg       0.60      0.77      0.59    131255\n",
      "weighted avg       0.91      0.73      0.79    131255\n",
      "\n",
      "\n"
     ]
    },
    {
     "data": {
      "image/png": "[encoded data removed]",
      "text/plain": [
       "<Figure size 640x480 with 1 Axes>"
      ]
     },
     "metadata": {},
     "output_type": "display_data"
    },
    {
     "data": {
      "text/plain": [
       "((array([0.97663184, 0.2251154 ]),\n",
       "  array([0.72644466, 0.82053494]),\n",
       "  array([0.83316161, 0.35330176]),\n",
       "  array([119665,  11590]),\n",
       "  0.7734898009603817),\n",
       " (<sklearn.metrics._plot.confusion_matrix.ConfusionMatrixDisplay at 0x7f1cb0dff040>,\n",
       "  '              precision    recall  f1-score   support\\n\\n         0.0       0.98      0.73      0.83    119665\\n         1.0       0.23      0.82      0.35     11590\\n\\n    accuracy                           0.73    131255\\n   macro avg       0.60      0.77      0.59    131255\\nweighted avg       0.91      0.73      0.79    131255\\n',\n",
       "  <sklearn.metrics._plot.roc_curve.RocCurveDisplay at 0x7f1ca768b1c0>))"
      ]
     },
     "execution_count": 59,
     "metadata": {},
     "output_type": "execute_result"
    }
   ],
   "source": [
    "my_scorer(y_test, best_model.predict(X_test), best_model.predict_proba(X_test)[:, 1])"
   ]
  },
  {
   "cell_type": "code",
   "execution_count": 63,
   "metadata": {},
   "outputs": [
    {
     "data": {
      "image/png": "[encoded data removed]",
      "text/plain": [
       "<Figure size 640x480 with 2 Axes>"
      ]
     },
     "metadata": {},
     "output_type": "display_data"
    }
   ],
   "source": [
    "ConfusionMatrixDisplay.from_predictions(y_test, best_model.predict(X_test), normalize='all')\n",
    "plt.show()"
   ]
  },
  {
   "cell_type": "code",
   "execution_count": 77,
   "metadata": {},
   "outputs": [
    {
     "data": {
      "image/png": "[encoded data removed]",
      "text/plain": [
       "<Figure size 640x480 with 1 Axes>"
      ]
     },
     "metadata": {},
     "output_type": "display_data"
    }
   ],
   "source": [
    "PrecisionRecallDisplay.from_predictions(y_test, best_model.predict_proba(X_test)[:, 1])\n",
    "plt.show()"
   ]
  },
  {
   "cell_type": "code",
   "execution_count": 118,
   "metadata": {},
   "outputs": [
    {
     "data": {
      "image/png": "[encoded data removed]",
      "text/plain": [
       "<Figure size 640x480 with 1 Axes>"
      ]
     },
     "metadata": {},
     "output_type": "display_data"
    }
   ],
   "source": [
    "plot_feature_importances(best_model.named_steps['XGBoost'].feature_importances_, X.columns)"
   ]
  },
  {
   "cell_type": "code",
   "execution_count": 43,
   "metadata": {},
   "outputs": [],
   "source": [
    "with open('../Data/modeling_results.pkl', 'wb') as f:\n",
    "    pickle.dump(2, f)\n",
    "    pickle.dump(cv_results, f)\n",
    "    pickle.dump(grid_cv_results, f)"
   ]
  },
  {
   "cell_type": "code",
   "execution_count": null,
   "metadata": {},
   "outputs": [],
   "source": [
    "with open('../Data/modeling_results.pkl', 'rb') as f:\n",
    "    n = pickle.load(f)\n",
    "    cv_results = pickle.load(f)\n",
    "    grid_cv_results = pickle.load(f)"
   ]
  }
 ],
 "metadata": {
  "kernelspec": {
   "display_name": "Python 3",
   "language": "python",
   "name": "python3"
  },
  "language_info": {
   "codemirror_mode": {
    "name": "ipython",
    "version": 3
   },
   "file_extension": ".py",
   "mimetype": "text/x-python",
   "name": "python",
   "nbconvert_exporter": "python",
   "pygments_lexer": "ipython3",
   "version": "3.10.8"
  },
  "vscode": {
   "interpreter": {
    "hash": "6a194075f079feadc7328435ccec198d6ff13558886ad2ffaa565dc4b8b8c149"
   }
  }
 },
 "nbformat": 4,
 "nbformat_minor": 2
}
