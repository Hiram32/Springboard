{
 "cells": [
  {
   "cell_type": "markdown",
   "id": "fff84a44",
   "metadata": {},
   "source": [
    "# Capstone Project 2: Data Wrangling\n",
    "The goal of this project is to predict the presence of heart disease – either coronary artery disease (CAD) or myocardial infarction (MI, a.k.a heart attacks) – in an individual given some of its medical and lifestyle features.\n",
    "\n",
    "The work on this notebook corresponds to the Data Wrangling step of the project."
   ]
  },
  {
   "cell_type": "markdown",
   "id": "573efbb3",
   "metadata": {},
   "source": [
    "## Table of Contents\n",
    "* [1 Import Relevant Packages](#1-Import-Relevant-Packages)\n",
    "* [2 Load Data](#2-Load-Data)\n",
    "* [3 Basic Description of Data](#3-Basic-Description-of-Data)\n",
    "* [4 Data Cleaning](#4-Data-Cleaning)\n",
    "    * [4.1 Cleaning the Columns with \"object\" Data Types](#4.1-Cleaning-the-Columns-with-\"object\"-Data-Types)\n",
    "    * [4.2 Removing Empty Columns](#4.2-Removing-Empty-Columns)\n",
    "    * [4.3 Missing Values](#4.3-Missing-Values)\n",
    "    * [4.4 Changing Data Type of Categorical Features to \"category\"](#4.4-Changing-Data-Type-of-Categorical-Features-to-\"category\")\n",
    "* [5 Description of Final Dataframe](#5-Description-of-Final-Dataframe)\n",
    "* [6 Exporting the Final Dataframe and Final Remarks](#6-Exporting-the-Final-Dataframe-and-Final-Remarks)"
   ]
  },
  {
   "cell_type": "markdown",
   "id": "196adf19",
   "metadata": {},
   "source": [
    "## 1 Import Relevant Packages"
   ]
  },
  {
   "cell_type": "code",
   "execution_count": 1,
   "id": "c0d87175",
   "metadata": {},
   "outputs": [],
   "source": [
    "import numpy as np\n",
    "import pandas as pd\n",
    "import matplotlib.pyplot as plt\n",
    "from pathlib import Path"
   ]
  },
  {
   "cell_type": "markdown",
   "id": "a2b6591c",
   "metadata": {},
   "source": [
    "## 2 Load Data"
   ]
  },
  {
   "cell_type": "code",
   "execution_count": 2,
   "id": "109b23f9",
   "metadata": {},
   "outputs": [],
   "source": [
    "'''Since the dataframe has over 400,000 rows, the kernel sometimes stalls when loading it. Reading the\n",
    "dataframe in chunks of 100,000 rows and then concatenating them seems to prevent this.'''\n",
    "\n",
    "#The first time the nobook is run, it reads the DataFrame from a .csv file and then stores a pickled \n",
    "#version of it locally. If the notebook needs to be run a second time, it will read directly from the \n",
    "#pickled file instead.\n",
    "if not Path('../Data/2015.pkl').exists(): #Don't load from .csv if pickled file exists.\n",
    "    #Name the path of the data and create a generator for the chunks.\n",
    "    path_in = '../Data/2015.zip'\n",
    "    df_gen = pd.read_csv(path_in, compression='zip', chunksize = 100000)\n",
    "\n",
    "    #Loop that concatenates the chunks. Output the raw data.\n",
    "    df_raw = next(df_gen)\n",
    "    for d in df_gen:\n",
    "        df_raw = pd.concat([df_raw, d])\n",
    "    \n",
    "    df_raw.to_pickle('../Data/2015.pkl') #Save pickled version to improve loading times next time.\n",
    "    \n",
    "else: #If there is a pickled file, read from it instead.\n",
    "    df_raw = pd.read_pickle('../Data/2015.pkl')"
   ]
  },
  {
   "cell_type": "markdown",
   "id": "8fae7a06",
   "metadata": {},
   "source": [
    "## 3 Basic Description of Data\n",
    "The data comprises over 400,000 rows corresponding to survey respondents and over 300 columns corresponding to answers to survey questions. The majority of survey answers are number coded. For example, the column `BPHIGH4`, corresponding to the question \"Have you ever been told by a doctor \\[...\\] that you have high blood pressure?\", has six possible answers: A value of \"1\" corresponds to \"Yes\"; a value of \"2\" corresponds to \"Yes, but female and told only during pregnancy\"; a value of \"3\" corresponds to \"No\"; and other numbers correspond to other answers. The description of these numeric codes is found in pdf files provided by the CDC called \"codebooks\", which can be found in the \"Capstone_Project_2/Data\" directory.\n",
    "\n",
    "The questions and the answers can be very specific. However, some columns in the data frame are \"calculated variables\" that use the answers of combinations of different questions to arrive at a useful quantity or categorical label. For example, the column `_BMI5CAT` categorizes each survey participant into five different weight categories (normal weight, overweight, obese, etc.) by calculating the BMI index of each participant by using the answers to questions about height and weight."
   ]
  },
  {
   "cell_type": "code",
   "execution_count": 3,
   "id": "94a84975",
   "metadata": {
    "scrolled": false
   },
   "outputs": [
    {
     "data": {
      "text/html": [
       "<div>\n",
       "<style scoped>\n",
       "    .dataframe tbody tr th:only-of-type {\n",
       "        vertical-align: middle;\n",
       "    }\n",
       "\n",
       "    .dataframe tbody tr th {\n",
       "        vertical-align: top;\n",
       "    }\n",
       "\n",
       "    .dataframe thead th {\n",
       "        text-align: right;\n",
       "    }\n",
       "</style>\n",
       "<table border=\"1\" class=\"dataframe\">\n",
       "  <thead>\n",
       "    <tr style=\"text-align: right;\">\n",
       "      <th></th>\n",
       "      <th>_STATE</th>\n",
       "      <th>FMONTH</th>\n",
       "      <th>IDATE</th>\n",
       "      <th>IMONTH</th>\n",
       "      <th>IDAY</th>\n",
       "      <th>IYEAR</th>\n",
       "      <th>DISPCODE</th>\n",
       "      <th>SEQNO</th>\n",
       "      <th>_PSU</th>\n",
       "      <th>CTELENUM</th>\n",
       "      <th>...</th>\n",
       "      <th>_PAREC1</th>\n",
       "      <th>_PASTAE1</th>\n",
       "      <th>_LMTACT1</th>\n",
       "      <th>_LMTWRK1</th>\n",
       "      <th>_LMTSCL1</th>\n",
       "      <th>_RFSEAT2</th>\n",
       "      <th>_RFSEAT3</th>\n",
       "      <th>_FLSHOT6</th>\n",
       "      <th>_PNEUMO2</th>\n",
       "      <th>_AIDTST3</th>\n",
       "    </tr>\n",
       "  </thead>\n",
       "  <tbody>\n",
       "    <tr>\n",
       "      <th>0</th>\n",
       "      <td>1.0</td>\n",
       "      <td>1.0</td>\n",
       "      <td>b'01292015'</td>\n",
       "      <td>b'01'</td>\n",
       "      <td>b'29'</td>\n",
       "      <td>b'2015'</td>\n",
       "      <td>1200.0</td>\n",
       "      <td>2.015000e+09</td>\n",
       "      <td>2.015000e+09</td>\n",
       "      <td>1.0</td>\n",
       "      <td>...</td>\n",
       "      <td>4.0</td>\n",
       "      <td>2.0</td>\n",
       "      <td>1.0</td>\n",
       "      <td>1.0</td>\n",
       "      <td>1.0</td>\n",
       "      <td>1.0</td>\n",
       "      <td>1.0</td>\n",
       "      <td>NaN</td>\n",
       "      <td>NaN</td>\n",
       "      <td>1.0</td>\n",
       "    </tr>\n",
       "    <tr>\n",
       "      <th>1</th>\n",
       "      <td>1.0</td>\n",
       "      <td>1.0</td>\n",
       "      <td>b'01202015'</td>\n",
       "      <td>b'01'</td>\n",
       "      <td>b'20'</td>\n",
       "      <td>b'2015'</td>\n",
       "      <td>1100.0</td>\n",
       "      <td>2.015000e+09</td>\n",
       "      <td>2.015000e+09</td>\n",
       "      <td>1.0</td>\n",
       "      <td>...</td>\n",
       "      <td>2.0</td>\n",
       "      <td>2.0</td>\n",
       "      <td>3.0</td>\n",
       "      <td>3.0</td>\n",
       "      <td>4.0</td>\n",
       "      <td>2.0</td>\n",
       "      <td>2.0</td>\n",
       "      <td>NaN</td>\n",
       "      <td>NaN</td>\n",
       "      <td>2.0</td>\n",
       "    </tr>\n",
       "    <tr>\n",
       "      <th>2</th>\n",
       "      <td>1.0</td>\n",
       "      <td>1.0</td>\n",
       "      <td>b'02012015'</td>\n",
       "      <td>b'02'</td>\n",
       "      <td>b'01'</td>\n",
       "      <td>b'2015'</td>\n",
       "      <td>1200.0</td>\n",
       "      <td>2.015000e+09</td>\n",
       "      <td>2.015000e+09</td>\n",
       "      <td>1.0</td>\n",
       "      <td>...</td>\n",
       "      <td>9.0</td>\n",
       "      <td>9.0</td>\n",
       "      <td>9.0</td>\n",
       "      <td>9.0</td>\n",
       "      <td>9.0</td>\n",
       "      <td>9.0</td>\n",
       "      <td>9.0</td>\n",
       "      <td>9.0</td>\n",
       "      <td>9.0</td>\n",
       "      <td>NaN</td>\n",
       "    </tr>\n",
       "    <tr>\n",
       "      <th>3</th>\n",
       "      <td>1.0</td>\n",
       "      <td>1.0</td>\n",
       "      <td>b'01142015'</td>\n",
       "      <td>b'01'</td>\n",
       "      <td>b'14'</td>\n",
       "      <td>b'2015'</td>\n",
       "      <td>1100.0</td>\n",
       "      <td>2.015000e+09</td>\n",
       "      <td>2.015000e+09</td>\n",
       "      <td>1.0</td>\n",
       "      <td>...</td>\n",
       "      <td>4.0</td>\n",
       "      <td>2.0</td>\n",
       "      <td>1.0</td>\n",
       "      <td>1.0</td>\n",
       "      <td>1.0</td>\n",
       "      <td>1.0</td>\n",
       "      <td>1.0</td>\n",
       "      <td>NaN</td>\n",
       "      <td>NaN</td>\n",
       "      <td>9.0</td>\n",
       "    </tr>\n",
       "    <tr>\n",
       "      <th>4</th>\n",
       "      <td>1.0</td>\n",
       "      <td>1.0</td>\n",
       "      <td>b'01142015'</td>\n",
       "      <td>b'01'</td>\n",
       "      <td>b'14'</td>\n",
       "      <td>b'2015'</td>\n",
       "      <td>1100.0</td>\n",
       "      <td>2.015000e+09</td>\n",
       "      <td>2.015000e+09</td>\n",
       "      <td>1.0</td>\n",
       "      <td>...</td>\n",
       "      <td>4.0</td>\n",
       "      <td>2.0</td>\n",
       "      <td>1.0</td>\n",
       "      <td>1.0</td>\n",
       "      <td>1.0</td>\n",
       "      <td>1.0</td>\n",
       "      <td>1.0</td>\n",
       "      <td>NaN</td>\n",
       "      <td>NaN</td>\n",
       "      <td>1.0</td>\n",
       "    </tr>\n",
       "  </tbody>\n",
       "</table>\n",
       "<p>5 rows × 330 columns</p>\n",
       "</div>"
      ],
      "text/plain": [
       "   _STATE  FMONTH        IDATE IMONTH   IDAY    IYEAR  DISPCODE         SEQNO  \\\n",
       "0     1.0     1.0  b'01292015'  b'01'  b'29'  b'2015'    1200.0  2.015000e+09   \n",
       "1     1.0     1.0  b'01202015'  b'01'  b'20'  b'2015'    1100.0  2.015000e+09   \n",
       "2     1.0     1.0  b'02012015'  b'02'  b'01'  b'2015'    1200.0  2.015000e+09   \n",
       "3     1.0     1.0  b'01142015'  b'01'  b'14'  b'2015'    1100.0  2.015000e+09   \n",
       "4     1.0     1.0  b'01142015'  b'01'  b'14'  b'2015'    1100.0  2.015000e+09   \n",
       "\n",
       "           _PSU  CTELENUM  ...  _PAREC1  _PASTAE1  _LMTACT1  _LMTWRK1  \\\n",
       "0  2.015000e+09       1.0  ...      4.0       2.0       1.0       1.0   \n",
       "1  2.015000e+09       1.0  ...      2.0       2.0       3.0       3.0   \n",
       "2  2.015000e+09       1.0  ...      9.0       9.0       9.0       9.0   \n",
       "3  2.015000e+09       1.0  ...      4.0       2.0       1.0       1.0   \n",
       "4  2.015000e+09       1.0  ...      4.0       2.0       1.0       1.0   \n",
       "\n",
       "   _LMTSCL1  _RFSEAT2  _RFSEAT3  _FLSHOT6  _PNEUMO2  _AIDTST3  \n",
       "0       1.0       1.0       1.0       NaN       NaN       1.0  \n",
       "1       4.0       2.0       2.0       NaN       NaN       2.0  \n",
       "2       9.0       9.0       9.0       9.0       9.0       NaN  \n",
       "3       1.0       1.0       1.0       NaN       NaN       9.0  \n",
       "4       1.0       1.0       1.0       NaN       NaN       1.0  \n",
       "\n",
       "[5 rows x 330 columns]"
      ]
     },
     "execution_count": 3,
     "metadata": {},
     "output_type": "execute_result"
    }
   ],
   "source": [
    "df_raw.head()"
   ]
  },
  {
   "cell_type": "code",
   "execution_count": 4,
   "id": "76222074",
   "metadata": {
    "scrolled": false
   },
   "outputs": [
    {
     "name": "stdout",
     "output_type": "stream",
     "text": [
      "<class 'pandas.core.frame.DataFrame'>\n",
      "RangeIndex: 441456 entries, 0 to 441455\n",
      "Columns: 330 entries, _STATE to _AIDTST3\n",
      "dtypes: float64(323), object(7)\n",
      "memory usage: 1.1+ GB\n"
     ]
    }
   ],
   "source": [
    "df_raw.info()"
   ]
  },
  {
   "cell_type": "markdown",
   "id": "0b9cc971",
   "metadata": {},
   "source": [
    "## 4 Data Cleaning"
   ]
  },
  {
   "cell_type": "markdown",
   "id": "7fc2ca27",
   "metadata": {},
   "source": [
    "### 4.1 Cleaning the Columns with \"object\" Data Types"
   ]
  },
  {
   "cell_type": "markdown",
   "id": "ddc720c4",
   "metadata": {},
   "source": [
    "**Examining the columns with data type \"object\".**"
   ]
  },
  {
   "cell_type": "code",
   "execution_count": 5,
   "id": "c2b91554",
   "metadata": {
    "scrolled": true
   },
   "outputs": [],
   "source": [
    "cols_obj_dtypes = df_raw.select_dtypes(include='object').columns"
   ]
  },
  {
   "cell_type": "code",
   "execution_count": 6,
   "id": "53d571b6",
   "metadata": {},
   "outputs": [
    {
     "data": {
      "text/html": [
       "<div>\n",
       "<style scoped>\n",
       "    .dataframe tbody tr th:only-of-type {\n",
       "        vertical-align: middle;\n",
       "    }\n",
       "\n",
       "    .dataframe tbody tr th {\n",
       "        vertical-align: top;\n",
       "    }\n",
       "\n",
       "    .dataframe thead th {\n",
       "        text-align: right;\n",
       "    }\n",
       "</style>\n",
       "<table border=\"1\" class=\"dataframe\">\n",
       "  <thead>\n",
       "    <tr style=\"text-align: right;\">\n",
       "      <th></th>\n",
       "      <th>IDATE</th>\n",
       "      <th>IMONTH</th>\n",
       "      <th>IDAY</th>\n",
       "      <th>IYEAR</th>\n",
       "      <th>PCDMDECN</th>\n",
       "      <th>EXACTOT1</th>\n",
       "      <th>EXACTOT2</th>\n",
       "    </tr>\n",
       "  </thead>\n",
       "  <tbody>\n",
       "    <tr>\n",
       "      <th>0</th>\n",
       "      <td>b'01292015'</td>\n",
       "      <td>b'01'</td>\n",
       "      <td>b'29'</td>\n",
       "      <td>b'2015'</td>\n",
       "      <td>b''</td>\n",
       "      <td>b''</td>\n",
       "      <td>b''</td>\n",
       "    </tr>\n",
       "    <tr>\n",
       "      <th>1</th>\n",
       "      <td>b'01202015'</td>\n",
       "      <td>b'01'</td>\n",
       "      <td>b'20'</td>\n",
       "      <td>b'2015'</td>\n",
       "      <td>b''</td>\n",
       "      <td>b''</td>\n",
       "      <td>b''</td>\n",
       "    </tr>\n",
       "    <tr>\n",
       "      <th>2</th>\n",
       "      <td>b'02012015'</td>\n",
       "      <td>b'02'</td>\n",
       "      <td>b'01'</td>\n",
       "      <td>b'2015'</td>\n",
       "      <td>b''</td>\n",
       "      <td>b''</td>\n",
       "      <td>b''</td>\n",
       "    </tr>\n",
       "    <tr>\n",
       "      <th>3</th>\n",
       "      <td>b'01142015'</td>\n",
       "      <td>b'01'</td>\n",
       "      <td>b'14'</td>\n",
       "      <td>b'2015'</td>\n",
       "      <td>b''</td>\n",
       "      <td>b''</td>\n",
       "      <td>b''</td>\n",
       "    </tr>\n",
       "    <tr>\n",
       "      <th>4</th>\n",
       "      <td>b'01142015'</td>\n",
       "      <td>b'01'</td>\n",
       "      <td>b'14'</td>\n",
       "      <td>b'2015'</td>\n",
       "      <td>b''</td>\n",
       "      <td>b''</td>\n",
       "      <td>b''</td>\n",
       "    </tr>\n",
       "  </tbody>\n",
       "</table>\n",
       "</div>"
      ],
      "text/plain": [
       "         IDATE IMONTH   IDAY    IYEAR PCDMDECN EXACTOT1 EXACTOT2\n",
       "0  b'01292015'  b'01'  b'29'  b'2015'      b''      b''      b''\n",
       "1  b'01202015'  b'01'  b'20'  b'2015'      b''      b''      b''\n",
       "2  b'02012015'  b'02'  b'01'  b'2015'      b''      b''      b''\n",
       "3  b'01142015'  b'01'  b'14'  b'2015'      b''      b''      b''\n",
       "4  b'01142015'  b'01'  b'14'  b'2015'      b''      b''      b''"
      ]
     },
     "execution_count": 6,
     "metadata": {},
     "output_type": "execute_result"
    }
   ],
   "source": [
    "df_raw[cols_obj_dtypes].head()"
   ]
  },
  {
   "cell_type": "code",
   "execution_count": 11,
   "id": "e653332b",
   "metadata": {},
   "outputs": [
    {
     "data": {
      "image/png": "[encoded data removed]",
      "text/plain": [
       "<Figure size 1000x10 with 1 Axes>"
      ]
     },
     "metadata": {},
     "output_type": "display_data"
    }
   ],
   "source": [
    "from my_package.functions import make_image_table\n",
    "make_image_table(df_raw[cols_obj_dtypes].head(), (10, 10))"
   ]
  },
  {
   "cell_type": "markdown",
   "id": "540aaac7",
   "metadata": {},
   "source": [
    "**Checking the names of columns with object data types, whether they have null value entries, and the first 10 entries of their unique values.**"
   ]
  },
  {
   "cell_type": "code",
   "execution_count": null,
   "id": "77921c30",
   "metadata": {
    "scrolled": false
   },
   "outputs": [
    {
     "name": "stdout",
     "output_type": "stream",
     "text": [
      "\n",
      "Names of columns with object data types:\n",
      "['IDATE', 'IMONTH', 'IDAY', 'IYEAR', 'PCDMDECN', 'EXACTOT1', 'EXACTOT2'] \n",
      "\n",
      "Number of unique values:\n",
      "IDATE: 415\n",
      "IMONTH: 12\n",
      "IDAY: 31\n",
      "IYEAR: 2\n",
      "PCDMDECN: 12\n",
      "EXACTOT1: 5642\n",
      "EXACTOT2: 7623\n",
      "\n",
      "Null values in each of these columns:\n",
      "IDATE       0\n",
      "IMONTH      0\n",
      "IDAY        0\n",
      "IYEAR       0\n",
      "PCDMDECN    0\n",
      "EXACTOT1    0\n",
      "EXACTOT2    0\n",
      "dtype: int64 \n",
      "\n",
      "First 10 unique values of each of these columns:\n",
      "IDATE: [\"b'01292015'\" \"b'01202015'\" \"b'02012015'\" \"b'01142015'\" \"b'01052015'\"\n",
      " \"b'01132015'\" \"b'01302015'\" \"b'01222015'\" \"b'01162015'\" \"b'01042015'\"]\n",
      "IMONTH: [\"b'01'\" \"b'02'\" \"b'03'\" \"b'04'\" \"b'05'\" \"b'06'\" \"b'07'\" \"b'08'\" \"b'09'\"\n",
      " \"b'10'\"]\n",
      "IDAY: [\"b'29'\" \"b'20'\" \"b'01'\" \"b'14'\" \"b'05'\" \"b'13'\" \"b'30'\" \"b'22'\" \"b'16'\"\n",
      " \"b'04'\"]\n",
      "IYEAR: [\"b'2015'\" \"b'2016'\"]\n",
      "PCDMDECN: [\"b''\" \"b'1'\" \"b'12'\" \"b'2'\" \"b'7'\" \"b'9'\" \"b'3'\" \"b'21'\" \"b'13'\" \"b'4'\"]\n",
      "EXACTOT1: [\"b''\" \"b'Physical Therapy'\" \"b'Streching'\" \"b'rope exer. shoulder'\"\n",
      " \"b'leg lifting'\" \"b'upper body exercises'\" \"b'built room in house'\"\n",
      " \"b'ab machine'\" \"b'bed ex'\" \"b'treadmill'\"]\n",
      "EXACTOT2: [\"b''\" \"b'Treadmill'\" \"b'pushups'\" \"b'housework'\" \"b'cardio'\"\n",
      " \"b'stretching exercises'\" \"b'sit ups'\" \"b'housewprk'\" \"b'work'\"\n",
      " \"b'full body'\"]\n"
     ]
    }
   ],
   "source": [
    "print('\\nNames of columns with object data types:')\n",
    "print(list(cols_obj_dtypes), '\\n')\n",
    "\n",
    "print('Number of unique values:')\n",
    "for c in cols_obj_dtypes:\n",
    "    print(f'{c}:', df_raw[c].unique().shape[0])\n",
    "\n",
    "print('\\nNull values in each of these columns:')\n",
    "print(df_raw[cols_obj_dtypes].isnull().sum(), '\\n')\n",
    "\n",
    "print('First 10 unique values of each of these columns:')\n",
    "for c in cols_obj_dtypes:\n",
    "    print(f'{c}:', df_raw[c].unique()[:10])"
   ]
  },
  {
   "cell_type": "markdown",
   "id": "1b82c3d1",
   "metadata": {},
   "source": [
    "As can be seen from the previous two cell outputs, the columns `IDATE`, `IMONTH`, `IDAY`, and `IYEAR` are clearly meant to be date entries. After consulting the codebook from the CDC from this dataset, the entries for the column `PCDMDECN` are numeric categorical values just like almost all other columns in the data set. It is not known why the values for this particular column are formatted in this way. The entries for the columns `EXACTOT1` and `EXACTOT2` are therefore the only non-numeric entries in the data set."
   ]
  },
  {
   "cell_type": "markdown",
   "id": "755eac16",
   "metadata": {},
   "source": [
    "**Cleaning the values from the columns with \"object\" data types**  \n",
    "I will remove the \"b's\" and single quotes from these columns."
   ]
  },
  {
   "cell_type": "code",
   "execution_count": null,
   "id": "d409aa75",
   "metadata": {
    "scrolled": true
   },
   "outputs": [],
   "source": [
    "df2 = df_raw.copy() #So that the raw DataFrame needs to be loaded only once if we need to redo our steps.\n",
    "for c in cols_obj_dtypes:\n",
    "    df2.loc[:, c]= df2.loc[:, c].apply(lambda x: np.nan if x == \"b''\" else x.lstrip(\"b'\").rstrip(\"'\"))"
   ]
  },
  {
   "cell_type": "code",
   "execution_count": null,
   "id": "38059d71",
   "metadata": {},
   "outputs": [
    {
     "data": {
      "text/html": [
       "<div>\n",
       "<style scoped>\n",
       "    .dataframe tbody tr th:only-of-type {\n",
       "        vertical-align: middle;\n",
       "    }\n",
       "\n",
       "    .dataframe tbody tr th {\n",
       "        vertical-align: top;\n",
       "    }\n",
       "\n",
       "    .dataframe thead th {\n",
       "        text-align: right;\n",
       "    }\n",
       "</style>\n",
       "<table border=\"1\" class=\"dataframe\">\n",
       "  <thead>\n",
       "    <tr style=\"text-align: right;\">\n",
       "      <th></th>\n",
       "      <th>IDATE</th>\n",
       "      <th>IMONTH</th>\n",
       "      <th>IDAY</th>\n",
       "      <th>IYEAR</th>\n",
       "      <th>PCDMDECN</th>\n",
       "      <th>EXACTOT1</th>\n",
       "      <th>EXACTOT2</th>\n",
       "    </tr>\n",
       "  </thead>\n",
       "  <tbody>\n",
       "    <tr>\n",
       "      <th>0</th>\n",
       "      <td>01292015</td>\n",
       "      <td>01</td>\n",
       "      <td>29</td>\n",
       "      <td>2015</td>\n",
       "      <td>NaN</td>\n",
       "      <td>NaN</td>\n",
       "      <td>NaN</td>\n",
       "    </tr>\n",
       "    <tr>\n",
       "      <th>1</th>\n",
       "      <td>01202015</td>\n",
       "      <td>01</td>\n",
       "      <td>20</td>\n",
       "      <td>2015</td>\n",
       "      <td>NaN</td>\n",
       "      <td>NaN</td>\n",
       "      <td>NaN</td>\n",
       "    </tr>\n",
       "    <tr>\n",
       "      <th>2</th>\n",
       "      <td>02012015</td>\n",
       "      <td>02</td>\n",
       "      <td>01</td>\n",
       "      <td>2015</td>\n",
       "      <td>NaN</td>\n",
       "      <td>NaN</td>\n",
       "      <td>NaN</td>\n",
       "    </tr>\n",
       "    <tr>\n",
       "      <th>3</th>\n",
       "      <td>01142015</td>\n",
       "      <td>01</td>\n",
       "      <td>14</td>\n",
       "      <td>2015</td>\n",
       "      <td>NaN</td>\n",
       "      <td>NaN</td>\n",
       "      <td>NaN</td>\n",
       "    </tr>\n",
       "    <tr>\n",
       "      <th>4</th>\n",
       "      <td>01142015</td>\n",
       "      <td>01</td>\n",
       "      <td>14</td>\n",
       "      <td>2015</td>\n",
       "      <td>NaN</td>\n",
       "      <td>NaN</td>\n",
       "      <td>NaN</td>\n",
       "    </tr>\n",
       "  </tbody>\n",
       "</table>\n",
       "</div>"
      ],
      "text/plain": [
       "      IDATE IMONTH IDAY IYEAR PCDMDECN EXACTOT1 EXACTOT2\n",
       "0  01292015     01   29  2015      NaN      NaN      NaN\n",
       "1  01202015     01   20  2015      NaN      NaN      NaN\n",
       "2  02012015     02   01  2015      NaN      NaN      NaN\n",
       "3  01142015     01   14  2015      NaN      NaN      NaN\n",
       "4  01142015     01   14  2015      NaN      NaN      NaN"
      ]
     },
     "execution_count": 9,
     "metadata": {},
     "output_type": "execute_result"
    }
   ],
   "source": [
    "df2[cols_obj_dtypes].head()"
   ]
  },
  {
   "cell_type": "markdown",
   "id": "3313bbe0",
   "metadata": {},
   "source": [
    "**Converting the entries in the `IDATE` columns to datetime objects**"
   ]
  },
  {
   "cell_type": "code",
   "execution_count": null,
   "id": "54ee797a",
   "metadata": {
    "scrolled": true
   },
   "outputs": [],
   "source": [
    "#Before applying the \"to_datetime\" method, the date need to be formatted in the MM/DD/YYYY format.\n",
    "df2['IDATE'] = pd.to_datetime(df2['IDATE'].map(lambda x: x[0:2] + '/' + x[2:4] + '/' + x[4:]))"
   ]
  },
  {
   "cell_type": "code",
   "execution_count": null,
   "id": "6029e4ef",
   "metadata": {},
   "outputs": [
    {
     "data": {
      "text/plain": [
       "0   2015-01-29\n",
       "1   2015-01-20\n",
       "2   2015-02-01\n",
       "3   2015-01-14\n",
       "4   2015-01-14\n",
       "Name: IDATE, dtype: datetime64[ns]"
      ]
     },
     "execution_count": 11,
     "metadata": {},
     "output_type": "execute_result"
    }
   ],
   "source": [
    "df2['IDATE'].head()"
   ]
  },
  {
   "cell_type": "markdown",
   "id": "0636c044",
   "metadata": {},
   "source": [
    "**Changing the dtypes of the columns `IMONTH`, `IDAY`, `IYEAR` and `PCDMDECN` to \"float\"**"
   ]
  },
  {
   "cell_type": "code",
   "execution_count": null,
   "id": "d837eea8",
   "metadata": {},
   "outputs": [],
   "source": [
    "for c in ['IMONTH', 'IDAY', 'IYEAR', 'PCDMDECN']:\n",
    "    df2[c] = df2[c].astype(float)"
   ]
  },
  {
   "cell_type": "code",
   "execution_count": null,
   "id": "3796490c",
   "metadata": {
    "scrolled": true
   },
   "outputs": [
    {
     "name": "stdout",
     "output_type": "stream",
     "text": [
      "<class 'pandas.core.frame.DataFrame'>\n",
      "RangeIndex: 441456 entries, 0 to 441455\n",
      "Columns: 330 entries, _STATE to _AIDTST3\n",
      "dtypes: datetime64[ns](1), float64(327), object(2)\n",
      "memory usage: 1.1+ GB\n"
     ]
    }
   ],
   "source": [
    "df2.info()"
   ]
  },
  {
   "cell_type": "markdown",
   "id": "027cd161",
   "metadata": {},
   "source": [
    "The DataFrame's two truly non-numeric columns now have their dtypes as \"object\" and the only date column with date entries has dtype datetime."
   ]
  },
  {
   "cell_type": "markdown",
   "id": "e0e3b371",
   "metadata": {},
   "source": [
    "### 4.2 Removing Empty Columns"
   ]
  },
  {
   "cell_type": "markdown",
   "id": "e3425d5c",
   "metadata": {},
   "source": [
    "After examining the codebook, I found out that, for this particular instance of the survey, four of the columns are completely empty. I will first check to verify that this is indeed true."
   ]
  },
  {
   "cell_type": "code",
   "execution_count": null,
   "id": "3868ee55",
   "metadata": {},
   "outputs": [
    {
     "name": "stdout",
     "output_type": "stream",
     "text": [
      "Number of non-null entries for the following columns:\n",
      "PAINACT2: 0\n",
      "QLMENTL2: 0\n",
      "QLSTRES2: 0\n",
      "QLHLTH2: 0\n"
     ]
    }
   ],
   "source": [
    "cols_empty = ['PAINACT2', 'QLMENTL2', 'QLSTRES2', 'QLHLTH2']\n",
    "print('Number of non-null entries for the following columns:')\n",
    "for c in cols_empty:\n",
    "    print(f'{c}:', (~df2[c].isnull()).sum())"
   ]
  },
  {
   "cell_type": "markdown",
   "id": "06ecd9de",
   "metadata": {},
   "source": [
    "These four columns are indeed completely empty, so I will now drop them."
   ]
  },
  {
   "cell_type": "code",
   "execution_count": null,
   "id": "9426b7c2",
   "metadata": {
    "scrolled": true
   },
   "outputs": [],
   "source": [
    "#The DataFrame will be altered by chunks — it will be split into different DataFrames with n number of \n",
    "#rows, the columns of each of them will be dropped, and then they will be concatenated.\n",
    "n = 10000 #Chunk size\n",
    "df_conc = pd.DataFrame() #Empty DataFrame. Will be used to concatenate altered DataFrames.\n",
    "k = df2.shape[0] // n #Number of DataFrames from the split, rounded down.\n",
    "\n",
    "#Loops over each chunk. Columns are dropped for each chunk, and the concatenated into df_conc.\n",
    "for i in range(k + 1): \n",
    "    df_temp = df2.loc[i * n:(i + 1) * n - 1, :].drop(cols_empty, axis=1)\n",
    "    df_conc = pd.concat([df_conc, df_temp])\n",
    "df2 = df_conc"
   ]
  },
  {
   "cell_type": "code",
   "execution_count": null,
   "id": "417dd7fc",
   "metadata": {
    "scrolled": true
   },
   "outputs": [
    {
     "name": "stdout",
     "output_type": "stream",
     "text": [
      "Columns remaining: 326\n"
     ]
    }
   ],
   "source": [
    "print('Columns remaining:', df2.columns.shape[0])"
   ]
  },
  {
   "cell_type": "markdown",
   "id": "97ccc588",
   "metadata": {},
   "source": [
    "Note how the total number of columns in the DataFrame is now less."
   ]
  },
  {
   "cell_type": "markdown",
   "id": "a6caa72d",
   "metadata": {},
   "source": [
    "### 4.3 Missing Values  \n",
    "I will now check the proportion of missing values of columns and examine the distribution of these proportions."
   ]
  },
  {
   "cell_type": "code",
   "execution_count": null,
   "id": "c96200e5",
   "metadata": {
    "scrolled": true
   },
   "outputs": [],
   "source": [
    "s_prop_null = df2.isnull().sum() / df2.shape[0]\n",
    "s_prop_null.name = 'Proportion of Null Values in Columns'"
   ]
  },
  {
   "cell_type": "code",
   "execution_count": null,
   "id": "fa2926a4",
   "metadata": {},
   "outputs": [
    {
     "data": {
      "text/plain": [
       "_STATE    0.0\n",
       "FMONTH    0.0\n",
       "IDATE     0.0\n",
       "IMONTH    0.0\n",
       "IDAY      0.0\n",
       "Name: Proportion of Null Values in Columns, dtype: float64"
      ]
     },
     "execution_count": 18,
     "metadata": {},
     "output_type": "execute_result"
    }
   ],
   "source": [
    "s_prop_null.head()"
   ]
  },
  {
   "cell_type": "markdown",
   "id": "e24ca5a0",
   "metadata": {},
   "source": [
    "**Boxplot and histogram of proportion of missing values of all columns.**"
   ]
  },
  {
   "cell_type": "code",
   "execution_count": null,
   "id": "4c51d82b",
   "metadata": {},
   "outputs": [
    {
     "data": {
      "image/png": "[encoded data removed]",
      "text/plain": [
       "<Figure size 432x288 with 1 Axes>"
      ]
     },
     "metadata": {
      "needs_background": "light"
     },
     "output_type": "display_data"
    }
   ],
   "source": [
    "s_prop_null.plot.box(fontsize=14)\n",
    "plt.ylabel('Proportion', fontsize=14)\n",
    "plt.title('Proportion of null values in columns', fontsize=16)\n",
    "plt.show()"
   ]
  },
  {
   "cell_type": "code",
   "execution_count": null,
   "id": "9fc8d4e4",
   "metadata": {
    "scrolled": true
   },
   "outputs": [
    {
     "data": {
      "image/png": "[encoded data removed]",
      "text/plain": [
       "<Figure size 432x288 with 1 Axes>"
      ]
     },
     "metadata": {
      "needs_background": "light"
     },
     "output_type": "display_data"
    }
   ],
   "source": [
    "s_prop_null.plot.hist(bins=20)\n",
    "plt.title('Distribution of Null Values Proportion in each Column', fontsize=16)\n",
    "plt.ylabel('Frequency', fontsize=14)\n",
    "plt.xlabel('Column Null Value Proportion', fontsize=14)\n",
    "plt.show()"
   ]
  },
  {
   "cell_type": "markdown",
   "id": "6072c507",
   "metadata": {},
   "source": [
    "It appears that a large proportion of columns are missing less than 15% of their values.\n",
    "It also appears that a large proportion of the columns are missing more than about 90% of their values. The nature of the questions asked in those columns might offer an explanation as to why they are more likely to have null values. This will be explored at a later time."
   ]
  },
  {
   "cell_type": "code",
   "execution_count": null,
   "id": "f500b19b",
   "metadata": {},
   "outputs": [
    {
     "name": "stdout",
     "output_type": "stream",
     "text": [
      "Proportion of columns missing less than 15% of their values: 0.44785276073619634\n",
      "Proportion of columns missing more than 90% of their values: 0.3098159509202454\n",
      "Total proportion of columns among these two groups: 0.7576687116564418\n"
     ]
    }
   ],
   "source": [
    "#Checking proportion of total columns that are missing less than 15% of their values and that are missing \n",
    "#more than 90% of their values.\n",
    "prop_lt_15 = s_prop_null[s_prop_null <= 0.15].shape[0] / df2.shape[1]\n",
    "prop_gt_90 = s_prop_null[s_prop_null >= 0.90].shape[0] / df2.shape[1]\n",
    "print('Proportion of columns missing less than 15% of their values:', prop_lt_15)\n",
    "print('Proportion of columns missing more than 90% of their values:', prop_gt_90)\n",
    "print('Total proportion of columns among these two groups:', prop_lt_15 + prop_gt_90)"
   ]
  },
  {
   "cell_type": "markdown",
   "id": "4373f503",
   "metadata": {},
   "source": [
    "### 4.4 Changing Data Type of Categorical Features to \"category\""
   ]
  },
  {
   "cell_type": "markdown",
   "id": "ee6ba251",
   "metadata": {},
   "source": [
    "After consulting the codebook, I realized that, while most of the remaining 326 columns contain numeric categorical values, a small fraction of them are non-categorical. I will now proceed to change the dtype of the categorical columns to \"category\".\n",
    "\n",
    "**Important Note:** We have to be aware that the columns that contain non-categorical values will still have some values that are meant to represent categories. For example, in the column `WEIGHT2`, in which each entry corresponds to the weight of the survey respondent, a value of \"7777\" represents an answer of \"Don't know/Not sure\", while a value of \"9999\" represents \"Refused (to answer)\". The details of the meaning of the codes for each of the columns are given in the codebook found in Capstone_Project_2/Data/codebook15_llcpc.pdf."
   ]
  },
  {
   "cell_type": "code",
   "execution_count": null,
   "id": "e59be4bc",
   "metadata": {
    "scrolled": false
   },
   "outputs": [],
   "source": [
    "#List of column names with \"float\" dtype\n",
    "cols_float = df2.select_dtypes(include='float').columns\n",
    "\n",
    "#List of column names that are non-categorical\n",
    "cols_non_cat = ['NUMADULT', 'NUMMEN', 'NUMWOMEN', 'HHADULT', 'PHYSHLTH', 'MENTHLTH', 'POORHLTH',\\\n",
    "                'DIABAGE2', 'NUMPHON2', 'CHILDREN', 'WEIGHT2', 'HEIGHT3', 'ALCDAY5', 'AVEDRNK2',\\\n",
    "                'DRNK3GE5', 'MAXDRNKS', 'FRUITJU1', 'FRUIT1', 'FVBEANS', 'FVGREEN', 'FVORANG',\\\n",
    "                'VEGETAB1', 'EXEROFT1', 'EXERHMM1', 'EXEROFT2', 'EXERHMM2', 'STRENGTH', 'BLDSUGAR'\\\n",
    "                , 'FEETCHK2', 'DOCTDIAB', 'CHKHEMO3', 'FEETCHK', 'LONGWTCH', 'ASTHMAGE', 'ASERVIST'\\\n",
    "                , 'ASDRVIST', 'ASRCHKUP', 'ASACTLIM', 'SCNTWRK1', 'SCNTLWK1', 'ADPLEASR', 'ADDOWN',\\\n",
    "                'ADSLEEP', 'ADENERGY', 'ADEAT1', 'ADFAIL', 'ADTHINK', 'ADMOVE', '_STSTR', '_STRWT',\\\n",
    "                '_RAWRAKE', '_WT2RAKE', '_CLLCPWT', '_DUALCOR', '_LLCPWT', '_AGE80', 'HTIN4', 'HTM4',\\\n",
    "                'WTKG3', '_BMI5', '_CHLDCNT', 'DROCDY3_', '_DRNKWEK', 'FTJUDA1_', 'FRUTDA1_', 'BEANDAY_',\\\n",
    "                'GRENDAY_', 'ORNGDAY_', 'VEGEDA1_', '_MISFRTN', '_MISVEGN', '_FRUTSUM', '_VEGESUM',\\\n",
    "                'METVL11_', 'METVL21_', 'MAXVO2_', 'FC60_', 'PADUR1_', 'PADUR2_', 'PAFREQ1_', 'PAFREQ2_',\\\n",
    "                '_MINAC11', '_MINAC21', 'STRFREQ_', 'PAMIN11_', 'PAMIN21_', 'PA1MIN_', 'PAVIG11_', 'PAVIG21_',\\\n",
    "                'PA1VIGM_']\n",
    "\n",
    "#List of column names that will be converted to \"category\" dtype. In other words, all float columns of the \n",
    "#DataFrame not in in the list cols_non_cat.\n",
    "cols_to_cat = [c for c in cols_float if c not in cols_non_cat]\n",
    "\n",
    "#This checks that no typos were made when defining \"cols_non_cat\"\n",
    "assert len(cols_float) == len(cols_non_cat) + len(cols_to_cat)"
   ]
  },
  {
   "cell_type": "code",
   "execution_count": null,
   "id": "cde1d7eb",
   "metadata": {
    "scrolled": true
   },
   "outputs": [],
   "source": [
    "df2.loc[:, cols_to_cat] = df2.loc[:, cols_to_cat].astype('category')\n",
    "df_clean = df2 #Final, cleaned DataFrame"
   ]
  },
  {
   "cell_type": "markdown",
   "id": "35fc6750",
   "metadata": {},
   "source": [
    "## 5 Description of Final Dataframe"
   ]
  },
  {
   "cell_type": "code",
   "execution_count": null,
   "id": "b636efcf",
   "metadata": {
    "scrolled": false
   },
   "outputs": [
    {
     "name": "stdout",
     "output_type": "stream",
     "text": [
      "<class 'pandas.core.frame.DataFrame'>\n",
      "RangeIndex: 441456 entries, 0 to 441455\n",
      "Columns: 326 entries, _STATE to _AIDTST3\n",
      "dtypes: category(233), datetime64[ns](1), float64(90), object(2)\n",
      "memory usage: 414.0+ MB\n"
     ]
    }
   ],
   "source": [
    "df_clean.info()"
   ]
  },
  {
   "cell_type": "markdown",
   "id": "087ef246",
   "metadata": {},
   "source": [
    "**The cleaned DataFrame has 441456 rows and 326 columns. Among the columns, one of them has datetime values, 90 of them have non-categorical values, and the remaining 233 have numeric categorical values.**"
   ]
  },
  {
   "cell_type": "code",
   "execution_count": null,
   "id": "1a1a3355",
   "metadata": {
    "scrolled": true
   },
   "outputs": [
    {
     "data": {
      "text/html": [
       "<div>\n",
       "<style scoped>\n",
       "    .dataframe tbody tr th:only-of-type {\n",
       "        vertical-align: middle;\n",
       "    }\n",
       "\n",
       "    .dataframe tbody tr th {\n",
       "        vertical-align: top;\n",
       "    }\n",
       "\n",
       "    .dataframe thead th {\n",
       "        text-align: right;\n",
       "    }\n",
       "</style>\n",
       "<table border=\"1\" class=\"dataframe\">\n",
       "  <thead>\n",
       "    <tr style=\"text-align: right;\">\n",
       "      <th></th>\n",
       "      <th>_STATE</th>\n",
       "      <th>FMONTH</th>\n",
       "      <th>IDATE</th>\n",
       "      <th>IMONTH</th>\n",
       "      <th>IDAY</th>\n",
       "      <th>IYEAR</th>\n",
       "      <th>DISPCODE</th>\n",
       "      <th>SEQNO</th>\n",
       "      <th>_PSU</th>\n",
       "      <th>CTELENUM</th>\n",
       "      <th>...</th>\n",
       "      <th>_PAREC1</th>\n",
       "      <th>_PASTAE1</th>\n",
       "      <th>_LMTACT1</th>\n",
       "      <th>_LMTWRK1</th>\n",
       "      <th>_LMTSCL1</th>\n",
       "      <th>_RFSEAT2</th>\n",
       "      <th>_RFSEAT3</th>\n",
       "      <th>_FLSHOT6</th>\n",
       "      <th>_PNEUMO2</th>\n",
       "      <th>_AIDTST3</th>\n",
       "    </tr>\n",
       "  </thead>\n",
       "  <tbody>\n",
       "    <tr>\n",
       "      <th>0</th>\n",
       "      <td>1.0</td>\n",
       "      <td>1.0</td>\n",
       "      <td>2015-01-29</td>\n",
       "      <td>1.0</td>\n",
       "      <td>29.0</td>\n",
       "      <td>2015.0</td>\n",
       "      <td>1200.0</td>\n",
       "      <td>2.015000e+09</td>\n",
       "      <td>2.015000e+09</td>\n",
       "      <td>1.0</td>\n",
       "      <td>...</td>\n",
       "      <td>4.0</td>\n",
       "      <td>2.0</td>\n",
       "      <td>1.0</td>\n",
       "      <td>1.0</td>\n",
       "      <td>1.0</td>\n",
       "      <td>1.0</td>\n",
       "      <td>1.0</td>\n",
       "      <td>NaN</td>\n",
       "      <td>NaN</td>\n",
       "      <td>1.0</td>\n",
       "    </tr>\n",
       "    <tr>\n",
       "      <th>1</th>\n",
       "      <td>1.0</td>\n",
       "      <td>1.0</td>\n",
       "      <td>2015-01-20</td>\n",
       "      <td>1.0</td>\n",
       "      <td>20.0</td>\n",
       "      <td>2015.0</td>\n",
       "      <td>1100.0</td>\n",
       "      <td>2.015000e+09</td>\n",
       "      <td>2.015000e+09</td>\n",
       "      <td>1.0</td>\n",
       "      <td>...</td>\n",
       "      <td>2.0</td>\n",
       "      <td>2.0</td>\n",
       "      <td>3.0</td>\n",
       "      <td>3.0</td>\n",
       "      <td>4.0</td>\n",
       "      <td>2.0</td>\n",
       "      <td>2.0</td>\n",
       "      <td>NaN</td>\n",
       "      <td>NaN</td>\n",
       "      <td>2.0</td>\n",
       "    </tr>\n",
       "    <tr>\n",
       "      <th>2</th>\n",
       "      <td>1.0</td>\n",
       "      <td>1.0</td>\n",
       "      <td>2015-02-01</td>\n",
       "      <td>2.0</td>\n",
       "      <td>1.0</td>\n",
       "      <td>2015.0</td>\n",
       "      <td>1200.0</td>\n",
       "      <td>2.015000e+09</td>\n",
       "      <td>2.015000e+09</td>\n",
       "      <td>1.0</td>\n",
       "      <td>...</td>\n",
       "      <td>9.0</td>\n",
       "      <td>9.0</td>\n",
       "      <td>9.0</td>\n",
       "      <td>9.0</td>\n",
       "      <td>9.0</td>\n",
       "      <td>9.0</td>\n",
       "      <td>9.0</td>\n",
       "      <td>9.0</td>\n",
       "      <td>9.0</td>\n",
       "      <td>NaN</td>\n",
       "    </tr>\n",
       "    <tr>\n",
       "      <th>3</th>\n",
       "      <td>1.0</td>\n",
       "      <td>1.0</td>\n",
       "      <td>2015-01-14</td>\n",
       "      <td>1.0</td>\n",
       "      <td>14.0</td>\n",
       "      <td>2015.0</td>\n",
       "      <td>1100.0</td>\n",
       "      <td>2.015000e+09</td>\n",
       "      <td>2.015000e+09</td>\n",
       "      <td>1.0</td>\n",
       "      <td>...</td>\n",
       "      <td>4.0</td>\n",
       "      <td>2.0</td>\n",
       "      <td>1.0</td>\n",
       "      <td>1.0</td>\n",
       "      <td>1.0</td>\n",
       "      <td>1.0</td>\n",
       "      <td>1.0</td>\n",
       "      <td>NaN</td>\n",
       "      <td>NaN</td>\n",
       "      <td>9.0</td>\n",
       "    </tr>\n",
       "    <tr>\n",
       "      <th>4</th>\n",
       "      <td>1.0</td>\n",
       "      <td>1.0</td>\n",
       "      <td>2015-01-14</td>\n",
       "      <td>1.0</td>\n",
       "      <td>14.0</td>\n",
       "      <td>2015.0</td>\n",
       "      <td>1100.0</td>\n",
       "      <td>2.015000e+09</td>\n",
       "      <td>2.015000e+09</td>\n",
       "      <td>1.0</td>\n",
       "      <td>...</td>\n",
       "      <td>4.0</td>\n",
       "      <td>2.0</td>\n",
       "      <td>1.0</td>\n",
       "      <td>1.0</td>\n",
       "      <td>1.0</td>\n",
       "      <td>1.0</td>\n",
       "      <td>1.0</td>\n",
       "      <td>NaN</td>\n",
       "      <td>NaN</td>\n",
       "      <td>1.0</td>\n",
       "    </tr>\n",
       "  </tbody>\n",
       "</table>\n",
       "<p>5 rows × 326 columns</p>\n",
       "</div>"
      ],
      "text/plain": [
       "  _STATE FMONTH      IDATE IMONTH  IDAY   IYEAR DISPCODE         SEQNO  \\\n",
       "0    1.0    1.0 2015-01-29    1.0  29.0  2015.0   1200.0  2.015000e+09   \n",
       "1    1.0    1.0 2015-01-20    1.0  20.0  2015.0   1100.0  2.015000e+09   \n",
       "2    1.0    1.0 2015-02-01    2.0   1.0  2015.0   1200.0  2.015000e+09   \n",
       "3    1.0    1.0 2015-01-14    1.0  14.0  2015.0   1100.0  2.015000e+09   \n",
       "4    1.0    1.0 2015-01-14    1.0  14.0  2015.0   1100.0  2.015000e+09   \n",
       "\n",
       "           _PSU CTELENUM  ... _PAREC1 _PASTAE1 _LMTACT1 _LMTWRK1 _LMTSCL1  \\\n",
       "0  2.015000e+09      1.0  ...     4.0      2.0      1.0      1.0      1.0   \n",
       "1  2.015000e+09      1.0  ...     2.0      2.0      3.0      3.0      4.0   \n",
       "2  2.015000e+09      1.0  ...     9.0      9.0      9.0      9.0      9.0   \n",
       "3  2.015000e+09      1.0  ...     4.0      2.0      1.0      1.0      1.0   \n",
       "4  2.015000e+09      1.0  ...     4.0      2.0      1.0      1.0      1.0   \n",
       "\n",
       "   _RFSEAT2  _RFSEAT3  _FLSHOT6 _PNEUMO2 _AIDTST3  \n",
       "0       1.0       1.0       NaN      NaN      1.0  \n",
       "1       2.0       2.0       NaN      NaN      2.0  \n",
       "2       9.0       9.0       9.0      9.0      NaN  \n",
       "3       1.0       1.0       NaN      NaN      9.0  \n",
       "4       1.0       1.0       NaN      NaN      1.0  \n",
       "\n",
       "[5 rows x 326 columns]"
      ]
     },
     "execution_count": 25,
     "metadata": {},
     "output_type": "execute_result"
    }
   ],
   "source": [
    "df_clean.head()"
   ]
  },
  {
   "cell_type": "markdown",
   "id": "a213c75c",
   "metadata": {},
   "source": [
    "## 6 Exporting the Final Dataframe and Final Remarks"
   ]
  },
  {
   "cell_type": "code",
   "execution_count": null,
   "id": "7c1bddf1",
   "metadata": {},
   "outputs": [],
   "source": [
    "path_out = '../Data/2015_clean.zip'\n",
    "df_clean.to_csv(path_out, compression='zip', index=False)"
   ]
  },
  {
   "cell_type": "markdown",
   "id": "b30e99fa",
   "metadata": {},
   "source": [
    "In this notebook, we cleaned our raw DataFrame. This involved removing unwanted characters from the only two columns that have non-numeric values, casting the column that contains dates into datetime objects, dropping four columns that are entirely empty, and changing the dtype of columns with numeric categorical values to \"category\". All in all, we have a DataFrame that contains one column with datetime object values, 90 columns with non-categorical values, and 233 columns with categorical values.\n",
    "\n",
    "In the next part of the project, I will undergo Exploratory Data Analysis (EDA) on the cleaned DataFrame, which will allow me to better understand the properties of the data in each column as well as the relationship of the data between different columns."
   ]
  }
 ],
 "metadata": {
  "kernelspec": {
   "display_name": "Python 3",
   "language": "python",
   "name": "python3"
  },
  "language_info": {
   "codemirror_mode": {
    "name": "ipython",
    "version": 3
   },
   "file_extension": ".py",
   "mimetype": "text/x-python",
   "name": "python",
   "nbconvert_exporter": "python",
   "pygments_lexer": "ipython3",
   "version": "3.10.8 (main, Nov 24 2022, 14:13:03) [GCC 11.2.0]"
  },
  "vscode": {
   "interpreter": {
    "hash": "88290e038b87e2cdb6a37058d27d18dea0a708f5e3ed04873cad7201dff76582"
   }
  }
 },
 "nbformat": 4,
 "nbformat_minor": 5
}
