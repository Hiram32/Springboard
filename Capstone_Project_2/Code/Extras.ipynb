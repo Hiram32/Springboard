{
 "cells": [
  {
   "cell_type": "code",
   "execution_count": 1,
   "id": "a2676e85",
   "metadata": {},
   "outputs": [],
   "source": [
    "skewed_features = ['NUMADULT', 'NUMMEN', 'NUMWOMEN', 'HHADULT_ALT', 'PHYSHLTH_ALT', 'MENTHLTH_ALT', \\\n",
    "                   'CHILDREN_ALT', 'ALCDAY5_ALT', 'ADPLEASR_ALT', 'ADDOWN_ALT', 'ADSLEEP_ALT', \\\n",
    "                   'ADENERGY_ALT', 'ADEAT1_ALT', 'ADFAIL_ALT', 'ADTHINK_ALT', 'ADMOVE_ALT', '_RAWRAKE', \\\n",
    "                   '_WT2RAKE', '_LLCPWT', 'WTKG3_ALT', '_BMI5', 'DROCDY3__ALT', '_DRNKWEK_ALT', \\\n",
    "                   'FTJUDA1_', 'FRUTDA1_', 'BEANDAY_', 'GRENDAY_', 'ORNGDAY_', 'VEGEDA1_', '_MISFRTN', \\\n",
    "                   '_MISVEGN', '_FRUTSUM', '_VEGESUM', 'METVL11_', 'METVL21_', 'PADUR1_', \\\n",
    "                   'PADUR2_', 'PAFREQ1__ALT', 'PAFREQ2__ALT', '_MINAC11', '_MINAC21', 'STRFREQ__ALT', \\\n",
    "                   'PAMIN11_', 'PAMIN21_', 'PA1MIN_', 'PAVIG11_', 'PAVIG21_', 'PA1VIGM_']"
   ]
  },
  {
   "cell_type": "code",
   "execution_count": null,
   "id": "b32b878f",
   "metadata": {},
   "outputs": [],
   "source": [
    "log_transformer = FunctionTransformer(lambda X: np.array(X.apply(lambda column: \\\n",
    "                      np.log(column - min(column) + 1))))"
   ]
  }
 ],
 "metadata": {
  "kernelspec": {
   "display_name": "Python 3 (ipykernel)",
   "language": "python",
   "name": "python3"
  },
  "language_info": {
   "codemirror_mode": {
    "name": "ipython",
    "version": 3
   },
   "file_extension": ".py",
   "mimetype": "text/x-python",
   "name": "python",
   "nbconvert_exporter": "python",
   "pygments_lexer": "ipython3",
   "version": "3.9.12"
  }
 },
 "nbformat": 4,
 "nbformat_minor": 5
}
