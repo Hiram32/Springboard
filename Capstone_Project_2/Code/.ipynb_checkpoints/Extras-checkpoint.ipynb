{
 "cells": [
  {
   "cell_type": "code",
   "execution_count": 12,
   "id": "480e8974",
   "metadata": {},
   "outputs": [],
   "source": [
    "for c in cols_empty:\n",
    "    print(c, (~df_full[c].isnull()).sum())import numpy as np\n",
    "import pandas as pd\n",
    "import matplotlib.pyplot as plt\n",
    "import seaborn as sns"
   ]
  },
  {
   "cell_type": "markdown",
   "id": "573efbb3",
   "metadata": {},
   "source": [
    "## Table of Contents\n",
    "* [1 Import Relevant Packages](#1-Import-Relevant-Packages)\n",
    "* [2 Load Data](#2-Load-Data)\n",
    "* [3 Basic Description of Data](#3-Basic-Description-of-Data)\n",
    "* [4 Choosing Columns to Keep](#4-Choosing-Columns-to-Keep)\n",
    "    * [4.1 Columns Selection Process](#4.1-Column-Selection-Process)\n",
    "    * [4.2 Dataframe Description After Keeping Relevant Columns](#4.2-Dataframe-Description-After-Keeping-Relevant-Columns)\n",
    "* [5 Dealing with Missing Value Redundancy](#5-Dealing-with-Missing-Value-Redundancy)\n",
    "* [6 Renaming Columns](#6-Renaming-Columns)\n",
    "* [7 Dealing with Missing Values](#7-Dealing-with-Missing-Values)\n",
    "    * [7.1 Proportion of Rows with Missing Values](#7.1-Proportion-of-Rows-with-Missing-Values)\n",
    "    * [7.2 Visualizing Relationship Between Missing Value Entries](#Visualizing-Relationship-Between-Missing-Value-Entries)\n",
    "        * [7.2.1 Bar Plot](#7.2.1-Bar-Plot)\n",
    "        * [7.2.2 Nullity Matrix](#7.2.2-Nullity-Matrix)\n",
    "        * [7.2.3 Heatmap](#7.2.3-Heatmap)\n",
    "        * [7.2.4 Dendrogram](#7.2.4-Dendrogram)\n",
    "        * [7.2.5 Count Plot for Features `Smoker_Cat` and `Heavy_Drinker`](#7.2.5-Count-Plot-for-Features-`Smoker_Cat`-and-`Heavy_Drinker`)\n",
    "        * [7.2.6 Pearson's Chi-Squared Test for the Features `Smoker_Cat` and `Heavy_Drinker`](#7.2.6-Pearson's-Chi-Squared-Test-for-the-Features-`Smoker_Cat`-and-`Heavy_Drinker`)\n",
    "    * [7.3 Removing Missing Values](#7.3-Removing-Missing-Values)\n",
    "* [8 Description of Final Dataframe](#8-Description-of-Final-Dataframe)\n",
    "* [Exporting Final Dataframe](#Exporting-Final-Dataframe)"
   ]
  },
  {
   "cell_type": "code",
   "execution_count": 13,
   "id": "0d4fdc8e",
   "metadata": {
    "scrolled": false
   },
   "outputs": [
    {
     "data": {
      "text/html": [
       "<div>\n",
       "<style scoped>\n",
       "    .dataframe tbody tr th:only-of-type {\n",
       "        vertical-align: middle;\n",
       "    }\n",
       "\n",
       "    .dataframe tbody tr th {\n",
       "        vertical-align: top;\n",
       "    }\n",
       "\n",
       "    .dataframe thead th {\n",
       "        text-align: right;\n",
       "    }\n",
       "</style>\n",
       "<table border=\"1\" class=\"dataframe\">\n",
       "  <thead>\n",
       "    <tr style=\"text-align: right;\">\n",
       "      <th></th>\n",
       "      <th>Health</th>\n",
       "      <th>Hypertension</th>\n",
       "      <th>High_Cholesterol</th>\n",
       "      <th>Age_Group</th>\n",
       "      <th>Overweight</th>\n",
       "      <th>Smoker_Cat</th>\n",
       "      <th>Heavy_Drinker</th>\n",
       "      <th>Physical_Cat</th>\n",
       "      <th>Diabetes</th>\n",
       "      <th>Sex</th>\n",
       "      <th>Race</th>\n",
       "      <th>Sample_Weights</th>\n",
       "      <th>Heart_Disease</th>\n",
       "    </tr>\n",
       "  </thead>\n",
       "  <tbody>\n",
       "    <tr>\n",
       "      <th>0</th>\n",
       "      <td>2.0</td>\n",
       "      <td>2.0</td>\n",
       "      <td>2.0</td>\n",
       "      <td>9.0</td>\n",
       "      <td>4.0</td>\n",
       "      <td>3.0</td>\n",
       "      <td>1.0</td>\n",
       "      <td>4.0</td>\n",
       "      <td>2.0</td>\n",
       "      <td>2.0</td>\n",
       "      <td>1.0</td>\n",
       "      <td>341.384853</td>\n",
       "      <td>2.0</td>\n",
       "    </tr>\n",
       "    <tr>\n",
       "      <th>1</th>\n",
       "      <td>1.0</td>\n",
       "      <td>1.0</td>\n",
       "      <td>1.0</td>\n",
       "      <td>7.0</td>\n",
       "      <td>3.0</td>\n",
       "      <td>1.0</td>\n",
       "      <td>1.0</td>\n",
       "      <td>2.0</td>\n",
       "      <td>2.0</td>\n",
       "      <td>2.0</td>\n",
       "      <td>1.0</td>\n",
       "      <td>108.060903</td>\n",
       "      <td>2.0</td>\n",
       "    </tr>\n",
       "    <tr>\n",
       "      <th>2</th>\n",
       "      <td>2.0</td>\n",
       "      <td>2.0</td>\n",
       "      <td>2.0</td>\n",
       "      <td>9.0</td>\n",
       "      <td>3.0</td>\n",
       "      <td>4.0</td>\n",
       "      <td>1.0</td>\n",
       "      <td>4.0</td>\n",
       "      <td>2.0</td>\n",
       "      <td>2.0</td>\n",
       "      <td>1.0</td>\n",
       "      <td>341.384853</td>\n",
       "      <td>2.0</td>\n",
       "    </tr>\n",
       "    <tr>\n",
       "      <th>3</th>\n",
       "      <td>2.0</td>\n",
       "      <td>1.0</td>\n",
       "      <td>1.0</td>\n",
       "      <td>9.0</td>\n",
       "      <td>2.0</td>\n",
       "      <td>4.0</td>\n",
       "      <td>1.0</td>\n",
       "      <td>4.0</td>\n",
       "      <td>2.0</td>\n",
       "      <td>2.0</td>\n",
       "      <td>1.0</td>\n",
       "      <td>258.682223</td>\n",
       "      <td>2.0</td>\n",
       "    </tr>\n",
       "    <tr>\n",
       "      <th>4</th>\n",
       "      <td>1.0</td>\n",
       "      <td>2.0</td>\n",
       "      <td>1.0</td>\n",
       "      <td>11.0</td>\n",
       "      <td>3.0</td>\n",
       "      <td>4.0</td>\n",
       "      <td>1.0</td>\n",
       "      <td>1.0</td>\n",
       "      <td>2.0</td>\n",
       "      <td>2.0</td>\n",
       "      <td>1.0</td>\n",
       "      <td>256.518591</td>\n",
       "      <td>2.0</td>\n",
       "    </tr>\n",
       "  </tbody>\n",
       "</table>\n",
       "</div>"
      ],
      "text/plain": [
       "   Health  Hypertension  High_Cholesterol  Age_Group  Overweight  Smoker_Cat  \\\n",
       "0     2.0           2.0               2.0        9.0         4.0         3.0   \n",
       "1     1.0           1.0               1.0        7.0         3.0         1.0   \n",
       "2     2.0           2.0               2.0        9.0         3.0         4.0   \n",
       "3     2.0           1.0               1.0        9.0         2.0         4.0   \n",
       "4     1.0           2.0               1.0       11.0         3.0         4.0   \n",
       "\n",
       "   Heavy_Drinker  Physical_Cat  Diabetes  Sex  Race  Sample_Weights  \\\n",
       "0            1.0           4.0       2.0  2.0   1.0      341.384853   \n",
       "1            1.0           2.0       2.0  2.0   1.0      108.060903   \n",
       "2            1.0           4.0       2.0  2.0   1.0      341.384853   \n",
       "3            1.0           4.0       2.0  2.0   1.0      258.682223   \n",
       "4            1.0           1.0       2.0  2.0   1.0      256.518591   \n",
       "\n",
       "   Heart_Disease  \n",
       "0            2.0  \n",
       "1            2.0  \n",
       "2            2.0  \n",
       "3            2.0  \n",
       "4            2.0  "
      ]
     },
     "execution_count": 13,
     "metadata": {},
     "output_type": "execute_result"
    }
   ],
   "source": [
    "path_in = '../Data/2015_clean.csv'\n",
    "df = pd.read_csv(path_in)\n",
    "df.head()"
   ]
  },
  {
   "cell_type": "code",
   "execution_count": 38,
   "id": "737e24ac",
   "metadata": {
    "scrolled": true
   },
   "outputs": [
    {
     "data": {
      "text/plain": [
       "<AxesSubplot:xlabel='Heart_Disease', ylabel='count'>"
      ]
     },
     "execution_count": 38,
     "metadata": {},
     "output_type": "execute_result"
    },
    {
     "data": {
      "image/png": "[encoded data removed]",
      "text/plain": [
       "<Figure size 432x288 with 1 Axes>"
      ]
     },
     "metadata": {
      "needs_background": "light"
     },
     "output_type": "display_data"
    }
   ],
   "source": [
    "sns.countplot(data=df, x='Heart_Disease')"
   ]
  },
  {
   "cell_type": "markdown",
   "id": "1c5a6049",
   "metadata": {},
   "source": [
    "## 4 Choosing Columns to Keep\n",
    "Only the few columns that are perceived to be useful will be kept for the rest of the analysis. According to the Centers for Disease Control and Prevention (CDC) website, it is known that Coronary Artery Disease (CAD) has the following risk factors:\n",
    "* Having hypertension\n",
    "* Having high cholesterol\n",
    "* Being overweight\n",
    "* Using tobacco products\n",
    "* Drinking alcohol excessively\n",
    "* Being physically inactive\n",
    "* Having diabetes\n",
    "\n",
    "Therefore, we only keep the relatively few columns that are related to these risk factors. Most of the columns that will be kept will use calculated variables. The kept columns are:\n",
    "* `_RFHLTH`: Adults with good or better health. \"1\" for \"Good or better health\", \"2\" for \"Fair or poor health\".\n",
    "* `_RFHYPE5`: Adults who have been told have high blood pressure. \"1\" for \"No\", \"2\" for \"Yes\".\n",
    "* `_RFCHOL`: Adults who have been told have high cholesterol. \"1\" for \"No\", \"2\" for \"Yes\".\n",
    "* `_AGEG5YR`: Age group of the respondent. Ages are binned into five different categories. For example, \"1\" corresponds to \"Age 18 to 24\".\n",
    "* `_BMI5CAT`: Weight category of respondent. There are five different categories. For example, \"1\" is \"Underweight\", \"2\" is \"Normal weight\", etc.\n",
    "* `_PACAT1`: Physical activity category. For example, \"1\" is \"Highly active\", \"2\" is \"Active\", etc.\n",
    "* `DIABETE3`: Adults that have been told have diabetes. There are six possible responses, but later these columns will be transformed into one that has \"1\" for \"No\" and \"2\" for \"Yes\".\n",
    "* `SEX`: \"1\" for \"Male\", \"2\" for \"Female\".\n",
    "* `_RACEGR3`: Race of respondents using five different categories.\n",
    "* `_LLCPWT`: The final survey weight assigned to each respondent.\n",
    "* `_MICHD`: The target feature. \"1\" if the respondent reported ever having coronary heart disease (CHD) or myocardial infarction (MI), a.k.a a heart attack."
   ]
  },
  {
   "cell_type": "markdown",
   "id": "fc2f34b2",
   "metadata": {},
   "source": [
    "### 4.1 Column Selection Process"
   ]
  },
  {
   "cell_type": "code",
   "execution_count": null,
   "id": "b2a8f0a0",
   "metadata": {},
   "outputs": [],
   "source": [
    "#List of columns to keep.\n",
    "cols_kept = ['_RFHLTH', '_RFHYPE5', '_RFCHOL', '_AGEG5YR', '_BMI5CAT', '_SMOKER3', '_RFDRHV5', \\\n",
    "          '_PACAT1', 'DIABETE3', 'SEX', '_RACEGR3', '_LLCPWT', '_MICHD']\n",
    "\n",
    "#This part of the code makes sure that no typos were made when naming the columns by checking if each\n",
    "#of the names on the previous list does indeed appear in the list of dataframe columns.\n",
    "cols_wrong = [x for x in cols_kept if x not in df_full.columns]\n",
    "if len(cols_wrong) == 0:\n",
    "    print('No problems.')\n",
    "else:\n",
    "    print('These column names are not in the dataframe:')\n",
    "    for x in wrong_cols:\n",
    "        print(x)\n",
    "\n",
    "#This is yet another check to make sure no typos were made when choosing the columns.\n",
    "bool_list = [x in df_full.columns for x in cols_wrong]\n",
    "assert all(bool_list)"
   ]
  },
  {
   "cell_type": "markdown",
   "id": "0ac9f8ce",
   "metadata": {},
   "source": [
    "### 4.2 Dataframe Description After Keeping Relevant Columns"
   ]
  },
  {
   "cell_type": "code",
   "execution_count": null,
   "id": "c6c25f3b",
   "metadata": {
    "scrolled": true
   },
   "outputs": [],
   "source": [
    "df = df_full[cols_kept]\n",
    "df.head()"
   ]
  },
  {
   "cell_type": "code",
   "execution_count": null,
   "id": "befc01cd",
   "metadata": {},
   "outputs": [],
   "source": [
    "df.shape"
   ]
  },
  {
   "cell_type": "code",
   "execution_count": null,
   "id": "897a2797",
   "metadata": {
    "scrolled": true
   },
   "outputs": [],
   "source": [
    "df.info()"
   ]
  },
  {
   "cell_type": "code",
   "execution_count": null,
   "id": "b8c49748",
   "metadata": {},
   "outputs": [],
   "source": [
    "#The following function prints out the value counts for all columns in a dataframe.\n",
    "def value_counts_cols(d_frame):\n",
    "    '''Function accepting a pandas dataframe as input and prints out the value counts of all of its columns'''\n",
    "    for c in d_frame.columns:\n",
    "        print(d_frame[c].value_counts(dropna=False).sort_index(), '\\n')"
   ]
  },
  {
   "cell_type": "code",
   "execution_count": null,
   "id": "eced03bb",
   "metadata": {},
   "outputs": [],
   "source": [
    "def value_counts_data_frame(d_frame):\n",
    "    tuples = []\n",
    "    counts = []\n",
    "    '''Function accepting a pandas dataframe as input that returns a multi-indexed dataframe containing\n",
    "    the value counts of the unique values of each column. The levels of the returned dataframe's index\n",
    "    are the column names of the input dataframe and the unique values of said column.'''\n",
    "    for c in d_frame.columns:\n",
    "        s = d_frame[c].value_counts(dropna=False).sort_index()\n",
    "        for i in s.index:\n",
    "            tuples.append((c, round(i, 1)))\n",
    "            counts.append(s[i])\n",
    "    multi_index = pd.MultiIndex.from_tuples(tuples, names=['Columns', 'Value'])\n",
    "    return pd.DataFrame(counts, index=multi_index, columns=['Counts'])"
   ]
  },
  {
   "cell_type": "code",
   "execution_count": null,
   "id": "1bf47fb7",
   "metadata": {
    "scrolled": true
   },
   "outputs": [],
   "source": [
    "#Value counts for all columns.\n",
    "value_counts_cols(df)"
   ]
  },
  {
   "cell_type": "markdown",
   "id": "d637ec6c",
   "metadata": {},
   "source": [
    "## 5 Dealing with Missing Value Redundancy\n",
    "In most of the columns that have been kept, a value of \"9\" corresponds to \"No answer\" (the \"age\" columns use instead a value of \"14\"). However, many of the entries have also been left blank. It, therefore, makes sense to change all number codes referring to \"No answer\" to NaN's in order to make dealing with null values easier."
   ]
  },
  {
   "cell_type": "code",
   "execution_count": null,
   "id": "9402f0ea",
   "metadata": {
    "scrolled": true
   },
   "outputs": [],
   "source": [
    "#Three of the columns do not use a value of \"9\" for \"No answer\". They will therefore not form part of the loop \n",
    "#that replaces the value of \"9\" for \"np.nan\".\n",
    "cols_no_age = [x for x in df.columns if x not in ['_AGEG5YR', 'DIABETE3', '_LLCPWT']]\n",
    "for c in cols_no_age:\n",
    "    df[c] = df[c].replace({9.0:np.nan})\n",
    "\n",
    "#For the age columns, it is the value of \"14\" that corresponds to \"No answer\".\n",
    "df['_AGEG5YR'] = df['_AGEG5YR'].replace({14.0:np.nan})\n",
    "\n",
    "#For the diabetes columns, the \"Yes\" and \"No\", answers are further divided into categories. For example, \"1\"\n",
    "#corresponds to \"Yes, and not pregnant\" and \"2\" corresponds to \"Yes, but pregnant\". We therefore relabel all \"Yes\"\n",
    "#answers as \"1\", all \"No\" answers as \"2\", and \"7\" and \"9\" as \"np.nan\" since they refer to \"No answer\".\n",
    "df['DIABETE3'] = df['DIABETE3'].replace({2.0:1.0, 3.0:2.0, 4.0:2.0, 7.0:np.nan, 9.0:np.nan})"
   ]
  },
  {
   "cell_type": "code",
   "execution_count": null,
   "id": "789925b1",
   "metadata": {},
   "outputs": [],
   "source": [
    "#Check value counts again after relabeling.\n",
    "value_counts_cols(df)"
   ]
  },
  {
   "cell_type": "markdown",
   "id": "30f3bb94",
   "metadata": {},
   "source": [
    "## 6 Renaming Columns\n",
    "The column names are a bit obscure, so we will change them with more informative names."
   ]
  },
  {
   "cell_type": "code",
   "execution_count": null,
   "id": "8bdbd79d",
   "metadata": {},
   "outputs": [],
   "source": [
    "col_names ={'_RFHLTH':'Health', '_RFHYPE5':'Hypertension', '_RFCHOL':'High_Cholesterol', \\\n",
    "            '_AGEG5YR':'Age_Group', '_BMI5CAT':'Overweight', '_SMOKER3':'Smoker_Cat', \\\n",
    "            '_RFDRHV5':'Heavy_Drinker', '_PACAT1':'Physical_Cat', 'DIABETE3':'Diabetes', \\\n",
    "            'SEX':'Sex', '_RACEGR3':'Race', '_LLCPWT':'Sample_Weights', '_MICHD':'Heart_Disease'}\n",
    "df = df.rename(columns=col_names)\n",
    "df"
   ]
  },
  {
   "cell_type": "markdown",
   "id": "9eaf135e",
   "metadata": {},
   "source": [
    "## 7 Dealing with Missing Values"
   ]
  },
  {
   "cell_type": "markdown",
   "id": "6e681683",
   "metadata": {},
   "source": [
    "### 7.1 Proportion of Rows with Missing Values"
   ]
  },
  {
   "cell_type": "code",
   "execution_count": null,
   "id": "8844572b",
   "metadata": {
    "scrolled": true
   },
   "outputs": [],
   "source": [
    "#Total number of columns and number of columns with no missing values.\n",
    "cols_tot = df.shape[0]\n",
    "cols_no_miss = df.dropna().shape[0]\n",
    "\n",
    "print('Total columns:', cols_tot, '\\nTotal columns with no missing values:', cols_no_miss)\n",
    "print('Fraction of columns with missing values:', round((cols_tot - cols_no_miss) / cols_tot, 2))"
   ]
  },
  {
   "cell_type": "markdown",
   "id": "ec72ed32",
   "metadata": {},
   "source": [
    "If columns with missing values are dropped, we would lose about a third of the data. However, the dataset is vast; we would still keep a total of close to 300,000 entries. Before we decide on whether this is a good idea, however, we should further explore the data to make sure there are no obvious patterns related to the missing responses."
   ]
  },
  {
   "cell_type": "markdown",
   "id": "438fb032",
   "metadata": {},
   "source": [
    "### 7.2 Visualizing Relationship Between Missing Value Entries"
   ]
  },
  {
   "cell_type": "markdown",
   "id": "001dfea2",
   "metadata": {},
   "source": [
    "#### 7.2.1 Bar Plot"
   ]
  },
  {
   "cell_type": "code",
   "execution_count": null,
   "id": "06c3b7f7",
   "metadata": {},
   "outputs": [],
   "source": [
    "msno.bar(df)\n",
    "plt.show()"
   ]
  },
  {
   "cell_type": "markdown",
   "id": "7cc7b703",
   "metadata": {},
   "source": [
    "#### 7.2.2 Nullity Matrix"
   ]
  },
  {
   "cell_type": "code",
   "execution_count": null,
   "id": "03f70e39",
   "metadata": {},
   "outputs": [],
   "source": [
    "msno.matrix(df)\n",
    "plt.show()"
   ]
  },
  {
   "cell_type": "markdown",
   "id": "ef361528",
   "metadata": {},
   "source": [
    "#### 7.2.3 Heatmap"
   ]
  },
  {
   "cell_type": "code",
   "execution_count": null,
   "id": "f631da6d",
   "metadata": {},
   "outputs": [],
   "source": [
    "msno.heatmap(df)\n",
    "plt.show()"
   ]
  },
  {
   "cell_type": "markdown",
   "id": "33583c04",
   "metadata": {},
   "source": [
    "#### 7.2.4 Dendrogram"
   ]
  },
  {
   "cell_type": "code",
   "execution_count": null,
   "id": "8c2839b1",
   "metadata": {},
   "outputs": [],
   "source": [
    "msno.dendrogram(df)\n",
    "plt.show()"
   ]
  },
  {
   "cell_type": "markdown",
   "id": "cedb395b",
   "metadata": {},
   "source": [
    "The missing values for the features `Heavy_Drinker` and `Smoker_Cat` seem to be highly correlated. Let's further explore the relationship between these two variables."
   ]
  },
  {
   "cell_type": "markdown",
   "id": "163fc4fc",
   "metadata": {},
   "source": [
    "#### 7.2.5 Count Plot for Features `Smoker_Cat` and `Heavy_Drinker`"
   ]
  },
  {
   "cell_type": "code",
   "execution_count": null,
   "id": "68b2c6e6",
   "metadata": {
    "scrolled": false
   },
   "outputs": [],
   "source": [
    "sns.countplot(x='Smoker_Cat', hue='Heavy_Drinker', data=df)\n",
    "plt.show()"
   ]
  },
  {
   "cell_type": "markdown",
   "id": "5fa088ea",
   "metadata": {},
   "source": [
    "#### 7.2.6 Pearson's Chi-Squared Test for the Features `Smoker_Cat` and `Heavy_Drinker`"
   ]
  },
  {
   "cell_type": "code",
   "execution_count": null,
   "id": "4d9a95c4",
   "metadata": {},
   "outputs": [],
   "source": [
    "#Contingency table.\n",
    "cont_tbl = pd.crosstab(df['Smoker_Cat'], df['Heavy_Drinker'])\n",
    "cont_tbl"
   ]
  },
  {
   "cell_type": "code",
   "execution_count": null,
   "id": "74e11283",
   "metadata": {
    "scrolled": true
   },
   "outputs": [],
   "source": [
    "sig_lvl = 0.95\n",
    "chi2, p_val, dof, expected = ss.chi2_contingency(cont_tbl)\n",
    "print(f'p-value: {p_val:.2f}', '\\nWe', 'can' if p_val < 1 - sig_lvl else 'cannot', f'reject the null \\\n",
    "hypothesis of the two features not having a significant relation at the {sig_lvl * 100:.0f}% level.')"
   ]
  },
  {
   "cell_type": "markdown",
   "id": "1a187560",
   "metadata": {},
   "source": [
    "### 7.3 Removing Missing Values\n",
    "When it comes to categorical data, the most common methods for dealing with missing values are to eliminate all rows with missing values or to impute the value that has the highest frequency. Since we are in a situation where the dataset is large even after removing the columns with missing values, we will adopt this method for now."
   ]
  },
  {
   "cell_type": "code",
   "execution_count": null,
   "id": "d12e8bfe",
   "metadata": {
    "scrolled": true
   },
   "outputs": [],
   "source": [
    "df = df.dropna()\n",
    "df.head()"
   ]
  }
 ],
 "metadata": {
  "kernelspec": {
   "display_name": "Python 3 (ipykernel)",
   "language": "python",
   "name": "python3"
  },
  "language_info": {
   "codemirror_mode": {
    "name": "ipython",
    "version": 3
   },
   "file_extension": ".py",
   "mimetype": "text/x-python",
   "name": "python",
   "nbconvert_exporter": "python",
   "pygments_lexer": "ipython3",
   "version": "3.9.12"
  }
 },
 "nbformat": 4,
 "nbformat_minor": 5
}
