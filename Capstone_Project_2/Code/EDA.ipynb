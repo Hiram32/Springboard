{
 "cells": [
  {
   "cell_type": "code",
   "execution_count": 1,
   "id": "13744e0b",
   "metadata": {},
   "outputs": [],
   "source": [
    "import numpy as np\n",
    "import pandas as pd"
   ]
  },
  {
   "cell_type": "code",
   "execution_count": 2,
   "id": "989238a4",
   "metadata": {},
   "outputs": [],
   "source": [
    "path_in ='../Data/2015_clean.zip'\n",
    "df_gen = pd.read_csv(path_in, compression='zip', chunksize=100000)\n",
    "df_clean = next(df_gen)"
   ]
  },
  {
   "cell_type": "code",
   "execution_count": 8,
   "id": "9fab9f4b",
   "metadata": {},
   "outputs": [
    {
     "data": {
      "text/plain": [
       "0        2015-01-29\n",
       "1        2015-01-20\n",
       "2        2015-02-01\n",
       "3        2015-01-14\n",
       "4        2015-01-14\n",
       "            ...    \n",
       "99995    2015-09-03\n",
       "99996    2015-09-10\n",
       "99997    2015-09-01\n",
       "99998    2015-10-25\n",
       "99999    2015-10-05\n",
       "Name: IDATE, Length: 100000, dtype: object"
      ]
     },
     "execution_count": 8,
     "metadata": {},
     "output_type": "execute_result"
    }
   ],
   "source": [
    "df_clean['IDATE']"
   ]
  }
 ],
 "metadata": {
  "kernelspec": {
   "display_name": "Python 3 (ipykernel)",
   "language": "python",
   "name": "python3"
  },
  "language_info": {
   "codemirror_mode": {
    "name": "ipython",
    "version": 3
   },
   "file_extension": ".py",
   "mimetype": "text/x-python",
   "name": "python",
   "nbconvert_exporter": "python",
   "pygments_lexer": "ipython3",
   "version": "3.9.12"
  }
 },
 "nbformat": 4,
 "nbformat_minor": 5
}
