{
 "cells": [
  {
   "cell_type": "code",
   "execution_count": 19,
   "id": "2ee2acda",
   "metadata": {},
   "outputs": [],
   "source": [
    "from sqlalchemy import create_engine\n",
    "import pandas as pd\n",
    "\n",
    "engine = create_engine('sqlite:///sqlite_db_pythonsqlite.db')"
   ]
  },
  {
   "cell_type": "code",
   "execution_count": 20,
   "id": "9f510de3",
   "metadata": {},
   "outputs": [],
   "source": [
    "df = pd.read_sql_query('SELECT * FROM Bookings INNER JOIN Facilities USING (facid)', engine)"
   ]
  },
  {
   "cell_type": "code",
   "execution_count": 21,
   "id": "516c7cbf",
   "metadata": {},
   "outputs": [
    {
     "name": "stdout",
     "output_type": "stream",
     "text": [
      "   bookid  facid  memid            starttime  slots            name  \\\n",
      "0       0      3      1  2012-07-03 11:00:00      2    Table Tennis   \n",
      "1       1      4      1  2012-07-03 08:00:00      2  Massage Room 1   \n",
      "2       2      6      0  2012-07-03 18:00:00      2    Squash Court   \n",
      "3       3      7      1  2012-07-03 19:00:00      2   Snooker Table   \n",
      "4       4      8      1  2012-07-03 10:00:00      1      Pool Table   \n",
      "\n",
      "   membercost  guestcost  initialoutlay  monthlymaintenance  \n",
      "0         0.0        5.0            320                  10  \n",
      "1         9.9       80.0           4000                3000  \n",
      "2         3.5       17.5           5000                  80  \n",
      "3         0.0        5.0            450                  15  \n",
      "4         0.0        5.0            400                  15  \n"
     ]
    }
   ],
   "source": [
    "print(df.head())"
   ]
  },
  {
   "cell_type": "code",
   "execution_count": null,
   "id": "300a88bb",
   "metadata": {},
   "outputs": [],
   "source": []
  }
 ],
 "metadata": {
  "kernelspec": {
   "display_name": "Python 3 (ipykernel)",
   "language": "python",
   "name": "python3"
  },
  "language_info": {
   "codemirror_mode": {
    "name": "ipython",
    "version": 3
   },
   "file_extension": ".py",
   "mimetype": "text/x-python",
   "name": "python",
   "nbconvert_exporter": "python",
   "pygments_lexer": "ipython3",
   "version": "3.9.12"
  }
 },
 "nbformat": 4,
 "nbformat_minor": 5
}
