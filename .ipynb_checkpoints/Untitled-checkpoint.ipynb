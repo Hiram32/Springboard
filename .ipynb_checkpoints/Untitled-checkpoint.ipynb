{
 "cells": [
  {
   "cell_type": "code",
   "execution_count": 1,
   "id": "0c53ed9b",
   "metadata": {},
   "outputs": [],
   "source": [
    "import numpy as np"
   ]
  },
  {
   "cell_type": "code",
   "execution_count": 6,
   "id": "bff44827",
   "metadata": {},
   "outputs": [
    {
     "name": "stdout",
     "output_type": "stream",
     "text": [
      "Help on built-in function randint:\n",
      "\n",
      "randint(...) method of numpy.random.mtrand.RandomState instance\n",
      "    randint(low, high=None, size=None, dtype=int)\n",
      "    \n",
      "    Return random integers from `low` (inclusive) to `high` (exclusive).\n",
      "    \n",
      "    Return random integers from the \"discrete uniform\" distribution of\n",
      "    the specified dtype in the \"half-open\" interval [`low`, `high`). If\n",
      "    `high` is None (the default), then results are from [0, `low`).\n",
      "    \n",
      "    .. note::\n",
      "        New code should use the ``integers`` method of a ``default_rng()``\n",
      "        instance instead; please see the :ref:`random-quick-start`.\n",
      "    \n",
      "    Parameters\n",
      "    ----------\n",
      "    low : int or array-like of ints\n",
      "        Lowest (signed) integers to be drawn from the distribution (unless\n",
      "        ``high=None``, in which case this parameter is one above the\n",
      "        *highest* such integer).\n",
      "    high : int or array-like of ints, optional\n",
      "        If provided, one above the largest (signed) integer to be drawn\n",
      "        from the distribution (see above for behavior if ``high=None``).\n",
      "        If array-like, must contain integer values\n",
      "    size : int or tuple of ints, optional\n",
      "        Output shape.  If the given shape is, e.g., ``(m, n, k)``, then\n",
      "        ``m * n * k`` samples are drawn.  Default is None, in which case a\n",
      "        single value is returned.\n",
      "    dtype : dtype, optional\n",
      "        Desired dtype of the result. Byteorder must be native.\n",
      "        The default value is int.\n",
      "    \n",
      "        .. versionadded:: 1.11.0\n",
      "    \n",
      "    Returns\n",
      "    -------\n",
      "    out : int or ndarray of ints\n",
      "        `size`-shaped array of random integers from the appropriate\n",
      "        distribution, or a single such random int if `size` not provided.\n",
      "    \n",
      "    See Also\n",
      "    --------\n",
      "    random_integers : similar to `randint`, only for the closed\n",
      "        interval [`low`, `high`], and 1 is the lowest value if `high` is\n",
      "        omitted.\n",
      "    Generator.integers: which should be used for new code.\n",
      "    \n",
      "    Examples\n",
      "    --------\n",
      "    >>> np.random.randint(2, size=10)\n",
      "    array([1, 0, 0, 0, 1, 1, 0, 0, 1, 0]) # random\n",
      "    >>> np.random.randint(1, size=10)\n",
      "    array([0, 0, 0, 0, 0, 0, 0, 0, 0, 0])\n",
      "    \n",
      "    Generate a 2 x 4 array of ints between 0 and 4, inclusive:\n",
      "    \n",
      "    >>> np.random.randint(5, size=(2, 4))\n",
      "    array([[4, 0, 2, 1], # random\n",
      "           [3, 2, 2, 0]])\n",
      "    \n",
      "    Generate a 1 x 3 array with 3 different upper bounds\n",
      "    \n",
      "    >>> np.random.randint(1, [3, 5, 10])\n",
      "    array([2, 2, 9]) # random\n",
      "    \n",
      "    Generate a 1 by 3 array with 3 different lower bounds\n",
      "    \n",
      "    >>> np.random.randint([1, 5, 7], 10)\n",
      "    array([9, 8, 7]) # random\n",
      "    \n",
      "    Generate a 2 by 4 array using broadcasting with dtype of uint8\n",
      "    \n",
      "    >>> np.random.randint([1, 3, 5, 7], [[10], [20]], dtype=np.uint8)\n",
      "    array([[ 8,  6,  9,  7], # random\n",
      "           [ 1, 16,  9, 12]], dtype=uint8)\n",
      "\n"
     ]
    }
   ],
   "source": []
  },
  {
   "cell_type": "code",
   "execution_count": 17,
   "id": "7a5eab79",
   "metadata": {},
   "outputs": [
    {
     "data": {
      "text/plain": [
       "array([2, 2, 4, 1, 0])"
      ]
     },
     "execution_count": 17,
     "metadata": {},
     "output_type": "execute_result"
    }
   ],
   "source": [
    "A = np.random.randint(5, size=5)\n",
    "A"
   ]
  },
  {
   "cell_type": "code",
   "execution_count": 29,
   "id": "123c691c",
   "metadata": {},
   "outputs": [
    {
     "data": {
      "text/plain": [
       "array([9, 9, 5, 9, 8, 5, 9, 7, 7, 5])"
      ]
     },
     "execution_count": 29,
     "metadata": {},
     "output_type": "execute_result"
    }
   ],
   "source": [
    "B = np.random.randint(5, 10, size = 10)\n",
    "B"
   ]
  },
  {
   "cell_type": "code",
   "execution_count": 30,
   "id": "70e899d4",
   "metadata": {},
   "outputs": [
    {
     "data": {
      "text/plain": [
       "array([2, 2, 4, 1, 0, 9, 9, 5, 9, 8, 5, 9, 7, 7, 5])"
      ]
     },
     "execution_count": 30,
     "metadata": {},
     "output_type": "execute_result"
    }
   ],
   "source": [
    "AB = np.concatenate((A, B))\n",
    "AB"
   ]
  },
  {
   "cell_type": "code",
   "execution_count": 31,
   "id": "2f789107",
   "metadata": {},
   "outputs": [
    {
     "data": {
      "text/plain": [
       "5.466666666666667"
      ]
     },
     "execution_count": 31,
     "metadata": {},
     "output_type": "execute_result"
    }
   ],
   "source": [
    "ave_p = np.mean(AB)\n",
    "ave_p"
   ]
  },
  {
   "cell_type": "code",
   "execution_count": 32,
   "id": "dd05fe72",
   "metadata": {},
   "outputs": [
    {
     "data": {
      "text/plain": [
       "5.18"
      ]
     },
     "execution_count": 32,
     "metadata": {},
     "output_type": "execute_result"
    }
   ],
   "source": [
    "ave_s_no_srat = np.sum(np.random.choice(AB, size=100)) / 100\n",
    "ave_s_no_srat"
   ]
  },
  {
   "cell_type": "code",
   "execution_count": 36,
   "id": "e51d5e41",
   "metadata": {},
   "outputs": [],
   "source": [
    "strat_samp = [np.random.choice(A) if x < 0.5 else np.random.choice(B) for x in np.random.rand(100)]"
   ]
  },
  {
   "cell_type": "code",
   "execution_count": null,
   "id": "c2231a98",
   "metadata": {},
   "outputs": [],
   "source": []
  },
  {
   "cell_type": "code",
   "execution_count": 37,
   "id": "64b46913",
   "metadata": {},
   "outputs": [
    {
     "data": {
      "text/plain": [
       "3.99"
      ]
     },
     "execution_count": 37,
     "metadata": {},
     "output_type": "execute_result"
    }
   ],
   "source": [
    "sum(srat_samp) / 100"
   ]
  },
  {
   "cell_type": "code",
   "execution_count": 38,
   "id": "a41acbbf",
   "metadata": {},
   "outputs": [],
   "source": [
    "w_A = 10\n",
    "w_B = 20"
   ]
  },
  {
   "cell_type": "code",
   "execution_count": 41,
   "id": "64354057",
   "metadata": {},
   "outputs": [
    {
     "data": {
      "text/plain": [
       "[180,\n",
       " 20,\n",
       " 100,\n",
       " 100,\n",
       " 180,\n",
       " 180,\n",
       " 40,\n",
       " 20,\n",
       " 10,\n",
       " 180,\n",
       " 10,\n",
       " 20,\n",
       " 0,\n",
       " 180,\n",
       " 100,\n",
       " 0,\n",
       " 140,\n",
       " 100,\n",
       " 20,\n",
       " 180,\n",
       " 0,\n",
       " 0,\n",
       " 20,\n",
       " 100,\n",
       " 20,\n",
       " 40,\n",
       " 140,\n",
       " 180,\n",
       " 100,\n",
       " 40,\n",
       " 140,\n",
       " 20,\n",
       " 180,\n",
       " 40,\n",
       " 0,\n",
       " 40,\n",
       " 180,\n",
       " 140,\n",
       " 10,\n",
       " 10,\n",
       " 140,\n",
       " 10,\n",
       " 20,\n",
       " 180,\n",
       " 160,\n",
       " 40,\n",
       " 180,\n",
       " 20,\n",
       " 0,\n",
       " 40,\n",
       " 160,\n",
       " 20,\n",
       " 100,\n",
       " 10,\n",
       " 20,\n",
       " 140,\n",
       " 20,\n",
       " 100,\n",
       " 20,\n",
       " 0,\n",
       " 10,\n",
       " 160,\n",
       " 0,\n",
       " 40,\n",
       " 100,\n",
       " 140,\n",
       " 140,\n",
       " 10,\n",
       " 140,\n",
       " 100,\n",
       " 20,\n",
       " 100,\n",
       " 180,\n",
       " 100,\n",
       " 180,\n",
       " 160,\n",
       " 100,\n",
       " 100,\n",
       " 160,\n",
       " 180,\n",
       " 20,\n",
       " 100,\n",
       " 20,\n",
       " 20,\n",
       " 140,\n",
       " 140,\n",
       " 180,\n",
       " 40,\n",
       " 100,\n",
       " 40,\n",
       " 20,\n",
       " 0,\n",
       " 10,\n",
       " 180,\n",
       " 0,\n",
       " 20,\n",
       " 140,\n",
       " 140,\n",
       " 140,\n",
       " 140]"
      ]
     },
     "execution_count": 41,
     "metadata": {},
     "output_type": "execute_result"
    }
   ],
   "source": [
    "strat_w_samp = [x * w_A if x in A else x * w_B for x in strat_samp]\n",
    "strat_w_samp"
   ]
  }
 ],
 "metadata": {
  "kernelspec": {
   "display_name": "Python 3 (ipykernel)",
   "language": "python",
   "name": "python3"
  },
  "language_info": {
   "codemirror_mode": {
    "name": "ipython",
    "version": 3
   },
   "file_extension": ".py",
   "mimetype": "text/x-python",
   "name": "python",
   "nbconvert_exporter": "python",
   "pygments_lexer": "ipython3",
   "version": "3.9.12"
  }
 },
 "nbformat": 4,
 "nbformat_minor": 5
}
