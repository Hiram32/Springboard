{
 "cells": [
  {
   "cell_type": "markdown",
   "metadata": {},
   "source": [
    "# Frequentist Inference Case Study - Part B"
   ]
  },
  {
   "cell_type": "markdown",
   "metadata": {},
   "source": [
    "## Learning objectives"
   ]
  },
  {
   "cell_type": "markdown",
   "metadata": {},
   "source": [
    "Welcome to Part B of the Frequentist inference case study! The purpose of this case study is to help you apply the concepts associated with Frequentist inference in Python. In particular, you'll practice writing Python code to apply the following statistical concepts: \n",
    "* the _z_-statistic\n",
    "* the _t_-statistic\n",
    "* the difference and relationship between the two\n",
    "* the Central Limit Theorem, including its assumptions and consequences\n",
    "* how to estimate the population mean and standard deviation from a sample\n",
    "* the concept of a sampling distribution of a test statistic, particularly for the mean\n",
    "* how to combine these concepts to calculate a confidence interval"
   ]
  },
  {
   "cell_type": "markdown",
   "metadata": {},
   "source": [
    "In the previous notebook, we used only data from a known normal distribution. **You'll now tackle real data, rather than simulated data, and answer some relevant real-world business problems using the data.**"
   ]
  },
  {
   "cell_type": "markdown",
   "metadata": {},
   "source": [
    "## Hospital medical charges"
   ]
  },
  {
   "cell_type": "markdown",
   "metadata": {},
   "source": [
    "Imagine that a hospital has hired you as their data scientist. An administrator is working on the hospital's business operations plan and needs you to help them answer some business questions. \n",
    "\n",
    "In this assignment notebook, you're going to use frequentist statistical inference on a data sample to answer the questions:\n",
    "* has the hospital's revenue stream fallen below a key threshold?\n",
    "* are patients with insurance really charged different amounts than those without?\n",
    "\n",
    "Answering that last question with a frequentist approach makes some assumptions, and requires some knowledge, about the two groups."
   ]
  },
  {
   "cell_type": "markdown",
   "metadata": {},
   "source": [
    "We are going to use some data on medical charges obtained from [Kaggle](https://www.kaggle.com/easonlai/sample-insurance-claim-prediction-dataset). \n",
    "\n",
    "For the purposes of this exercise, assume the observations are the result of random sampling from our single hospital. Recall that in the previous assignment, we introduced the Central Limit Theorem (CLT), and its consequence that the distributions of sample statistics approach a normal distribution as $n$ increases. The amazing thing about this is that it applies to the sampling distributions of statistics that have been calculated from even highly non-normal distributions of data! Recall, also, that hypothesis testing is very much based on making inferences about such sample statistics. You're going to rely heavily on the CLT to apply frequentist (parametric) tests to answer the questions in this notebook."
   ]
  },
  {
   "cell_type": "code",
   "execution_count": 1,
   "metadata": {},
   "outputs": [],
   "source": [
    "import pandas as pd\n",
    "import numpy as np\n",
    "import matplotlib.pyplot as plt\n",
    "from scipy.stats import t\n",
    "from numpy.random import seed\n",
    "medical = pd.read_csv('insurance2.csv')"
   ]
  },
  {
   "cell_type": "code",
   "execution_count": 2,
   "metadata": {},
   "outputs": [
    {
     "data": {
      "text/plain": [
       "(1338, 8)"
      ]
     },
     "execution_count": 2,
     "metadata": {},
     "output_type": "execute_result"
    }
   ],
   "source": [
    "medical.shape"
   ]
  },
  {
   "cell_type": "code",
   "execution_count": 3,
   "metadata": {},
   "outputs": [
    {
     "data": {
      "text/html": [
       "<div>\n",
       "<style scoped>\n",
       "    .dataframe tbody tr th:only-of-type {\n",
       "        vertical-align: middle;\n",
       "    }\n",
       "\n",
       "    .dataframe tbody tr th {\n",
       "        vertical-align: top;\n",
       "    }\n",
       "\n",
       "    .dataframe thead th {\n",
       "        text-align: right;\n",
       "    }\n",
       "</style>\n",
       "<table border=\"1\" class=\"dataframe\">\n",
       "  <thead>\n",
       "    <tr style=\"text-align: right;\">\n",
       "      <th></th>\n",
       "      <th>age</th>\n",
       "      <th>sex</th>\n",
       "      <th>bmi</th>\n",
       "      <th>children</th>\n",
       "      <th>smoker</th>\n",
       "      <th>region</th>\n",
       "      <th>charges</th>\n",
       "      <th>insuranceclaim</th>\n",
       "    </tr>\n",
       "  </thead>\n",
       "  <tbody>\n",
       "    <tr>\n",
       "      <th>0</th>\n",
       "      <td>19</td>\n",
       "      <td>0</td>\n",
       "      <td>27.900</td>\n",
       "      <td>0</td>\n",
       "      <td>1</td>\n",
       "      <td>3</td>\n",
       "      <td>16884.92400</td>\n",
       "      <td>1</td>\n",
       "    </tr>\n",
       "    <tr>\n",
       "      <th>1</th>\n",
       "      <td>18</td>\n",
       "      <td>1</td>\n",
       "      <td>33.770</td>\n",
       "      <td>1</td>\n",
       "      <td>0</td>\n",
       "      <td>2</td>\n",
       "      <td>1725.55230</td>\n",
       "      <td>1</td>\n",
       "    </tr>\n",
       "    <tr>\n",
       "      <th>2</th>\n",
       "      <td>28</td>\n",
       "      <td>1</td>\n",
       "      <td>33.000</td>\n",
       "      <td>3</td>\n",
       "      <td>0</td>\n",
       "      <td>2</td>\n",
       "      <td>4449.46200</td>\n",
       "      <td>0</td>\n",
       "    </tr>\n",
       "    <tr>\n",
       "      <th>3</th>\n",
       "      <td>33</td>\n",
       "      <td>1</td>\n",
       "      <td>22.705</td>\n",
       "      <td>0</td>\n",
       "      <td>0</td>\n",
       "      <td>1</td>\n",
       "      <td>21984.47061</td>\n",
       "      <td>0</td>\n",
       "    </tr>\n",
       "    <tr>\n",
       "      <th>4</th>\n",
       "      <td>32</td>\n",
       "      <td>1</td>\n",
       "      <td>28.880</td>\n",
       "      <td>0</td>\n",
       "      <td>0</td>\n",
       "      <td>1</td>\n",
       "      <td>3866.85520</td>\n",
       "      <td>1</td>\n",
       "    </tr>\n",
       "  </tbody>\n",
       "</table>\n",
       "</div>"
      ],
      "text/plain": [
       "   age  sex     bmi  children  smoker  region      charges  insuranceclaim\n",
       "0   19    0  27.900         0       1       3  16884.92400               1\n",
       "1   18    1  33.770         1       0       2   1725.55230               1\n",
       "2   28    1  33.000         3       0       2   4449.46200               0\n",
       "3   33    1  22.705         0       0       1  21984.47061               0\n",
       "4   32    1  28.880         0       0       1   3866.85520               1"
      ]
     },
     "execution_count": 3,
     "metadata": {},
     "output_type": "execute_result"
    }
   ],
   "source": [
    "medical.head()"
   ]
  },
  {
   "cell_type": "markdown",
   "metadata": {},
   "source": [
    "__Q1:__ Plot the histogram of charges and calculate the mean and standard deviation. Comment on the appropriateness of these statistics for the data."
   ]
  },
  {
   "cell_type": "markdown",
   "metadata": {},
   "source": [
    "__A:__ The patient charges are clearly not normally distributed. However, due to the Central Limit Theorem, the mean of the charges closely follows a normal distribution."
   ]
  },
  {
   "cell_type": "code",
   "execution_count": 4,
   "metadata": {},
   "outputs": [
    {
     "name": "stdout",
     "output_type": "stream",
     "text": [
      "Mean Charges: 13270.42\n",
      "Standard Deviation of Charges: 12110.01\n",
      "Standard Deviation of the Mean: 331.07\n"
     ]
    },
    {
     "data": {
      "image/png": "[encoded data removed]",
      "text/plain": [
       "<Figure size 432x288 with 1 Axes>"
      ]
     },
     "metadata": {
      "needs_background": "light"
     },
     "output_type": "display_data"
    }
   ],
   "source": [
    "n_samples = medical.shape[0]\n",
    "mean_charges = medical['charges'].mean()\n",
    "std_charges = medical['charges'].std(ddof=1)\n",
    "std_mean_charges = std_charges / np.sqrt(n_samples)\n",
    "print(f'Mean Charges: {mean_charges:0.2f}')\n",
    "print(f'Standard Deviation of Charges: {std_charges:0.2f}')\n",
    "print(f'Standard Deviation of the Mean: {std_mean_charges:0.2f}')\n",
    "\n",
    "plt.hist(medical['charges'], bins=20)\n",
    "plt.xlabel('Charges')\n",
    "plt.ylabel('Number of Patients')\n",
    "plt.axvline(mean_charges, color='r', linestyle='--', label = 'Mean')\n",
    "plt.legend()\n",
    "plt.title('Patients Charges')\n",
    "plt.show()"
   ]
  },
  {
   "cell_type": "markdown",
   "metadata": {},
   "source": [
    "__Q2:__ The administrator is concerned that the actual average charge has fallen below 12,000, threatening the hospital's operational model. On the assumption that these data represent a random sample of charges, how would you justify that these data allow you to answer that question? And what would be the most appropriate frequentist test, of the ones discussed so far, to apply?"
   ]
  },
  {
   "cell_type": "markdown",
   "metadata": {},
   "source": [
    "__A:__ In this case, the administrator suspects that the true mean for the charges of the hospital is significantly different from our estimate. Therefore, we can take as our null hypothesis that the population mean really is 12,000. Under this hypothesis, we can calculate the probability of obtaining a value of at least 13270.42 (our sample mean). If this probability is less than 5%, we can reject the null hypothesis at the 95% confidence level. "
   ]
  },
  {
   "cell_type": "markdown",
   "metadata": {},
   "source": [
    "__Q3:__ Given the nature of the administrator's concern, what is the appropriate confidence interval in this case? A ***one-sided*** or ***two-sided*** interval? (Refresh your understanding of this concept on p. 399 of the *AoS*). Calculate the critical value and the relevant 95% confidence interval for the mean, and comment on whether the administrator should be concerned."
   ]
  },
  {
   "cell_type": "markdown",
   "metadata": {},
   "source": [
    "__A:__ Since the null hypothesis is that the mean of the population is less than 12,000, a one-sided test should be performed. From a t-distribution with mean 12,000 and standard deviation 331.07, the critical value was found to be 12544.94."
   ]
  },
  {
   "cell_type": "code",
   "execution_count": 5,
   "metadata": {},
   "outputs": [
    {
     "data": {
      "text/plain": [
       "12544.94"
      ]
     },
     "execution_count": 5,
     "metadata": {},
     "output_type": "execute_result"
    }
   ],
   "source": [
    "crit_value = t.ppf(0.95, n_samples -1, 12000, std_mean_charges)\n",
    "round(crit_value, 2)"
   ]
  },
  {
   "cell_type": "code",
   "execution_count": 6,
   "metadata": {},
   "outputs": [
    {
     "data": {
      "text/plain": [
       "True"
      ]
     },
     "execution_count": 6,
     "metadata": {},
     "output_type": "execute_result"
    }
   ],
   "source": [
    "reject_bool = mean_charges > crit_value\n",
    "reject_bool"
   ]
  },
  {
   "cell_type": "code",
   "execution_count": 7,
   "metadata": {},
   "outputs": [
    {
     "name": "stdout",
     "output_type": "stream",
     "text": [
      "The null hypothesis of the mean charges being less or equal than 12000 can be rejected at the 95% confidence level.\n"
     ]
    }
   ],
   "source": [
    "print('The null hypothesis of the mean charges being less or equal than', 12000,\n",
    "      'can' if reject_bool else 'cannot', 'be rejected at the 95% confidence level.')"
   ]
  },
  {
   "cell_type": "markdown",
   "metadata": {},
   "source": [
    "The administrator then wants to know whether people with insurance really are charged a different amount to those without.\n",
    "\n",
    "__Q4:__ State the null and alternative hypothesis here. Use the _t_-test for the difference between means, where the pooled standard deviation of the two groups is given by:\n",
    "\\begin{equation}\n",
    "s_p = \\sqrt{\\frac{(n_0 - 1)s^2_0 + (n_1 - 1)s^2_1}{n_0 + n_1 - 2}}\n",
    "\\end{equation}\n",
    "\n",
    "and the *t*-test statistic is then given by:\n",
    "\n",
    "\\begin{equation}\n",
    "t = \\frac{\\bar{x}_0 - \\bar{x}_1}{s_p \\sqrt{1/n_0 + 1/n_1}}.\n",
    "\\end{equation}\n",
    "\n",
    "(If you need some reminding of the general definition of ***t-statistic***, check out the definition on p. 404 of *AoS*). \n",
    "\n",
    "What assumption about the variances of the two groups are we making here?"
   ]
  },
  {
   "cell_type": "markdown",
   "metadata": {},
   "source": [
    "__A:__ One of the main assumptions for a t-test for the difference of means is homogeneity of variance, i.e., the variance/standard deviation within both groups are similar."
   ]
  },
  {
   "cell_type": "markdown",
   "metadata": {},
   "source": [
    "__Q5:__ Perform this hypothesis test both manually, using the above formulae, and then using the appropriate function from [scipy.stats](https://docs.scipy.org/doc/scipy/reference/stats.html#statistical-tests) (hint, you're looking for a function to perform a _t_-test on two independent samples). For the manual approach, calculate the value of the test statistic and then its probability (the p-value). Verify you get the same results from both."
   ]
  },
  {
   "cell_type": "markdown",
   "metadata": {},
   "source": [
    "__A:__ The results from using both approaches give the same resutls: the t-statistic is 11.89, way beyond the critical value of 1.96. Therefore, we can reject the null hypothesis that the difference between the means of both groups is 0."
   ]
  },
  {
   "cell_type": "code",
   "execution_count": 8,
   "metadata": {},
   "outputs": [],
   "source": [
    "#Getting the series for each of the two groups from the medical dataframe\n",
    "mask = medical.insuranceclaim == 1\n",
    "charges_ins = medical[mask].charges.reset_index(drop=True)\n",
    "charges_no_ins = medical[~mask].charges.reset_index(drop=True)\n",
    "\n",
    "#Finding number of samples in each of the groups and verifying that they add up to the total sample size.\n",
    "n_0 = charges_ins.shape[0]\n",
    "n_1 = charges_no_ins.shape[0]\n",
    "assert n_1 + n_0 == n_samples"
   ]
  },
  {
   "cell_type": "code",
   "execution_count": 9,
   "metadata": {},
   "outputs": [
    {
     "name": "stdout",
     "output_type": "stream",
     "text": [
      "x_0: 16423.93 \n",
      "x_1: 8821.42 \n",
      "s_p: 11520.03 \n",
      "t_stat: 11.89\n"
     ]
    }
   ],
   "source": [
    "#Calculating the t-statistic for t-test of difference of means\n",
    "x_0 = charges_ins.mean()\n",
    "x_1 = charges_no_ins.mean()\n",
    "s_0_squared = charges_ins.var(ddof=1) \n",
    "s_1_squared = charges_no_ins.var(ddof=1)\n",
    "s_p = np.sqrt(((n_0 - 1) * s_0_squared + (n_1 - 1) * s_1_squared) / (n_0 + n_1 - 2))\n",
    "t_stat = (x_0 - x_1) / (s_p * np.sqrt(1 / n_0 + 1 / n_1))\n",
    "\n",
    "print('x_0: %.2f \\n\\\n",
    "x_1: %.2f \\n\\\n",
    "s_p: %.2f \\n\\\n",
    "t_stat: %.2f' % (x_0, x_1, s_p, t_stat))"
   ]
  },
  {
   "cell_type": "code",
   "execution_count": 10,
   "metadata": {},
   "outputs": [
    {
     "data": {
      "image/png": "[encoded data removed]",
      "text/plain": [
       "<Figure size 432x288 with 1 Axes>"
      ]
     },
     "metadata": {
      "needs_background": "light"
     },
     "output_type": "display_data"
    }
   ],
   "source": [
    "#Ploting histograms for both groups. \n",
    "plt.hist(charges_ins, label='With Insurance', bins=20)\n",
    "plt.hist(charges_no_ins, label='No Insurance', bins=20)\n",
    "plt.xlabel('Charges')\n",
    "plt.ylabel('Number of Patients')\n",
    "plt.axvline(x_0, label='Mean for Insurance', color='blue')\n",
    "plt.axvline(x_1, label='Mean for No Insurance', color='orange')\n",
    "plt.title('Histograms of Patient Charges for Groups With and Without Insurance')\n",
    "plt.legend();"
   ]
  },
  {
   "cell_type": "code",
   "execution_count": 11,
   "metadata": {},
   "outputs": [
    {
     "name": "stdout",
     "output_type": "stream",
     "text": [
      "t critical: 1.96\n",
      "p-value: 0.00\n",
      "For the manual test, the null hypothesis that the mean of the difference of means equals 0 can be rejected at the 95% confidence level.\n"
     ]
    }
   ],
   "source": [
    "#Calculating t-critical and p-value.\n",
    "t_crit = t.ppf(0.975, n_samples - 1) #Evaluate at 0.975 because bottom and upper tail each contains 0.025\n",
    "                                     #of the probability, for a total of 0.050.\n",
    "p_value = 2 * (1 - t.cdf(t_stat, n_samples - 1)) #Multiplied by 2 so that the are of the bottom tail is also\n",
    "                                                 #included.\n",
    "print(f't critical: {t_crit:0.2f}')\n",
    "print(f'p-value: {p_value:0.2f}')\n",
    "\n",
    "#Reject null hypothesis if t_stat lies outside of the interval [-t_crit, t_crit]\n",
    "reject_bool = t_stat > t_crit or t_stat < -1 * t_crit\n",
    "print('For the manual test, the null hypothesis that the mean of the difference of means equals 0 '\\\n",
    "     'can' if reject_bool == True else 'cannot', 'be rejected at the 95% confidence level.')"
   ]
  },
  {
   "cell_type": "code",
   "execution_count": 12,
   "metadata": {},
   "outputs": [
    {
     "name": "stdout",
     "output_type": "stream",
     "text": [
      "From scipy.stats t-test:\n",
      "t statistic: 11.89\n",
      "p-value: 4.461230e-31\n",
      "For the test using scipy, the null hypothesis that the mean of the difference of means equals 0 can be rejected at the 95% confidence level.\n"
     ]
    }
   ],
   "source": [
    "from scipy.stats import ttest_ind\n",
    "\n",
    "#By default, scipy.stats.ttest_ind performs a two-sided test.\n",
    "t_stat_scipy, p_value_scipy = ttest_ind(charges_ins, charges_no_ins)\n",
    "print('From scipy.stats t-test:\\nt statistic: %0.2f\\np-value: %e' % (t_stat_scipy, p_value_scipy))\n",
    "\n",
    "#Reject null hypothesis if p-value is less than 0.05\n",
    "reject_bool_scipy = p_value_scipy < 0.05\n",
    "print('For the test using scipy, the null hypothesis that the mean of the difference of means equals 0 '\\\n",
    "     'can' if reject_bool_scipy == True else 'cannot', 'be rejected at the 95% confidence level.')"
   ]
  },
  {
   "cell_type": "markdown",
   "metadata": {},
   "source": [
    "Congratulations! Hopefully you got the exact same numerical results. This shows that you correctly calculated the numbers by hand. Secondly, you used the correct function and saw that it's much easier to use. All you need to do is pass your data to it."
   ]
  },
  {
   "cell_type": "markdown",
   "metadata": {},
   "source": [
    "__Q6:__ Conceptual question: look through the documentation for statistical test functions in scipy.stats. You'll see the above _t_-test for a sample, but can you see an equivalent one for performing a *z*-test from a sample? Comment on your answer."
   ]
  },
  {
   "cell_type": "markdown",
   "metadata": {},
   "source": [
    "__A:__ As far as I can tell, there is no function in scipy.stats for performing a z-test (there is, however, a function for calculating the z-score). I speculate that it could be due to the fact that the z-test is the limit of the t-test as the sample size goes to infinity. A z-test would have to be performed manualy by using scipy.stats.norm.cdf."
   ]
  },
  {
   "cell_type": "markdown",
   "metadata": {},
   "source": [
    "## Learning outcomes"
   ]
  },
  {
   "cell_type": "markdown",
   "metadata": {},
   "source": [
    "Having completed this project notebook, you now have good hands-on experience:\n",
    "* using the central limit theorem to help you apply frequentist techniques to answer questions that pertain to very non-normally distributed data from the real world\n",
    "* performing inference using such data to answer business questions\n",
    "* forming a hypothesis and framing the null and alternative hypotheses\n",
    "* testing this using a _t_-test"
   ]
  }
 ],
 "metadata": {
  "kernelspec": {
   "display_name": "Python 3 (ipykernel)",
   "language": "python",
   "name": "python3"
  },
  "language_info": {
   "codemirror_mode": {
    "name": "ipython",
    "version": 3
   },
   "file_extension": ".py",
   "mimetype": "text/x-python",
   "name": "python",
   "nbconvert_exporter": "python",
   "pygments_lexer": "ipython3",
   "version": "3.9.12"
  }
 },
 "nbformat": 4,
 "nbformat_minor": 2
}
